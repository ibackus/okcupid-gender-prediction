{
 "cells": [
  {
   "cell_type": "code",
   "execution_count": 27,
   "metadata": {
    "collapsed": false
   },
   "outputs": [
    {
     "name": "stdout",
     "output_type": "stream",
     "text": [
      "The autoreload extension is already loaded. To reload it, use:\n",
      "  %reload_ext autoreload\n"
     ]
    }
   ],
   "source": [
    "%load_ext autoreload\n",
    "%autoreload 2\n",
    "%matplotlib inline\n",
    "import numpy as np\n",
    "import matplotlib.pyplot as plt\n",
    "from scipy.interpolate import interp1d\n",
    "from scipy.stats import norm as gaussian"
   ]
  },
  {
   "cell_type": "code",
   "execution_count": 274,
   "metadata": {
    "collapsed": false
   },
   "outputs": [
    {
     "data": {
      "image/png": "[encoded data removed]",
      "text/plain": [
       "<matplotlib.figure.Figure at 0x7f1111e79fd0>"
      ]
     },
     "metadata": {},
     "output_type": "display_data"
    }
   ],
   "source": [
    "\n",
    "#x = [np.random.randn(n) for n in nx]\n",
    "nx = [int(1e5), int(1.5e5)]\n",
    "x = [np.random.randn(nx[0]), np.random.rand(nx[1])]\n",
    "x[1] *= 3.\n",
    "x[1] += 1 + 0.00 * np.random.randn(len(x[1]))\n",
    "\n",
    "# nx = [int(1.5e5), int(1e5)]\n",
    "# x = [np.random.rand(nx[0]), np.random.randn(nx[1])]\n",
    "# x[0] *= 3\n",
    "# x[0] -= 4\n",
    "plt.hist(x, 100);"
   ]
  },
  {
   "cell_type": "code",
   "execution_count": 275,
   "metadata": {
    "collapsed": false
   },
   "outputs": [],
   "source": [
    "# Join together to  make  training-like data\n",
    "ypred = np.concatenate(x).flatten()\n",
    "y = np.zeros(np.sum(nx))\n",
    "y[0:nx[0]] = 0.\n",
    "y[nx[0]:] = 1.\n",
    "# Set up a classifier\n",
    "classifier = linearBinaryClassifier(y, ypred, npts=500)\n",
    "# Do classification\n",
    "classifier.setupThreshold()\n",
    "yclass = classifier.classify(ypred)"
   ]
  },
  {
   "cell_type": "code",
   "execution_count": 276,
   "metadata": {
    "collapsed": false
   },
   "outputs": [
    {
     "data": {
      "text/plain": [
       "0.089660401298702563"
      ]
     },
     "execution_count": 276,
     "metadata": {},
     "output_type": "execute_result"
    }
   ],
   "source": [
    "(yclass != y).mean()\n",
    "1 - classifier.confidence(ypred).mean()"
   ]
  },
  {
   "cell_type": "code",
   "execution_count": 265,
   "metadata": {
    "collapsed": false
   },
   "outputs": [],
   "source": [
    "from scipy.interpolate import interp1d\n",
    "\n",
    "class linearBinaryClassifier():\n",
    "    \"\"\"\n",
    "    A simple class for deciding basic classification of binary data along one dimension\n",
    "    \"\"\"\n",
    "    def __init__(self, y, ypred, npts=200):\n",
    "        \"\"\"\n",
    "        \"\"\"\n",
    "        self.npts = npts\n",
    "        self.y = y\n",
    "        mask = (y == 0)\n",
    "\n",
    "        self.ymin = ypred.min()\n",
    "        self.ymax = ypred.max()\n",
    "        \n",
    "        # Split up ypred into the 2 classes\n",
    "        self.ypred = [ypred[mask], ypred[~mask]]\n",
    "        # \n",
    "        self.ntot = len(ypred)\n",
    "        self.ny = [len(yi) for yi in self.ypred]\n",
    "        # Get spline functions for how many are less than y\n",
    "        self.ysorted = [np.sort(yi) for yi in self.ypred]\n",
    "        self.nless = [interp1d(self.ysorted[i], np.arange(self.ny[i]), kind='nearest', fill_value='extrapolate', \n",
    "                               bounds_error=False, assume_sorted=False) for i in range(2)]\n",
    "    \n",
    "    def _scaleprob(self, p, pmin):\n",
    "        \"\"\"\n",
    "        Re-scales the probabilities such that p.max() is preserved but p <= pmin goes to zero\n",
    "        \n",
    "        to avoid some edge cases, pmin >= p.max() sets pmin=0\n",
    "        \"\"\"\n",
    "        pmax = p.max()\n",
    "        if pmin >= pmax:\n",
    "            pmin = 0.\n",
    "        p = pmax * (p - pmin)/(pmax - pmin)\n",
    "        p[p < 0] = 0\n",
    "        return p\n",
    "        \n",
    "    def setupThreshold(self):\n",
    "        \"\"\"\n",
    "        setup the threshold and confidences\n",
    "        \"\"\"\n",
    "        self.yline = np.linspace(self.ymin, self.ymax, self.npts)\n",
    "        # Number of 1s less than y\n",
    "        n1lt = self.nless[1](self.yline)\n",
    "        # number of 0s greater than y\n",
    "        n0gt = self.ny[0] - self.nless[0](self.yline)\n",
    "        # Prediction error as a function of threshold\n",
    "        error = n0gt + n1lt\n",
    "        self.iThreshold = error.argmin()\n",
    "        self.threshold = self.yline[self.iThreshold]\n",
    "        # approx prob (really the CDF) of being in 1\n",
    "        prob1 = n1lt/(n1lt + n0gt)\n",
    "        prob = [1-prob1, prob1]\n",
    "        # Rescale to get the 'confidence'\n",
    "        i0 = self.iThreshold\n",
    "        i1 = min(self.npts-1, i0+1)\n",
    "        boundaryProbs = [0.5 * (probi[i0] + probi[i1]) for probi in prob]\n",
    "        conf = [self._scaleprob(prob[i], boundaryProbs[i]) for i in range(2)]\n",
    "        # Set up confidence splines\n",
    "        self.conf = [interp1d(self.yline, confi, kind='nearest', fill_value='extrapolate', bounds_error=False) \\\n",
    "                     for confi in conf]\n",
    "        \n",
    "        self._prob = prob\n",
    "        self._confarrays = conf\n",
    "        self._error = error\n",
    "        \n",
    "    def classify(self, ypred):\n",
    "        \"\"\"\n",
    "        classify ypred.  ypred > self.threshold gives 1, else gives 0\n",
    "        \"\"\"\n",
    "        ypred = np.asarray(ypred)\n",
    "        yclass = np.zeros(ypred.shape)\n",
    "        yclass[ypred > self.threshold] = 1\n",
    "        return yclass\n",
    "    \n",
    "    def confidence(self, ypred):\n",
    "        \"\"\"\n",
    "        Assign a confidence of the classification of ypred\n",
    "        \"\"\"\n",
    "        ypred = np.asarray(ypred)\n",
    "        yclass = self.classify(ypred)\n",
    "        conf = np.zeros(ypred.shape)\n",
    "        mask = (yclass == 0)\n",
    "        conf[mask] = self.conf[0](ypred[mask])\n",
    "        conf[~mask] = self.conf[1](ypred[~mask])\n",
    "        return conf\n",
    "    \n",
    "        "
   ]
  },
  {
   "cell_type": "code",
   "execution_count": 114,
   "metadata": {
    "collapsed": false,
    "scrolled": true
   },
   "outputs": [
    {
     "name": "stdout",
     "output_type": "stream",
     "text": [
      "3.39775409992 3.2786796186\n"
     ]
    },
    {
     "data": {
      "text/plain": [
       "<matplotlib.legend.Legend at 0x7f1112b8d410>"
      ]
     },
     "execution_count": 114,
     "metadata": {},
     "output_type": "execute_result"
    },
    {
     "data": {
      "image/png": "[encoded data removed]",
      "text/plain": [
       "<matplotlib.figure.Figure at 0x7f1112c22ed0>"
      ]
     },
     "metadata": {},
     "output_type": "display_data"
    }
   ],
   "source": [
    "xmin = min([xi.min() for xi in x])\n",
    "xmax = max([xi.max() for xi in x])\n",
    "xline = np.linspace(xmin, xmax,1000)\n",
    "# Prediction error as a function of threshold\n",
    "error = nx[0] - nless[0](xline) + nless[1](xline);\n",
    "# prob. of being in 1 vs x\n",
    "n1lt = nless[1](xline)\n",
    "n0gt = nx[0] - nless[0](xline)\n",
    "prob1 = n1lt/(n1lt + n0gt)\n",
    "# Thresholds from error and prob1\n",
    "threshold1 = xline[error.argmin()]\n",
    "threshold2 = xline[abs(prob1-0.5).argmin()]\n",
    "print threshold1, threshold2\n",
    "# get confidence of being in class 1\n",
    "p1max = prob1.max()\n",
    "p1min = prob1[error.argmin()]\n",
    "confidence1 = p1max * (prob1 - p1min)/(p1max - p1min)\n",
    "confidence1[confidence1 < 0] = 0.\n",
    "# Get confidence of being in class 0\n",
    "prob0 = 1 - prob1\n",
    "p0max = prob0.max()\n",
    "p0min = prob0[error.argmin()]\n",
    "confidence0 = p0max * (prob0 - p0min)/(p0max - p0min)\n",
    "confidence0[confidence0 < 0] = 0.\n",
    "plt.plot(xline, confidence1, xline, confidence0)\n",
    "plt.legend(['class1, class0'])"
   ]
  },
  {
   "cell_type": "code",
   "execution_count": 51,
   "metadata": {
    "collapsed": false
   },
   "outputs": [
    {
     "name": "stdout",
     "output_type": "stream",
     "text": [
      "[-397.24929939037997, 0.38748050584882443]\n"
     ]
    }
   ],
   "source": [
    "# Classification by assuming gaussians\n",
    "# Distribution parameters\n",
    "mu = [xi.mean() for xi in x]\n",
    "sigma = [xi.std() for xi in x]\n",
    "# Find where the probability of being in either dist is equal (weighted by the number of data points in each?)\n",
    "a = (sigma[0]**2 - sigma[1]**2)\n",
    "b = -2 * ((sigma[0]**2)*mu[1] + (sigma[1]**2) * mu[0])\n",
    "c = (sigma[0]**2) * (mu[1]**2) - (sigma[1]**2) * (mu[0]**2) - (sigma[0]**2) * (sigma[1]**2) * np.log(nx[1]*sigma[0]/(nx[0]*sigma[1]))\n",
    "\n",
    "thresholds = [(-b + np.sqrt(b**2 - 4 * a * c))/(2*a), (-b - np.sqrt(b**2 - 4 * a * c))/(2*a)]\n",
    "print thresholds"
   ]
  },
  {
   "cell_type": "code",
   "execution_count": null,
   "metadata": {
    "collapsed": true
   },
   "outputs": [],
   "source": []
  }
 ],
 "metadata": {
  "kernelspec": {
   "display_name": "Python 2",
   "language": "python",
   "name": "python2"
  },
  "language_info": {
   "codemirror_mode": {
    "name": "ipython",
    "version": 2
   },
   "file_extension": ".py",
   "mimetype": "text/x-python",
   "name": "python",
   "nbconvert_exporter": "python",
   "pygments_lexer": "ipython2",
   "version": "2.7.12"
  }
 },
 "nbformat": 4,
 "nbformat_minor": 1
}
