{
 "cells": [
  {
   "cell_type": "markdown",
   "metadata": {},
   "source": [
    "## Init"
   ]
  },
  {
   "cell_type": "code",
   "execution_count": 351,
   "metadata": {
    "collapsed": false
   },
   "outputs": [
    {
     "name": "stdout",
     "output_type": "stream",
     "text": [
      "The autoreload extension is already loaded. To reload it, use:\n",
      "  %reload_ext autoreload\n"
     ]
    }
   ],
   "source": [
    "%load_ext autoreload\n",
    "%autoreload 2\n",
    "%matplotlib inline"
   ]
  },
  {
   "cell_type": "code",
   "execution_count": 352,
   "metadata": {
    "collapsed": true
   },
   "outputs": [],
   "source": [
    "# External imports\n",
    "import numpy as np\n",
    "import cPickle as pickle\n",
    "import pandas as pd\n",
    "import matplotlib.pyplot as plt\n",
    "from scipy.optimize import fmin\n",
    "# Internal imports\n",
    "import utils\n",
    "import okcupidio"
   ]
  },
  {
   "cell_type": "code",
   "execution_count": 353,
   "metadata": {
    "collapsed": false
   },
   "outputs": [],
   "source": [
    "# load data if necessary:\n",
    "df = pickle.load(open('imputed_df.p', 'r'))\n",
    "rawDF = pickle.load(open('rawdf.p'))\n",
    "filteredDF = pickle.load(open('filtered_df.p', 'r'))\n",
    "x, y, names = pickle.load(open('dataset.p'))\n",
    "xtrain, ytrain, trainInd = pickle.load(open('data_train.p', 'r'))\n",
    "xtest, ytest, testInd = pickle.load(open('data_test.p', 'r'))\n",
    "w, w0, names = pickle.load(open('regression_results.p','r'))"
   ]
  },
  {
   "cell_type": "markdown",
   "metadata": {},
   "source": [
    "# Feature Analysis"
   ]
  },
  {
   "cell_type": "code",
   "execution_count": 354,
   "metadata": {
    "collapsed": false
   },
   "outputs": [
    {
     "name": "stdout",
     "output_type": "stream",
     "text": [
      "0 1.09710062992e-09 speaks_latvian\n",
      "1 -1.16382962023e-05 speaks_serbian\n",
      "2 2.13281682121e-05 education_ph.d program\n",
      "3 5.53266859017e-05 sign_taurus\n",
      "4 -7.65594214695e-05 speaks_lisp\n",
      "5 8.14712085875e-05 speaks_georgian\n",
      "6 -8.25810210317e-05 education_law school\n",
      "7 9.42571421528e-05 diet_strictly halal\n",
      "8 0.000104942468097 diet_mostly halal\n",
      "9 0.000106935015331 speaks_catalan\n",
      "10 0.000113240991796 speaks_swahili\n",
      "11 -0.000115505077997 speaks_ukrainian\n",
      "12 -0.00014693260759 speaks_tamil\n",
      "13 -0.000151220807358 speaks_albanian\n",
      "14 -0.000173084427174 smokes_when drinking\n",
      "15 0.000198594187056 religion_agnosticism\n",
      "16 -0.000216033191015 speaks_esperanto\n",
      "17 0.00022339493242 education_working on med school\n",
      "18 0.000243581906163 sign_aries\n",
      "19 -0.000249415439822 speaks_mongolian\n",
      "20 0.000286287233539 speaks_finnish\n",
      "21 0.000304679893874 education_med school\n",
      "22 -0.000345185237712 sign_cancer\n",
      "23 0.000354184664165 sign_pisces\n",
      "24 -0.000365212338593 likes_dogs\n",
      "25 -0.000373702972664 speaks_icelandic\n",
      "26 0.00037512352536 body_type_used up\n",
      "27 -0.00038295916498 speaks_slovenian\n",
      "28 -0.000400040691458 speaks_sanskrit\n",
      "29 0.000403831466788 speaks_tibetan\n",
      "30 -0.0004168149216 diet_mostly kosher\n",
      "31 0.000443678527236 speaks_malay\n",
      "32 0.000469818084727 religion_buddhism\n",
      "33 0.000511489617122 sign_capricorn\n",
      "34 -0.000513454163678 speaks_chechen\n",
      "35 0.000517497339158 job_rather not say\n",
      "36 0.00051992948616 speaks_occitan\n",
      "37 -0.000543103921469 speaks_lithuanian\n",
      "38 0.000547925954751 speaks_slovak\n",
      "39 0.000655451906394 speaks_swedish\n",
      "40 -0.000658937871382 diet_halal\n",
      "41 0.000687972140811 sign_gemini\n",
      "42 -0.000724646234104 status_unknown\n",
      "43 0.000736236086575 speaks_welsh\n",
      "44 -0.000757720427766 speaks_german\n",
      "45 0.000806879146883 job_political / government\n",
      "46 -0.000815496783726 body_type_overweight\n",
      "47 0.000827761499805 speaks_rotuman\n",
      "48 -0.000828511295135 status_single\n",
      "49 -0.000869848011934 education_dropped out of ph.d program\n",
      "50 -0.000884653344868 sign_aquarius\n",
      "51 -0.000958361327612 speaks_afrikaans\n",
      "52 0.000966363714761 diet_strictly vegan\n",
      "53 -0.00099626544028 diet_kosher\n",
      "54 -0.00100891665499 education_dropped out of masters program\n",
      "55 0.00103553934292 sign_leo\n",
      "56 0.00104696987566 speaks_urdu\n",
      "57 0.00106149199946 diet_strictly kosher\n",
      "58 0.00109112313559 speaks_indonesian\n",
      "59 0.0011127871165 speaks_sardinian\n",
      "60 0.00112638875739 job_artistic / musical / writer\n",
      "61 0.00114083921816 speaks_bengali\n",
      "62 0.00115032658389 job_retired\n",
      "63 -0.00115424414452 speaks_norwegian\n",
      "64 -0.0011904341315 num_languages\n",
      "65 -0.00119403346596 diet_mostly other\n",
      "66 0.00119507414528 speaks_yiddish\n",
      "67 -0.00121419466387 speaks_korean\n",
      "68 0.00123657071247 speaks_bulgarian\n",
      "69 0.00124632666594 education_dropped out of med school\n",
      "70 0.00132849281537 diet_strictly other\n",
      "71 -0.00135051413374 speaks_portuguese\n",
      "72 0.00136654567395 sign_libra\n",
      "73 0.0013795726149 speaks_thai\n",
      "74 -0.0013922217436 speaks_hawaiian\n",
      "75 0.00140939045981 education_graduated from ph.d program\n",
      "76 -0.00144088712896 speaks_maori\n",
      "77 -0.00147913375805 diet_other\n",
      "78 -0.00152089543733 speaks_polish\n",
      "79 0.00154371051943 speaks_basque\n",
      "80 0.00154841493214 speaks_gujarati\n",
      "81 -0.00163320235714 education_working on law school\n",
      "82 0.00175378508819 job_unemployed\n",
      "83 0.00176000487542 speaks_greek\n",
      "84 -0.00178535448341 speaks_frisian\n",
      "85 0.00179841422529 sign_scorpio\n",
      "86 -0.00180397679616 religion_hinduism\n",
      "87 -0.00182972725171 speaks_croatian\n",
      "88 -0.00183777142165 sign_virgo\n",
      "89 0.0018428846901 ethnicity_other\n",
      "90 0.00191476542326 speaks_ancient greek\n",
      "91 -0.00192393920625 speaks_hungarian\n",
      "92 0.00195789994975 diet_anything\n",
      "93 -0.0020451685296 speaks_danish\n",
      "94 -0.00216201494099 speaks_belarusan\n",
      "95 0.00221676474889 body_type_jacked\n",
      "96 -0.00223776047366 speaks_chinese\n",
      "97 -0.00234487932692 speaks_estonian\n",
      "98 0.00242356928106 status_married\n",
      "99 -0.00249921868933 diet_vegan\n",
      "100 -0.00251928111267 ethnicity_middle eastern\n",
      "101 0.00254853882902 speaks_khmer\n",
      "102 -0.00256928918493 education_graduated from law school\n",
      "103 0.00258302676497 education_college/university\n",
      "104 0.00267535614031 body_type_skinny\n",
      "105 0.00273612807894 education_space camp\n",
      "106 -0.00274368023342 speaks_ilongo\n",
      "107 0.00280029932607 speaks_cebuano\n",
      "108 0.00280686575884 smokes_sometimes\n",
      "109 -0.00296629369463 speaks_russian\n",
      "110 0.00296875936903 education_working on space camp\n",
      "111 0.00302458941519 speaks_irish\n",
      "112 -0.00308439399264 sign_sagittarius\n",
      "113 -0.00313711997773 education_dropped out of law school\n",
      "114 0.00313800696091 speaks_armenian\n",
      "115 -0.00316577494442 ethnicity_native american\n",
      "116 0.00319737590948 education_two-year college\n",
      "117 -0.00321641556886 orientation_straight\n",
      "118 0.00323960558168 job_banking / financial / real estate\n",
      "119 0.00330752662028 speaks_breton\n",
      "120 -0.00343085772943 speaks_dutch\n",
      "121 0.00344925414336 speaks_latin\n",
      "122 0.00352738097051 smokes_yes\n",
      "123 -0.00362065707519 religion_islam\n",
      "124 0.00365946517524 education_working on high school\n",
      "125 0.00373182685049 education_graduated from med school\n",
      "126 -0.00373979167473 speaks_czech\n",
      "127 -0.00387877709747 religion_other\n",
      "128 0.00391799215451 speaks_turkish\n",
      "129 -0.00392115705195 religion_catholicism\n",
      "130 -0.00399317529558 speaks_sign language\n",
      "131 -0.0041039300887 education_masters program\n",
      "132 0.00414745732628 education_dropped out of two-year college\n",
      "133 0.00415726941385 speaks_farsi\n",
      "134 0.0042172565598 speaks_romanian\n",
      "135 0.00422666988438 speaks_other\n",
      "136 0.00432146491857 education_dropped out of space camp\n",
      "137 -0.00434167833163 speaks_italian\n",
      "138 0.00471342770227 speaks_persian\n",
      "139 0.00474513785434 education_high school\n",
      "140 0.00478313373665 education_working on ph.d program\n",
      "141 -0.00498432263632 diet_mostly vegan\n",
      "142 0.00500885640048 smokes_trying to quit\n",
      "143 -0.00503457876883 job_hospitality / travel\n",
      "144 0.00511327090882 diet_mostly anything\n",
      "145 0.00524885937601 body_type_a little extra\n",
      "146 0.00525312315798 speaks_arabic\n",
      "147 -0.00529702882237 sign_matters_it matters a lot\n",
      "148 -0.00541323195051 body_type_rather not say\n",
      "149 -0.00549938634806 has_kids\n",
      "150 -0.00554835098174 smokes_no\n",
      "151 0.00556887154659 speaks_tagalog\n",
      "152 0.005589824735 job_executive / management\n",
      "153 0.00567191918784 speaks_japanese\n",
      "154 -0.0057011302698 speaks_spanish\n",
      "155 0.00571558436182 education_graduated from space camp\n",
      "156 -0.0057402064796 job_law / legal services\n",
      "157 0.00577573371233 job_military\n",
      "158 0.00589156136081 speaks_vietnamese\n",
      "159 -0.00635992254802 speaks_english\n",
      "160 0.00639535893154 speaks_hebrew\n",
      "161 0.00648080193855 education_dropped out of high school\n",
      "162 0.00678649299518 age\n",
      "163 0.00706381809063 ethnicity_indian\n",
      "164 0.00724510054781 job_transportation\n",
      "165 0.0074309587537 speaks_hindi\n",
      "166 -0.00748992634464 job_sales / marketing / biz dev\n",
      "167 0.00749056564493 religion_judaism\n",
      "168 0.00754172274803 education_working on college/university\n",
      "169 -0.0076564511046 diet_vegetarian\n",
      "170 -0.00773479760423 status_seeing someone\n",
      "171 -0.00779659208253 education_working on masters program\n",
      "172 0.00830072647946 body_type_average\n",
      "173 0.00831330873968 status_available\n",
      "174 -0.00840857116531 diet_strictly vegetarian\n",
      "175 -0.00850032689762 religion_importance\n",
      "176 -0.00885925118167 job_student\n",
      "177 0.00888911034341 job_entertainment / media\n",
      "178 -0.00935429311046 education_graduated from college/university\n",
      "179 0.00940046314072 education_graduated from two-year college\n",
      "180 -0.0095352982163 speaks_french\n",
      "181 0.0099278734934 likes_cats\n",
      "182 0.0105025979374 education_dropped out of college/university\n",
      "183 -0.0107304954138 sign_matters_it&rsquo;s fun to think about\n",
      "184 0.0111204785594 diet_strictly anything\n",
      "185 -0.011416791823 religion_christianity\n",
      "186 0.0115792777751 speaks_c++\n",
      "187 0.0116911362937 drugs\n",
      "188 -0.0118171453775 drinks\n",
      "189 0.0121771302532 sign_matters_it doesn&rsquo;t matter\n",
      "190 0.0132045296037 religion_atheism\n",
      "191 -0.0137434454284 diet_mostly vegetarian\n",
      "192 0.0140481668781 ethnicity_pacific islander\n",
      "193 0.0142482927186 education_working on two-year college\n",
      "194 -0.0143150628695 job_other\n",
      "195 -0.015199570818 job_clerical / administrative\n",
      "196 0.0157394454867 body_type_fit\n",
      "197 -0.0159036627681 ethnicity_black\n",
      "198 0.0163022698625 education_graduated from high school\n",
      "199 0.0174278961617 job_construction / craftsmanship\n",
      "200 -0.0182778669229 has_dogs\n",
      "201 -0.0190705382787 education_graduated from masters program\n",
      "202 0.0190760877008 ethnicity_asian\n",
      "203 -0.0200326446361 job_education / academia\n",
      "204 0.0215516986064 job_science / tech / engineering\n",
      "205 -0.0217519286954 body_type_thin\n",
      "206 -0.0221053124697 job_medicine / health\n",
      "207 0.0237886462659 ethnicity_hispanic / latin\n",
      "208 0.0260456026253 orientation_gay\n",
      "209 -0.0286279967904 has_cats\n",
      "210 -0.0307447069283 orientation_bisexual\n",
      "211 -0.0345614407715 body_type_full figured\n",
      "212 0.0353019759313 job_computer / hardware / software\n",
      "213 -0.0396973974824 ethnicity_white\n",
      "214 0.0423049284121 body_type_athletic\n",
      "215 -0.070797306793 body_type_curvy\n",
      "216 0.279118980281 height\n"
     ]
    }
   ],
   "source": [
    "# Sort regression weights by importance (or lack thereof)\n",
    "iSort = abs(w.flatten()).argsort()\n",
    "wSorted = w[iSort].flatten()\n",
    "namesSorted = names[iSort]\n",
    "weightRank = {}\n",
    "for i in range(len(wSorted)):\n",
    "    print i, wSorted[i], namesSorted[i]\n",
    "    weightRank[namesSorted[i]] = i"
   ]
  },
  {
   "cell_type": "code",
   "execution_count": 355,
   "metadata": {
    "collapsed": false
   },
   "outputs": [
    {
     "name": "stdout",
     "output_type": "stream",
     "text": [
      "Average c++ speaking male fraction: 0.907488986784 +/- 0.00785395371868\n"
     ]
    }
   ],
   "source": [
    "# Speaking c++ is a predictor of being male\n",
    "cppDF = rawDF[rawDF['speaks_c++'].astype(bool)]\n",
    "mu = cppDF['sex_m'].mean()\n",
    "err = cppDF['sex_m'].std()/np.sqrt(len(cppDF))\n",
    "print 'Average c++ speaking male fraction: {0} +/- {1}'.format(mu, err)"
   ]
  },
  {
   "cell_type": "code",
   "execution_count": 356,
   "metadata": {
    "collapsed": false
   },
   "outputs": [
    {
     "data": {
      "image/png": "[encoded data removed]",
      "text/plain": [
       "<matplotlib.figure.Figure at 0x7f64d3d71a10>"
      ]
     },
     "metadata": {},
     "output_type": "display_data"
    }
   ],
   "source": [
    "bins = np.logspace(-5, -1, 30 + 1)\n",
    "plt.hist(abs(w)/abs(w).sum(), bins);\n",
    "plt.gca().set_xscale('log')\n",
    "plt.xlabel(r'Normalized feature weight ($|w_i|/\\sum|w_i|$)')\n",
    "plt.ylabel('count')\n",
    "plt.title('Feature weight distribution for regression on full feature set')\n",
    "plt.savefig('figures/feature_weight_dist.pdf')"
   ]
  },
  {
   "cell_type": "markdown",
   "metadata": {},
   "source": [
    "# Alter features"
   ]
  },
  {
   "cell_type": "code",
   "execution_count": 357,
   "metadata": {
    "collapsed": true
   },
   "outputs": [],
   "source": [
    "newFeatsDF = rawDF.copy(deep=True)"
   ]
  },
  {
   "cell_type": "code",
   "execution_count": 358,
   "metadata": {
    "collapsed": true
   },
   "outputs": [],
   "source": [
    "def dropcolumns(df, columns, verbose=True):\n",
    "    for col in columns:\n",
    "        if col in df.columns:\n",
    "            df.drop(col, 1, inplace=True)\n",
    "            if verbose:\n",
    "                print 'dropping ', col"
   ]
  },
  {
   "cell_type": "markdown",
   "metadata": {},
   "source": [
    "## Astrological signs"
   ]
  },
  {
   "cell_type": "code",
   "execution_count": 359,
   "metadata": {
    "collapsed": false
   },
   "outputs": [
    {
     "name": "stdout",
     "output_type": "stream",
     "text": [
      "fraction of responders to astrological sign:  0.815567343943\n",
      "dropping  sign_aquarius\n",
      "dropping  sign_aries\n",
      "dropping  sign_cancer\n",
      "dropping  sign_capricorn\n",
      "dropping  sign_gemini\n",
      "dropping  sign_leo\n",
      "dropping  sign_libra\n",
      "dropping  sign_pisces\n",
      "dropping  sign_sagittarius\n",
      "dropping  sign_scorpio\n",
      "dropping  sign_taurus\n",
      "dropping  sign_virgo\n"
     ]
    }
   ],
   "source": [
    "# Filter signs\n",
    "signs = [col for col in rawDF.columns if col[0:5] == 'sign_']\n",
    "signs = [col for col in signs if 'matters' not in col]\n",
    "# print signs\n",
    "signDF = rawDF[signs]\n",
    "signResponse = np.zeros(rawDF.shape[0], dtype=bool)\n",
    "mask = signDF[signs[0]].notnull().values\n",
    "signResponse[mask] = True\n",
    "# Drop signs\n",
    "print 'fraction of responders to astrological sign: ', signResponse.mean()\n",
    "dropcolumns(newFeatsDF, signs)\n",
    "# Include responses\n",
    "newFeatsDF['sign_responded'] = signResponse.astype(float)"
   ]
  },
  {
   "cell_type": "markdown",
   "metadata": {},
   "source": [
    "## Language"
   ]
  },
  {
   "cell_type": "code",
   "execution_count": 360,
   "metadata": {
    "collapsed": false
   },
   "outputs": [],
   "source": [
    "languages = [col for col in rawDF.columns if 'speaks_' in col]\n",
    "# print languages\n",
    "languageDF = rawDF[languages]\n",
    "# Remove speaks c++ (which is a predictor of being male)\n",
    "languages.remove('speaks_c++')\n",
    "english = languageDF['speaks_english']\n",
    "numlang = languageDF.sum(axis=1)\n",
    "languages.remove('speaks_english')\n",
    "dropcolumns(newFeatsDF, languages, verbose=False)\n",
    "newFeatsDF['num_languages'] = numlang"
   ]
  },
  {
   "cell_type": "code",
   "execution_count": 361,
   "metadata": {
    "collapsed": false
   },
   "outputs": [
    {
     "data": {
      "image/png": "[encoded data removed]",
      "text/plain": [
       "<matplotlib.figure.Figure at 0x7f64d3b24690>"
      ]
     },
     "metadata": {},
     "output_type": "display_data"
    }
   ],
   "source": [
    "newFeatsDF['num_languages'].hist()\n",
    "plt.xlabel('number of spoken languages')\n",
    "plt.ylabel('count')\n",
    "plt.title('Distribution of languages spoken')\n",
    "plt.savefig('figures/num_langs_dist.pdf')"
   ]
  },
  {
   "cell_type": "markdown",
   "metadata": {},
   "source": [
    "## Education"
   ]
  },
  {
   "cell_type": "code",
   "execution_count": 362,
   "metadata": {
    "collapsed": false
   },
   "outputs": [
    {
     "name": "stdout",
     "output_type": "stream",
     "text": [
      "2 education_ph.d program\n",
      "6 education_law school\n",
      "17 education_working on med school\n",
      "21 education_med school\n",
      "49 education_dropped out of ph.d program\n",
      "54 education_dropped out of masters program\n",
      "69 education_dropped out of med school\n",
      "75 education_graduated from ph.d program\n",
      "81 education_working on law school\n",
      "102 education_graduated from law school\n",
      "103 education_college/university\n",
      "105 education_space camp\n",
      "110 education_working on space camp\n",
      "113 education_dropped out of law school\n",
      "116 education_two-year college\n",
      "124 education_working on high school\n",
      "125 education_graduated from med school\n",
      "131 education_masters program\n",
      "132 education_dropped out of two-year college\n",
      "136 education_dropped out of space camp\n",
      "139 education_high school\n",
      "140 education_working on ph.d program\n",
      "155 education_graduated from space camp\n",
      "161 education_dropped out of high school\n",
      "168 education_working on college/university\n",
      "171 education_working on masters program\n",
      "178 education_graduated from college/university\n",
      "179 education_graduated from two-year college\n",
      "182 education_dropped out of college/university\n",
      "193 education_working on two-year college\n",
      "198 education_graduated from high school\n",
      "201 education_graduated from masters program\n"
     ]
    }
   ],
   "source": [
    "i2 = []\n",
    "name2 = []\n",
    "\n",
    "for i, name in enumerate(namesSorted):\n",
    "    if name in newFeatsDF.columns:\n",
    "        i2.append(i)\n",
    "        name2.append(name)\n",
    "        if 'education_' in name:\n",
    "            print i, name"
   ]
  },
  {
   "cell_type": "code",
   "execution_count": 363,
   "metadata": {
    "collapsed": false
   },
   "outputs": [
    {
     "name": "stdout",
     "output_type": "stream",
     "text": [
      "dropping  education_dropped out of space camp\n",
      "dropping  education_graduated from space camp\n",
      "dropping  education_space camp\n",
      "dropping  education_working on space camp\n"
     ]
    }
   ],
   "source": [
    "\n",
    "educationDF = rawDF.filter(like='education_')\n",
    "spaceDF = educationDF.filter(like='space')\n",
    "spaceMask = (spaceDF ==1).any(axis=1)\n",
    "dropcolumns(educationDF, spaceDF.columns)\n",
    "educationDF[spaceMask] = np.nan"
   ]
  },
  {
   "cell_type": "markdown",
   "metadata": {},
   "source": [
    "### Space camp"
   ]
  },
  {
   "cell_type": "code",
   "execution_count": 364,
   "metadata": {
    "collapsed": false,
    "scrolled": true
   },
   "outputs": [
    {
     "name": "stdout",
     "output_type": "stream",
     "text": [
      "dropping  education_dropped out of space camp\n",
      "dropping  education_graduated from space camp\n",
      "dropping  education_space camp\n",
      "dropping  education_working on space camp\n"
     ]
    }
   ],
   "source": [
    "# Handle space camp\n",
    "dropcolumns(newFeatsDF, spaceDF.columns)\n",
    "newFeatsDF['spacecamp'] = spaceMask.astype(float)"
   ]
  },
  {
   "cell_type": "markdown",
   "metadata": {},
   "source": [
    "### Actual education"
   ]
  },
  {
   "cell_type": "code",
   "execution_count": 365,
   "metadata": {
    "collapsed": false
   },
   "outputs": [],
   "source": [
    "rankedEducation = ['education_dropped out of high school',\n",
    "'education_high school',\n",
    "'education_working on high school',\n",
    "'education_graduated from high school',\n",
    "'education_dropped out of two-year college',\n",
    "'education_dropped out of college/university',\n",
    "'education_two-year college',\n",
    "'education_working on two-year college',\n",
    "'education_graduated from two-year college',\n",
    "'education_college/university',\n",
    "'education_working on college/university',\n",
    "'education_graduated from college/university',\n",
    "'education_dropped out of law school',\n",
    "'education_dropped out of masters program',\n",
    "'education_dropped out of med school',\n",
    "'education_dropped out of ph.d program',\n",
    "'education_working on masters program',\n",
    "'education_working on law school',\n",
    "'education_working on med school',\n",
    "'education_working on ph.d program',\n",
    "'education_law school',\n",
    "'education_masters program',\n",
    "'education_med school',\n",
    "'education_ph.d program',\n",
    "'education_graduated from law school',\n",
    "'education_graduated from masters program',\n",
    "'education_graduated from med school',\n",
    "'education_graduated from ph.d program']\n",
    "iEducationRank = np.arange(len(rankedEducation))\n",
    "eduRankDict = {k: v for k, v in zip(rankedEducation, iEducationRank)}"
   ]
  },
  {
   "cell_type": "code",
   "execution_count": 366,
   "metadata": {
    "collapsed": false,
    "scrolled": true
   },
   "outputs": [
    {
     "name": "stdout",
     "output_type": "stream",
     "text": [
      "dropping  education_college/university\n",
      "dropping  education_dropped out of college/university\n",
      "dropping  education_dropped out of high school\n",
      "dropping  education_dropped out of law school\n",
      "dropping  education_dropped out of masters program\n",
      "dropping  education_dropped out of med school\n",
      "dropping  education_dropped out of ph.d program\n",
      "dropping  education_dropped out of two-year college\n",
      "dropping  education_graduated from college/university\n",
      "dropping  education_graduated from high school\n",
      "dropping  education_graduated from law school\n",
      "dropping  education_graduated from masters program\n",
      "dropping  education_graduated from med school\n",
      "dropping  education_graduated from ph.d program\n",
      "dropping  education_graduated from two-year college\n",
      "dropping  education_high school\n",
      "dropping  education_law school\n",
      "dropping  education_masters program\n",
      "dropping  education_med school\n",
      "dropping  education_ph.d program\n",
      "dropping  education_two-year college\n",
      "dropping  education_working on college/university\n",
      "dropping  education_working on high school\n",
      "dropping  education_working on law school\n",
      "dropping  education_working on masters program\n",
      "dropping  education_working on med school\n",
      "dropping  education_working on ph.d program\n",
      "dropping  education_working on two-year college\n"
     ]
    }
   ],
   "source": [
    "# Get the education level (str) attained\n",
    "vals = educationDF.values\n",
    "cols = np.zeros(len(educationDF), dtype=int)\n",
    "isnull = educationDF.isnull().all(axis=1).values\n",
    "cols[isnull] = 0\n",
    "cols[~isnull] = vals[~isnull].argmax(1)\n",
    "colArray = np.array(educationDF.columns.tolist())\n",
    "education_name = colArray[cols]\n",
    "# Use the rankings above to assign a value to education level\n",
    "education_level = np.array([eduRankDict[level] for level in education_name])\n",
    "# Setup data frame\n",
    "dropcolumns(newFeatsDF, educationDF.columns)\n",
    "newFeatsDF['education_level'] = education_level\n",
    "newFeatsDF.loc[isnull, 'education_level'] = np.nan"
   ]
  },
  {
   "cell_type": "markdown",
   "metadata": {},
   "source": [
    "## Save"
   ]
  },
  {
   "cell_type": "code",
   "execution_count": 367,
   "metadata": {
    "collapsed": true
   },
   "outputs": [],
   "source": [
    "pickle.dump(newFeatsDF, open('new_features_df.p', 'w'), 2)"
   ]
  },
  {
   "cell_type": "code",
   "execution_count": null,
   "metadata": {
    "collapsed": true
   },
   "outputs": [],
   "source": []
  }
 ],
 "metadata": {
  "kernelspec": {
   "display_name": "Python 2",
   "language": "python",
   "name": "python2"
  },
  "language_info": {
   "codemirror_mode": {
    "name": "ipython",
    "version": 2
   },
   "file_extension": ".py",
   "mimetype": "text/x-python",
   "name": "python",
   "nbconvert_exporter": "python",
   "pygments_lexer": "ipython2",
   "version": "2.7.12"
  }
 },
 "nbformat": 4,
 "nbformat_minor": 1
}
