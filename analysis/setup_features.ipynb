{
 "cells": [
  {
   "cell_type": "markdown",
   "metadata": {},
   "source": [
    "## Imports"
   ]
  },
  {
   "cell_type": "code",
   "execution_count": 1,
   "metadata": {
    "collapsed": false
   },
   "outputs": [],
   "source": [
    "%load_ext autoreload\n",
    "%autoreload 2\n",
    "%matplotlib inline"
   ]
  },
  {
   "cell_type": "code",
   "execution_count": 2,
   "metadata": {
    "collapsed": false
   },
   "outputs": [],
   "source": [
    "# External imports\n",
    "import numpy as np\n",
    "import cPickle as pickle\n",
    "import pandas as pd\n",
    "import matplotlib.pyplot as plt\n",
    "# Internal imports\n",
    "import utils\n",
    "import okcupidio\n",
    "import linearRegression\n",
    "import kmeans\n",
    "import pca\n",
    "import gaussianModel\n",
    "import RBFkernel\n",
    "import sgd\n",
    "import linearRBF\n",
    "from linearBinaryClassifier import LinearBinaryClassifier\n",
    "from linearRandom import LinearRandom\n",
    "from randomMap import RandomMap\n",
    "from genericLinear import LinearSGD"
   ]
  },
  {
   "cell_type": "markdown",
   "metadata": {},
   "source": [
    "## Generate Features from OK Cupid Data"
   ]
  },
  {
   "cell_type": "code",
   "execution_count": 7,
   "metadata": {
    "collapsed": true
   },
   "outputs": [],
   "source": [
    "# SETTINGS\n",
    "savename = 'features.p'"
   ]
  },
  {
   "cell_type": "code",
   "execution_count": 8,
   "metadata": {
    "collapsed": false,
    "scrolled": true
   },
   "outputs": [
    {
     "name": "stdout",
     "output_type": "stream",
     "text": [
      "orientation multiple choice\n",
      "sign multiple choice\n",
      "height int\n",
      "body_type multiple choice\n",
      "education multiple choice\n",
      "ethnicity list\n",
      "drinks ranked\n",
      "wants_more_kids multiple choice\n",
      "likes_cats int\n",
      "likes_dogs int\n",
      "has_cats int\n",
      "religion multiple choice\n",
      "income int\n",
      "speaks list\n",
      "has_kids int\n",
      "religion_importance ranked\n",
      "status multiple choice\n",
      "drugs ranked\n",
      "last_online date\n",
      "diet multiple choice\n",
      "job multiple choice\n",
      "sex multiple choice\n",
      "sign_matters multiple choice\n",
      "age int\n",
      "smokes multiple choice\n",
      "has_dogs int\n",
      "essay9 short response\n",
      "essay8 short response\n",
      "essay1 short response\n",
      "essay0 short response\n",
      "essay3 short response\n",
      "essay2 short response\n",
      "essay5 short response\n",
      "essay4 short response\n",
      "essay7 short response\n",
      "essay6 short response\n"
     ]
    }
   ],
   "source": [
    "# MAKE FEATURES\n",
    "# Loads data (fairly raw)\n",
    "data = okcupidio.loadData()\n",
    "# Preprocess data\n",
    "okcupidio.processData(data)\n",
    "# And make binary features out of it\n",
    "features, featureNames = okcupidio.buildFeatures(data)\n",
    "# First, replace -1 with nans\n",
    "features[features == -1] = np.nan\n",
    "# Save\n",
    "pickle.dump((features, featureNames), open(savename, 'w'), 2)"
   ]
  },
  {
   "cell_type": "markdown",
   "metadata": {},
   "source": [
    "## Make feature arrays using imputation"
   ]
  },
  {
   "cell_type": "code",
   "execution_count": 19,
   "metadata": {
    "collapsed": false
   },
   "outputs": [],
   "source": [
    "# LOAD FEATURES\n",
    "features, featureNames = pickle.load(open(savename, 'r'))"
   ]
  },
  {
   "cell_type": "code",
   "execution_count": 28,
   "metadata": {
    "collapsed": true
   },
   "outputs": [],
   "source": [
    "# Settings\n",
    "labelsColumn = 'sex_m'\n",
    "dropData = ['last_online']\n",
    "minResponseRate = 0.90\n",
    "nTest = 10000"
   ]
  },
  {
   "cell_type": "code",
   "execution_count": 29,
   "metadata": {
    "collapsed": false
   },
   "outputs": [],
   "source": [
    "# Load data\n",
    "rawDF = pd.DataFrame(data=features, columns=featureNames)\n",
    "\n",
    "# drop unwanted data\n",
    "for drop in dropData:\n",
    "    \n",
    "    rawDF.drop(drop, 1, inplace=True)\n",
    "    \n",
    "# Ignore data with response rates too low\n",
    "# columns = df.columns[df.columns != labelsColumn]\n",
    "columns = rawDF.columns\n",
    "for col in columns:\n",
    "    \n",
    "    if rawDF[col].notnull().mean() < minResponseRate:\n",
    "        \n",
    "        rawDF.drop(col, 1, inplace=True)"
   ]
  },
  {
   "cell_type": "code",
   "execution_count": 30,
   "metadata": {
    "collapsed": false
   },
   "outputs": [],
   "source": [
    "# IMPUTATION\n",
    "# (replace missing data, except for in the labelsColumn)\n",
    "imputedDF = rawDF.copy()\n",
    "columns = imputedDF.columns[imputedDF.columns != labelsColumn]\n",
    "for col in columns:\n",
    "    series = imputedDF[col]\n",
    "    nChoice = series.isnull().sum()\n",
    "    if nChoice > 0:\n",
    "        notnulls = series[series.notnull()]\n",
    "#         vals = np.random.choice(notnulls, nChoice)\n",
    "        vals = notnulls.mean() * np.ones(nChoice)\n",
    "        series[series.isnull()] = vals\n",
    "        imputedDF[col] = series"
   ]
  },
  {
   "cell_type": "code",
   "execution_count": 31,
   "metadata": {
    "collapsed": false,
    "scrolled": false
   },
   "outputs": [],
   "source": [
    "# Now remove people without reported values in the labels Column\n",
    "df = imputedDF[imputedDF[labelsColumn].notnull()]\n",
    "# Ignore entries where stddev == 0\n",
    "columns = df.columns[df.columns != labelsColumn]\n",
    "for col in columns:\n",
    "    if df[col].std() == 0:\n",
    "        df.drop(col, 1, inplace=True)"
   ]
  },
  {
   "cell_type": "code",
   "execution_count": 32,
   "metadata": {
    "collapsed": false,
    "scrolled": true
   },
   "outputs": [],
   "source": [
    "# Get arrays from the data frame\n",
    "dfShort = df.drop(labelsColumn, 1)\n",
    "x = dfShort.values\n",
    "names = df.columns.tolist()\n",
    "y = df[labelsColumn].values\n",
    "# And save\n",
    "pickle.dump((x, y, names), open('dataset.p', 'w'), 2)"
   ]
  },
  {
   "cell_type": "code",
   "execution_count": 33,
   "metadata": {
    "collapsed": false
   },
   "outputs": [],
   "source": [
    "# NOW SPLIT the dataset\n",
    "y = y.reshape([len(y), 1])\n",
    "nTrain = len(x) - nTest\n",
    "np.random.seed(0)\n",
    "ind = np.random.rand(len(x)).argsort()\n",
    "trainInd = ind[0:nTrain]\n",
    "testInd = ind[nTrain:]\n",
    "xtrain, ytrain = (x[trainInd], y[trainInd])\n",
    "xtest, ytest = (x[testInd], y[testInd])\n",
    "# And condition it\n",
    "xtrain, center, scale = utils.condition(xtrain)\n",
    "xtest, center, scale = utils.condition(xtest, center, scale)\n",
    "\n",
    "# save the split set\n",
    "pickle.dump((xtrain, ytrain), open('data_train.p', 'w'), 2)\n",
    "pickle.dump((xtest, ytest), open('data_test.p','w'), 2)"
   ]
  },
  {
   "cell_type": "markdown",
   "metadata": {},
   "source": [
    "## Load Data"
   ]
  },
  {
   "cell_type": "code",
   "execution_count": 3,
   "metadata": {
    "collapsed": false
   },
   "outputs": [],
   "source": [
    "# load data if necessary:\n",
    "x, y, names = pickle.load(open('dataset.p'))\n",
    "xtrain, ytrain = pickle.load(open('data_train.p', 'r'))\n",
    "xtest, ytest = pickle.load(open('data_test.p', 'r'))"
   ]
  },
  {
   "cell_type": "markdown",
   "metadata": {},
   "source": [
    "## Linear regression"
   ]
  },
  {
   "cell_type": "markdown",
   "metadata": {},
   "source": [
    "### Un-boosted"
   ]
  },
  {
   "cell_type": "code",
   "execution_count": 46,
   "metadata": {
    "collapsed": false
   },
   "outputs": [
    {
     "name": "stdout",
     "output_type": "stream",
     "text": [
      "0/1 loss: 0.124294237777\n",
      "mean confidence: 0.821598013513\n"
     ]
    }
   ],
   "source": [
    "lr = linearRegression.BinaryLinearRegression(regScale=1e1)\n",
    "lr.fit(xtrain, ytrain)\n",
    "ypred = lr.pred(xtrain)\n",
    "wrong = (ypred != ytrain).astype(float)\n",
    "print \"0/1 loss:\", wrong.mean()\n",
    "print \"mean confidence:\", lr.confidence(xtrain).mean()"
   ]
  },
  {
   "cell_type": "markdown",
   "metadata": {},
   "source": [
    "### L2 boost"
   ]
  },
  {
   "cell_type": "code",
   "execution_count": 178,
   "metadata": {
    "collapsed": true
   },
   "outputs": [],
   "source": [
    "def evalPredictors(predictors, x, nu=0.5):\n",
    "    out = predictors[0](x)\n",
    "    for predictor in predictors[1:]:\n",
    "        out += nu*predictor(x)\n",
    "    return out"
   ]
  },
  {
   "cell_type": "code",
   "execution_count": 176,
   "metadata": {
    "collapsed": false
   },
   "outputs": [
    {
     "data": {
      "text/plain": [
       "array([[ 0.59734513],\n",
       "       [ 0.59734513],\n",
       "       [ 0.59734513],\n",
       "       ..., \n",
       "       [ 0.59734513],\n",
       "       [ 0.59734513],\n",
       "       [ 0.59734513]])"
      ]
     },
     "execution_count": 176,
     "metadata": {},
     "output_type": "execute_result"
    }
   ],
   "source": [
    "def f0(x):\n",
    "    return ymean * np.ones([len(x), 1])\n",
    "predictors = [f0]\n",
    "evalPredictors(predictors, xtrain)"
   ]
  },
  {
   "cell_type": "code",
   "execution_count": 214,
   "metadata": {
    "collapsed": true
   },
   "outputs": [],
   "source": [
    "lr = linearRegression.BinaryLinearRegression(regScale=1e0, classify=False, scalarOffset=True)\n",
    "lr.fit(xtrain, ytrain)\n",
    "ypredBase = lr.ypred(xtrain)"
   ]
  },
  {
   "cell_type": "code",
   "execution_count": 226,
   "metadata": {
    "collapsed": false
   },
   "outputs": [
    {
     "name": "stdout",
     "output_type": "stream",
     "text": [
      "0.597345132743\n",
      "0.115838473037\n",
      "0.115838472996\n",
      "0.115838472996\n",
      "0.115838472996\n",
      "0.115838472996\n",
      "0.115838472996\n",
      "0.115838472996\n",
      "0.115838472996\n",
      "0.115838472996\n"
     ]
    }
   ],
   "source": [
    "# dataWeights = np.ones([len(xtrain), 1])\n",
    "\n",
    "ymean = ytrain.mean()\n",
    "nu = 1\n",
    "predictors = [lambda x : np.zeros([len(x), 1])]\n",
    "\n",
    "for i in range(10):\n",
    "    ypred = evalPredictors(predictors, xtrain, nu)\n",
    "    residuals = ytrain - ypred\n",
    "    print (residuals**2).mean()\n",
    "    lr = linearRegression.BinaryLinearRegression(regScale=1e0, classify=False, scalarOffset=True)\n",
    "    lr.fit(xtrain, residuals) \n",
    "    predictors.append(lr.ypred)"
   ]
  },
  {
   "cell_type": "code",
   "execution_count": 216,
   "metadata": {
    "collapsed": false
   },
   "outputs": [
    {
     "data": {
      "text/plain": [
       "0.070958636734254038"
      ]
     },
     "execution_count": 216,
     "metadata": {},
     "output_type": "execute_result"
    }
   ],
   "source": [
    "abs(ypred - ypredBase).mean()"
   ]
  },
  {
   "cell_type": "markdown",
   "metadata": {},
   "source": [
    "### AdaBoost"
   ]
  },
  {
   "cell_type": "code",
   "execution_count": 99,
   "metadata": {
    "collapsed": false,
    "scrolled": true
   },
   "outputs": [
    {
     "name": "stdout",
     "output_type": "stream",
     "text": [
      "0/1 loss: 0.143294758339\n",
      "mean confidence: 0.800113344102\n",
      "weighted prediction error: 0.143294758339\n",
      "classifier weight: 1.78819016145\n",
      "0/1 loss: 0.270011612542\n",
      "mean confidence: 0.665390346587\n",
      "weighted prediction error: 0.347707796013\n",
      "classifier weight: 0.629130166726\n",
      "0/1 loss: 0.216954310656\n",
      "mean confidence: 0.710370099561\n",
      "weighted prediction error: 0.424040300001\n",
      "classifier weight: 0.306209195083\n",
      "0/1 loss: 0.187142113483\n",
      "mean confidence: 0.735534884943\n",
      "weighted prediction error: 0.454624774928\n",
      "classifier weight: 0.182001635901\n",
      "0/1 loss: 0.18491971329\n",
      "mean confidence: 0.736882804124\n",
      "weighted prediction error: 0.460938217946\n",
      "classifier weight: 0.156566171272\n",
      "0/1 loss: 0.226444560125\n",
      "mean confidence: 0.683255291658\n",
      "weighted prediction error: 0.506085715952\n",
      "classifier weight: -0.0243440659973\n"
     ]
    }
   ],
   "source": [
    "classifierWeights = []\n",
    "classifiers = []\n",
    "dataWeights = np.ones([len(xtrain), 1])/len(xtrain)\n",
    "\n",
    "for i in range(6):\n",
    "    lr = linearRegression.BinaryLinearRegression(regScale=1e1)\n",
    "    lr.fit(xtrain, ytrain, dataWeights=dataWeights)\n",
    "    ypred = lr.pred(xtrain)\n",
    "    wrong = (ypred != ytrain).astype(float)\n",
    "    error = (dataWeights * wrong).sum()/dataWeights.sum()\n",
    "    alpha = np.log((1-error)/error)\n",
    "    classifierWeights.append(alpha)\n",
    "    dataWeights = dataWeights*np.exp(alpha * wrong)\n",
    "    classifiers.append(lr)\n",
    "    print \"0/1 loss:\", wrong.mean()\n",
    "    print \"mean confidence:\", lr.confidence(xtrain).mean()\n",
    "    print \"weighted prediction error:\", error\n",
    "    print \"classifier weight:\", alpha\n",
    "    \n",
    "def weightedClassify(classifiers, weights, x):\n",
    "    \"\"\"\n",
    "    Assumes the predictors (classifiers[i].pred()) return values of 0/1\n",
    "    \"\"\"\n",
    "    preds = [(2*classifier.pred(x)-1) for classifier in classifiers]\n",
    "    pred = np.zeros(preds[0].shape)\n",
    "    for i in range(len(classifiers)):\n",
    "        pred += weights[i] * preds[i]\n",
    "    return 0.5 * (np.sign(pred) + 1)\n",
    "    "
   ]
  },
  {
   "cell_type": "code",
   "execution_count": 100,
   "metadata": {
    "collapsed": false,
    "scrolled": true
   },
   "outputs": [
    {
     "name": "stdout",
     "output_type": "stream",
     "text": [
      "0.143294758339\n"
     ]
    }
   ],
   "source": [
    "ypred = weightedClassify(classifiers, classifierWeights, xtrain)\n",
    "print (ypred != ytrain).mean()"
   ]
  },
  {
   "cell_type": "markdown",
   "metadata": {},
   "source": [
    "#### Most male traits"
   ]
  },
  {
   "cell_type": "code",
   "execution_count": 227,
   "metadata": {
    "collapsed": false,
    "scrolled": false
   },
   "outputs": [
    {
     "name": "stdout",
     "output_type": "stream",
     "text": [
      "0 age 1.55040290924e-13\n",
      "1 smokes_no 9.93194957197e-14\n",
      "2 smokes_trying to quit 9.01641580437e-14\n",
      "3 body_type_average 7.94789918242e-14\n",
      "4 smokes_when drinking 7.79452158287e-14\n",
      "5 body_type_fit 7.57853276601e-14\n",
      "6 body_type_athletic 7.38548692681e-14\n",
      "7 smokes_sometimes 6.43060705591e-14\n",
      "8 body_type_thin 5.04457787376e-14\n",
      "9 body_type_curvy 4.66617725772e-14\n"
     ]
    }
   ],
   "source": [
    "ind = (-lr.w[:,0]).argsort()\n",
    "for i in range(10):\n",
    "    j = ind[i]\n",
    "    print i, names[j], lr.w[j,0]"
   ]
  },
  {
   "cell_type": "markdown",
   "metadata": {},
   "source": [
    "#### Most female traits"
   ]
  },
  {
   "cell_type": "code",
   "execution_count": 228,
   "metadata": {
    "collapsed": false,
    "scrolled": false
   },
   "outputs": [
    {
     "name": "stdout",
     "output_type": "stream",
     "text": [
      "0 orientation_straight -1.28978185952e-13\n",
      "1 orientation_gay -1.08215455754e-13\n",
      "2 orientation_bisexual -7.81802785141e-14\n",
      "3 speaks_spanish -3.88851942511e-15\n",
      "4 speaks_french -2.65929380093e-15\n",
      "5 speaks_chinese -2.18074597132e-15\n",
      "6 speaks_german -1.67629713279e-15\n",
      "7 speaks_c++ -1.56260462272e-15\n",
      "8 speaks_italian -1.43012026339e-15\n",
      "9 speaks_japanese -1.30275990614e-15\n"
     ]
    }
   ],
   "source": [
    "ind = (lr.w[:,0]).argsort()\n",
    "for i in range(10):\n",
    "    j = ind[i]\n",
    "    print i, names[j], lr.w[j,0]"
   ]
  },
  {
   "cell_type": "markdown",
   "metadata": {},
   "source": [
    "## K-means"
   ]
  },
  {
   "cell_type": "code",
   "execution_count": 229,
   "metadata": {
    "collapsed": false
   },
   "outputs": [
    {
     "name": "stdout",
     "output_type": "stream",
     "text": [
      "Sum of eigenvalues (direct): 117\n",
      "Sum of eigenvalues (from xTx): 117\n"
     ]
    }
   ],
   "source": [
    "# Perform PCA\n",
    "nKeepKmeans = 25\n",
    "w, vkmeans = pca.PCA(xtrain)\n",
    "xa = pca.proj(xtrain, vkmeans, nKeepKmeans)\n",
    "# x0 = xa[ytrain.flatten() == 0]\n",
    "# x1 = xa[ytrain.flatten() == 1]\n",
    "xatest = pca.proj(xtest, vkmeans, nKeepKmeans)"
   ]
  },
  {
   "cell_type": "code",
   "execution_count": 230,
   "metadata": {
    "collapsed": false,
    "scrolled": true
   },
   "outputs": [
    {
     "name": "stdout",
     "output_type": "stream",
     "text": [
      "(max centroid change, error):  13.4175514076 13.4502553437\n",
      "(max centroid change, error):  9.93206821351 10.403992644\n",
      "(max centroid change, error):  16.5874647422 8.9666032007\n",
      "(max centroid change, error):  11.6622061043 8.62256416116\n",
      "(max centroid change, error):  2.05437987043 8.4941313216\n",
      "(max centroid change, error):  6.95329505072 8.3809897136\n",
      "(max centroid change, error):  0.872334910023 8.35633276377\n",
      "(max centroid change, error):  0.290971914912 8.33898788237\n",
      "(max centroid change, error):  0.463138586155 8.32472698157\n"
     ]
    },
    {
     "ename": "KeyboardInterrupt",
     "evalue": "",
     "output_type": "error",
     "traceback": [
      "\u001b[0;31m\u001b[0m",
      "\u001b[0;31mKeyboardInterrupt\u001b[0mTraceback (most recent call last)",
      "\u001b[0;32m<ipython-input-230-72268ea7eb5c>\u001b[0m in \u001b[0;36m<module>\u001b[0;34m()\u001b[0m\n\u001b[1;32m      6\u001b[0m \u001b[0;32mfor\u001b[0m \u001b[0mi\u001b[0m \u001b[0;32min\u001b[0m \u001b[0mrange\u001b[0m\u001b[0;34m(\u001b[0m\u001b[0;36m1\u001b[0m\u001b[0;34m)\u001b[0m\u001b[0;34m:\u001b[0m\u001b[0;34m\u001b[0m\u001b[0m\n\u001b[1;32m      7\u001b[0m     \u001b[0mkm\u001b[0m \u001b[0;34m=\u001b[0m \u001b[0mkmeans\u001b[0m\u001b[0;34m.\u001b[0m\u001b[0mkmeans\u001b[0m\u001b[0;34m(\u001b[0m\u001b[0mxa\u001b[0m\u001b[0;34m,\u001b[0m \u001b[0mnCluster\u001b[0m\u001b[0;34m=\u001b[0m\u001b[0;36m256\u001b[0m\u001b[0;34m,\u001b[0m \u001b[0mxtol\u001b[0m\u001b[0;34m=\u001b[0m\u001b[0;36m0.01\u001b[0m\u001b[0;34m)\u001b[0m\u001b[0;34m\u001b[0m\u001b[0m\n\u001b[0;32m----> 8\u001b[0;31m     \u001b[0mkm\u001b[0m\u001b[0;34m.\u001b[0m\u001b[0mfit\u001b[0m\u001b[0;34m(\u001b[0m\u001b[0mcentroids\u001b[0m\u001b[0;34m=\u001b[0m\u001b[0mcentroids\u001b[0m\u001b[0;34m,\u001b[0m \u001b[0mdataWeights\u001b[0m\u001b[0;34m=\u001b[0m\u001b[0mdataWeights\u001b[0m\u001b[0;34m)\u001b[0m\u001b[0;34m\u001b[0m\u001b[0m\n\u001b[0m\u001b[1;32m      9\u001b[0m     \u001b[0mkm\u001b[0m\u001b[0;34m.\u001b[0m\u001b[0mlabelClusters\u001b[0m\u001b[0;34m(\u001b[0m\u001b[0mytrain\u001b[0m\u001b[0;34m)\u001b[0m\u001b[0;34m\u001b[0m\u001b[0m\n\u001b[1;32m     10\u001b[0m \u001b[0;31m#     centroids = km.centroids.copy()\u001b[0m\u001b[0;34m\u001b[0m\u001b[0;34m\u001b[0m\u001b[0m\n",
      "\u001b[0;32m/home/ibackus/machine_learning/final_project/kmeans.pyc\u001b[0m in \u001b[0;36mfit\u001b[0;34m(self, centroids, dataWeights)\u001b[0m\n\u001b[1;32m    120\u001b[0m         \u001b[0;32mwhile\u001b[0m \u001b[0;34m(\u001b[0m\u001b[0mself\u001b[0m\u001b[0;34m.\u001b[0m\u001b[0miIter\u001b[0m \u001b[0;34m<\u001b[0m \u001b[0mself\u001b[0m\u001b[0;34m.\u001b[0m\u001b[0mmaxIter\u001b[0m\u001b[0;34m)\u001b[0m \u001b[0;32mand\u001b[0m \u001b[0;34m(\u001b[0m\u001b[0;32mnot\u001b[0m \u001b[0mself\u001b[0m\u001b[0;34m.\u001b[0m\u001b[0mconverged\u001b[0m\u001b[0;34m)\u001b[0m\u001b[0;34m:\u001b[0m\u001b[0;34m\u001b[0m\u001b[0m\n\u001b[1;32m    121\u001b[0m \u001b[0;34m\u001b[0m\u001b[0m\n\u001b[0;32m--> 122\u001b[0;31m             \u001b[0mself\u001b[0m\u001b[0;34m.\u001b[0m\u001b[0miterate\u001b[0m\u001b[0;34m(\u001b[0m\u001b[0;34m)\u001b[0m\u001b[0;34m\u001b[0m\u001b[0m\n\u001b[0m\u001b[1;32m    123\u001b[0m \u001b[0;34m\u001b[0m\u001b[0m\n\u001b[1;32m    124\u001b[0m             \u001b[0;32mif\u001b[0m \u001b[0mself\u001b[0m\u001b[0;34m.\u001b[0m\u001b[0mcentroidMaxChange\u001b[0m\u001b[0;34m[\u001b[0m\u001b[0;34m-\u001b[0m\u001b[0;36m1\u001b[0m\u001b[0;34m]\u001b[0m \u001b[0;34m<\u001b[0m \u001b[0mself\u001b[0m\u001b[0;34m.\u001b[0m\u001b[0mxtol\u001b[0m\u001b[0;34m:\u001b[0m\u001b[0;34m\u001b[0m\u001b[0m\n",
      "\u001b[0;32m/home/ibackus/machine_learning/final_project/kmeans.pyc\u001b[0m in \u001b[0;36miterate\u001b[0;34m(self)\u001b[0m\n\u001b[1;32m     86\u001b[0m                 \u001b[0mself\u001b[0m\u001b[0;34m.\u001b[0m\u001b[0mcentroids\u001b[0m\u001b[0;34m[\u001b[0m\u001b[0mi\u001b[0m\u001b[0;34m]\u001b[0m \u001b[0;34m=\u001b[0m \u001b[0;34m(\u001b[0m\u001b[0mw\u001b[0m \u001b[0;34m*\u001b[0m \u001b[0mself\u001b[0m\u001b[0;34m.\u001b[0m\u001b[0mx\u001b[0m\u001b[0;34m[\u001b[0m\u001b[0mmask\u001b[0m\u001b[0;34m]\u001b[0m\u001b[0;34m)\u001b[0m\u001b[0;34m.\u001b[0m\u001b[0msum\u001b[0m\u001b[0;34m(\u001b[0m\u001b[0;36m0\u001b[0m\u001b[0;34m)\u001b[0m\u001b[0;34m\u001b[0m\u001b[0m\n\u001b[1;32m     87\u001b[0m \u001b[0;34m\u001b[0m\u001b[0m\n\u001b[0;32m---> 88\u001b[0;31m         \u001b[0mself\u001b[0m\u001b[0;34m.\u001b[0m\u001b[0m_assignCentroid\u001b[0m\u001b[0;34m(\u001b[0m\u001b[0;34m)\u001b[0m\u001b[0;34m\u001b[0m\u001b[0m\n\u001b[0m\u001b[1;32m     89\u001b[0m         \u001b[0;31m# Calculate the amount the centroids have moved\u001b[0m\u001b[0;34m\u001b[0m\u001b[0;34m\u001b[0m\u001b[0m\n\u001b[1;32m     90\u001b[0m         \u001b[0mdeltaCent\u001b[0m \u001b[0;34m=\u001b[0m \u001b[0;34m(\u001b[0m\u001b[0mself\u001b[0m\u001b[0;34m.\u001b[0m\u001b[0mcentroids\u001b[0m \u001b[0;34m-\u001b[0m \u001b[0mself\u001b[0m\u001b[0;34m.\u001b[0m\u001b[0moldcentroids\u001b[0m\u001b[0;34m)\u001b[0m\u001b[0;34m\u001b[0m\u001b[0m\n",
      "\u001b[0;32m/home/ibackus/machine_learning/final_project/kmeans.pyc\u001b[0m in \u001b[0;36m_assignCentroid\u001b[0;34m(self)\u001b[0m\n\u001b[1;32m     36\u001b[0m         \"\"\"\n\u001b[1;32m     37\u001b[0m         \u001b[0;31m# Assign centroids\u001b[0m\u001b[0;34m\u001b[0m\u001b[0;34m\u001b[0m\u001b[0m\n\u001b[0;32m---> 38\u001b[0;31m         \u001b[0md2\u001b[0m \u001b[0;34m=\u001b[0m \u001b[0mdist2\u001b[0m\u001b[0;34m(\u001b[0m\u001b[0mself\u001b[0m\u001b[0;34m.\u001b[0m\u001b[0mx\u001b[0m\u001b[0;34m,\u001b[0m \u001b[0mself\u001b[0m\u001b[0;34m.\u001b[0m\u001b[0mcentroids\u001b[0m\u001b[0;34m,\u001b[0m \u001b[0mself\u001b[0m\u001b[0;34m.\u001b[0m\u001b[0mx2sum\u001b[0m\u001b[0;34m)\u001b[0m\u001b[0;34m\u001b[0m\u001b[0m\n\u001b[0m\u001b[1;32m     39\u001b[0m         \u001b[0mself\u001b[0m\u001b[0;34m.\u001b[0m\u001b[0mclusterInd\u001b[0m \u001b[0;34m=\u001b[0m \u001b[0md2\u001b[0m\u001b[0;34m.\u001b[0m\u001b[0margmin\u001b[0m\u001b[0;34m(\u001b[0m\u001b[0;36m1\u001b[0m\u001b[0;34m)\u001b[0m\u001b[0;34m\u001b[0m\u001b[0m\n\u001b[1;32m     40\u001b[0m         \u001b[0;31m# Calculate the error\u001b[0m\u001b[0;34m\u001b[0m\u001b[0;34m\u001b[0m\u001b[0m\n",
      "\u001b[0;32m/home/ibackus/machine_learning/final_project/kmeans.pyc\u001b[0m in \u001b[0;36mdist2\u001b[0;34m(x, y, x2sum)\u001b[0m\n\u001b[1;32m    242\u001b[0m         \u001b[0my2sum\u001b[0m \u001b[0;34m=\u001b[0m \u001b[0;34m(\u001b[0m\u001b[0my\u001b[0m\u001b[0;34m**\u001b[0m\u001b[0;36m2\u001b[0m\u001b[0;34m)\u001b[0m\u001b[0;34m.\u001b[0m\u001b[0msum\u001b[0m\u001b[0;34m(\u001b[0m\u001b[0;36m1\u001b[0m\u001b[0;34m)\u001b[0m\u001b[0;34m[\u001b[0m\u001b[0;34m:\u001b[0m\u001b[0;34m,\u001b[0m \u001b[0mNone\u001b[0m\u001b[0;34m]\u001b[0m\u001b[0;34m\u001b[0m\u001b[0m\n\u001b[1;32m    243\u001b[0m         \u001b[0mD2\u001b[0m \u001b[0;34m=\u001b[0m \u001b[0;34m-\u001b[0m\u001b[0;36m2\u001b[0m \u001b[0;34m*\u001b[0m \u001b[0mnp\u001b[0m\u001b[0;34m.\u001b[0m\u001b[0mdot\u001b[0m\u001b[0;34m(\u001b[0m\u001b[0mx\u001b[0m\u001b[0;34m,\u001b[0m \u001b[0my\u001b[0m\u001b[0;34m.\u001b[0m\u001b[0mT\u001b[0m\u001b[0;34m)\u001b[0m\u001b[0;34m\u001b[0m\u001b[0m\n\u001b[0;32m--> 244\u001b[0;31m         \u001b[0mD2\u001b[0m \u001b[0;34m=\u001b[0m \u001b[0;34m(\u001b[0m\u001b[0mD2\u001b[0m\u001b[0;34m.\u001b[0m\u001b[0mT\u001b[0m \u001b[0;34m+\u001b[0m \u001b[0my2sum\u001b[0m\u001b[0;34m)\u001b[0m\u001b[0;34m.\u001b[0m\u001b[0mT\u001b[0m\u001b[0;34m\u001b[0m\u001b[0m\n\u001b[0m\u001b[1;32m    245\u001b[0m         \u001b[0mD2\u001b[0m \u001b[0;34m+=\u001b[0m \u001b[0mx2sum\u001b[0m\u001b[0;34m\u001b[0m\u001b[0m\n\u001b[1;32m    246\u001b[0m         \u001b[0;32mreturn\u001b[0m \u001b[0mD2\u001b[0m\u001b[0;34m\u001b[0m\u001b[0m\n",
      "\u001b[0;31mKeyboardInterrupt\u001b[0m: "
     ]
    }
   ],
   "source": [
    "classifierWeights = []\n",
    "classifiers = []\n",
    "dataWeights = np.ones([len(xtrain), 1])/len(xtrain)\n",
    "centroids = None\n",
    "\n",
    "for i in range(1):\n",
    "    km = kmeans.kmeans(xa, nCluster=256, xtol=0.01)\n",
    "    km.fit(centroids=centroids, dataWeights=dataWeights)\n",
    "    km.labelClusters(ytrain)\n",
    "#     centroids = km.centroids.copy()\n",
    "    ypred = km.pred(xa)\n",
    "    wrong = (ypred != ytrain).astype(float)\n",
    "    error = (dataWeights * wrong).sum()/dataWeights.sum()\n",
    "    alpha = np.log((1-error)/error)\n",
    "    classifierWeights.append(alpha)\n",
    "    dataWeights = dataWeights*np.exp(alpha * wrong)\n",
    "    dataWeights /= dataWeights.sum()\n",
    "    classifiers.append(km)\n",
    "    print \"0/1 loss:\", wrong.mean()\n",
    "    print \"weighted prediction error:\", error\n",
    "    print \"classifier weight:\", alpha"
   ]
  },
  {
   "cell_type": "code",
   "execution_count": 57,
   "metadata": {
    "collapsed": true
   },
   "outputs": [],
   "source": [
    "def weightedClassify(classifiers, weights, x):\n",
    "    \"\"\"\n",
    "    Assumes the predictors (classifiers[i].pred()) return values of 0/1\n",
    "    \"\"\"\n",
    "    preds = [(2*classifier.pred(x)-1) for classifier in classifiers]\n",
    "    pred = np.zeros(preds[0].shape)\n",
    "    for i in range(len(classifiers)):\n",
    "        pred += weights[i] * preds[i]\n",
    "    return 0.5 * (np.sign(pred) + 1)"
   ]
  },
  {
   "cell_type": "code",
   "execution_count": 58,
   "metadata": {
    "collapsed": false
   },
   "outputs": [
    {
     "name": "stdout",
     "output_type": "stream",
     "text": [
      "0.3288751852\n"
     ]
    }
   ],
   "source": [
    "ypred = weightedClassify(classifiers, classifierWeights, xa)\n",
    "print (ypred != ytrain).mean()"
   ]
  },
  {
   "cell_type": "code",
   "execution_count": 59,
   "metadata": {
    "collapsed": false
   },
   "outputs": [
    {
     "data": {
      "text/plain": [
       "[<matplotlib.lines.Line2D at 0x7f6e82a75d50>]"
      ]
     },
     "execution_count": 59,
     "metadata": {},
     "output_type": "execute_result"
    },
    {
     "data": {
      "image/png": "[encoded data removed]",
      "text/plain": [
       "<matplotlib.figure.Figure at 0x7f6e84a62610>"
      ]
     },
     "metadata": {},
     "output_type": "display_data"
    }
   ],
   "source": [
    "plt.plot(classifierWeights)"
   ]
  },
  {
   "cell_type": "code",
   "execution_count": 21,
   "metadata": {
    "collapsed": true
   },
   "outputs": [
    {
     "name": "stdout",
     "output_type": "stream",
     "text": [
      "(max centroid change, error):  16.0089042892 15.8523518093\n",
      "(max centroid change, error):  5.02248226342 14.5590176649\n",
      "(max centroid change, error):  20.0202672069 13.2009716095\n",
      "(max centroid change, error):  4.78612748241 12.8749654235\n",
      "(max centroid change, error):  2.3385363831 12.6951276406\n",
      "(max centroid change, error):  2.59806544382 12.6091561306\n",
      "(max centroid change, error):  0.603887261529 12.5630614835\n",
      "(max centroid change, error):  1.24535688062 12.5289500449\n",
      "(max centroid change, error):  0.450835507793 12.5056491165\n",
      "(max centroid change, error):  0.252260029017 12.4850137476\n",
      "(max centroid change, error):  0.409840292294 12.4647265202\n",
      "(max centroid change, error):  0.496539399378 12.4442323439\n",
      "(max centroid change, error):  0.419067645178 12.4283941856\n",
      "(max centroid change, error):  0.658761612335 12.41125564\n",
      "(max centroid change, error):  1.41022616424 12.3920603748\n",
      "(max centroid change, error):  1.78648913691 12.3691487059\n",
      "(max centroid change, error):  0.754162921118 12.3408969765\n",
      "(max centroid change, error):  0.641326318577 12.3273340232\n",
      "(max centroid change, error):  0.209354052178 12.321381581\n",
      "(max centroid change, error):  0.230029718209 12.3159713172\n",
      "(max centroid change, error):  0.195555707742 12.3109482478\n",
      "(max centroid change, error):  0.111649587302 12.3073738782\n",
      "(max centroid change, error):  0.0755549427232 12.3044270646\n",
      "(max centroid change, error):  0.10940892942 12.3015627136\n",
      "(max centroid change, error):  0.142389215212 12.2984592172\n",
      "(max centroid change, error):  0.116951280838 12.2951693421\n",
      "(max centroid change, error):  0.118287070459 12.291831861\n",
      "(max centroid change, error):  0.119730144787 12.2890080068\n",
      "(max centroid change, error):  0.134265851119 12.2866047822\n",
      "(max centroid change, error):  0.0774753869928 12.2846651874\n",
      "(max centroid change, error):  0.105146027593 12.2830596682\n",
      "(max centroid change, error):  0.141637593055 12.2815534592\n",
      "(max centroid change, error):  0.112174242744 12.280172466\n",
      "(max centroid change, error):  0.0892782069052 12.2789838821\n",
      "(max centroid change, error):  0.070694160461 12.2781133287\n",
      "(max centroid change, error):  0.0467295868948 12.2773726108\n",
      "(max centroid change, error):  0.0347729699007 12.2765952867\n",
      "(max centroid change, error):  0.0383392804299 12.2758830055\n",
      "(max centroid change, error):  0.0396412364612 12.2751993606\n",
      "(max centroid change, error):  0.0326389711272 12.2746059279\n",
      "(max centroid change, error):  0.0313985461977 12.2740325751\n",
      "(max centroid change, error):  0.0396308131841 12.2735723906\n",
      "(max centroid change, error):  0.0374341317268 12.2732904959\n",
      "(max centroid change, error):  0.0291048516467 12.273062862\n",
      "(max centroid change, error):  0.0202338918916 12.2728598367\n",
      "(max centroid change, error):  0.0166965869835 12.2726419525\n",
      "(max centroid change, error):  0.0271705242666 12.2723946417\n",
      "(max centroid change, error):  0.0238837579609 12.2722014575\n",
      "(max centroid change, error):  0.0277164835065 12.2719719976\n",
      "(max centroid change, error):  0.0609003829145 12.2716844604\n",
      "(max centroid change, error):  0.0358822189476 12.2714193031\n",
      "(max centroid change, error):  0.0273397863354 12.2712279936\n",
      "(max centroid change, error):  0.0268519267529 12.2709269906\n",
      "(max centroid change, error):  0.0398215339919 12.270486984\n",
      "(max centroid change, error):  0.0393166550362 12.2700814237\n",
      "(max centroid change, error):  0.0507957379171 12.2695327867\n",
      "(max centroid change, error):  0.0650598520402 12.2689587815\n",
      "(max centroid change, error):  0.0465802124716 12.2684451025\n",
      "(max centroid change, error):  0.0406006174711 12.2680128858\n",
      "(max centroid change, error):  0.0377794309539 12.2675932727\n",
      "(max centroid change, error):  0.0408239622367 12.2672139986\n",
      "(max centroid change, error):  0.0426828491644 12.2669349407\n",
      "(max centroid change, error):  0.04271669219 12.26669839\n",
      "(max centroid change, error):  0.0421739881014 12.2665624379\n",
      "(max centroid change, error):  0.0494468670665 12.2664126666\n",
      "(max centroid change, error):  0.0215665890776 12.2663197889\n",
      "(max centroid change, error):  0.0178526220959 12.2662471318\n",
      "(max centroid change, error):  0.011916681101 12.2662028571\n",
      "(max centroid change, error):  0.00716127079382 12.2661772002\n",
      "(max centroid change, error):  0.00912026678187 12.2661370534\n",
      "(max centroid change, error):  0.0139816383414 12.2660626288\n",
      "(max centroid change, error):  0.016160157599 12.2659689669\n",
      "(max centroid change, error):  0.0179877176593 12.265879173\n",
      "(max centroid change, error):  0.01741340749 12.2658182435\n",
      "(max centroid change, error):  0.0132978840043 12.2657818278\n",
      "(max centroid change, error):  0.0104739273024 12.2657543854\n",
      "(max centroid change, error):  0.0156551482441 12.2657195434\n",
      "(max centroid change, error):  0.0241819846657 12.2656780807\n",
      "(max centroid change, error):  0.010821087145 12.265654339\n",
      "(max centroid change, error):  0.0122254454477 12.2656382676\n",
      "(max centroid change, error):  0.0313162955833 12.2656071775\n",
      "(max centroid change, error):  0.0226657226779 12.2655826472\n",
      "(max centroid change, error):  0.0129100695918 12.2655697275\n",
      "(max centroid change, error):  0.0110646714469 12.2655603074\n",
      "(max centroid change, error):  0.0101757296872 12.2655470268\n",
      "(max centroid change, error):  0.0133039536951 12.2655348069\n",
      "(max centroid change, error):  0.0067024218954 12.2655292017\n",
      "(max centroid change, error):  0.0072436924956 12.2655249149\n",
      "(max centroid change, error):  0.0131576583161 12.2655170319\n",
      "(max centroid change, error):  0.0108550815916 12.2655113501\n",
      "(max centroid change, error):  0.0145060983182 12.2654965499\n",
      "(max centroid change, error):  0.0206884873673 12.2654815339\n",
      "(max centroid change, error):  0.0100450254823 12.265472915\n",
      "(max centroid change, error):  0.00436740846449 12.2654711186\n",
      "(max centroid change, error):  0.0 12.2654711186\n",
      "Final error:  12.2654711186\n"
     ]
    },
    {
     "data": {
      "text/plain": [
       "0.29281624154086411"
      ]
     },
     "execution_count": 21,
     "metadata": {},
     "output_type": "execute_result"
    }
   ],
   "source": [
    "km = kmeans.kmeans(xa, nCluster=256)\n",
    "km.fit()\n",
    "km.labelClusters(ytrain)\n",
    "(km.pred(xa) != ytrain).mean()"
   ]
  },
  {
   "cell_type": "code",
   "execution_count": 24,
   "metadata": {
    "collapsed": false
   },
   "outputs": [
    {
     "name": "stdout",
     "output_type": "stream",
     "text": [
      "(max centroid change, error):  0.0 12.2654711186\n",
      "(max centroid change, error):  0.0 12.2654711186\n",
      "Final error:  12.2654711186\n"
     ]
    }
   ],
   "source": [
    "km.fit(centroids=km.centroids.copy())"
   ]
  },
  {
   "cell_type": "code",
   "execution_count": 22,
   "metadata": {
    "collapsed": false,
    "scrolled": true
   },
   "outputs": [
    {
     "data": {
      "text/plain": [
       "0.31630000000000003"
      ]
     },
     "execution_count": 22,
     "metadata": {},
     "output_type": "execute_result"
    }
   ],
   "source": [
    "(km.pred(xatest) != ytest).mean()"
   ]
  },
  {
   "cell_type": "markdown",
   "metadata": {},
   "source": [
    "## Gaussian Model"
   ]
  },
  {
   "cell_type": "code",
   "execution_count": 49,
   "metadata": {
    "collapsed": false,
    "scrolled": true
   },
   "outputs": [
    {
     "name": "stdout",
     "output_type": "stream",
     "text": [
      "Sum of eigenvalues (direct): 117\n",
      "Sum of eigenvalues (from xTx): 117\n"
     ]
    }
   ],
   "source": [
    "# Perform PCA\n",
    "nKeepGauss = 20\n",
    "w, vgaussian = pca.PCA(xtrain)\n",
    "xa = pca.proj(xtrain, vgaussian, nKeepGauss)\n",
    "# x0 = xa[ytrain.flatten() == 0]\n",
    "# x1 = xa[ytrain.flatten() == 1]\n",
    "xatest = pca.proj(xtest, vgaussian, nKeepGauss)"
   ]
  },
  {
   "cell_type": "code",
   "execution_count": 50,
   "metadata": {
    "collapsed": false
   },
   "outputs": [
    {
     "data": {
      "text/plain": [
       "0.38033075721779525"
      ]
     },
     "execution_count": 50,
     "metadata": {},
     "output_type": "execute_result"
    }
   ],
   "source": [
    "# \"train\" the model\n",
    "gm = gaussianModel.GaussianModel()\n",
    "gm.fit(xa, ytrain)\n",
    "(gm.pred(xa) != ytrain).mean()"
   ]
  },
  {
   "cell_type": "markdown",
   "metadata": {},
   "source": [
    "## RBFKernel square loss"
   ]
  },
  {
   "cell_type": "code",
   "execution_count": 205,
   "metadata": {
    "collapsed": true
   },
   "outputs": [],
   "source": [
    "linearRBFSavename = 'linearRBF.p'"
   ]
  },
  {
   "cell_type": "code",
   "execution_count": 123,
   "metadata": {
    "collapsed": false
   },
   "outputs": [
    {
     "name": "stdout",
     "output_type": "stream",
     "text": [
      "Sum of eigenvalues (direct): 214\n",
      "Sum of eigenvalues (from xTx): 214\n"
     ]
    }
   ],
   "source": [
    "# Condition and perform PCA\n",
    "#xa, center, scale = utils.condition(xtrain)\n",
    "w, v = pca.PCA(xtrain)\n",
    "xa = pca.proj(xtrain, v, 40)\n",
    "xatest = pca.proj(xtest, v, 20)"
   ]
  },
  {
   "cell_type": "code",
   "execution_count": 215,
   "metadata": {
    "collapsed": false,
    "scrolled": true
   },
   "outputs": [],
   "source": [
    "# Initialize\n",
    "lr = linearRBF.LinearRBF(xa, ytrain, miniBatchSize=30, learningRateScale=1e-6)"
   ]
  },
  {
   "cell_type": "code",
   "execution_count": 216,
   "metadata": {
    "collapsed": false,
    "scrolled": true
   },
   "outputs": [
    {
     "name": "stdout",
     "output_type": "stream",
     "text": [
      "training loss: 0.603333333333\n",
      "training 0/1 loss: 0.603333333333\n",
      "\n",
      "Step:  1\n",
      "training loss: 0.377093531142\n",
      "training 0/1 loss: 0.531\n",
      "\n",
      "Step:  2\n",
      "training loss: 0.349516691918\n",
      "training 0/1 loss: 0.509666666667\n",
      "\n",
      "Step:  3\n",
      "training loss: 0.327868480804\n",
      "training 0/1 loss: 0.486666666667\n",
      "\n",
      "Step:  4\n",
      "training loss: 0.309795957291\n",
      "training 0/1 loss: 0.463333333333\n",
      "\n",
      "CPU times: user 2min 1s, sys: 1min 59s, total: 4min 1s\n",
      "Wall time: 1min 52s\n"
     ]
    }
   ],
   "source": [
    "try:\n",
    "    %time lr.fit(subset=3000, maxIter=4)\n",
    "finally:\n",
    "    pickle.dump(lr, open(linearRBFSavename, 'w'), 2)"
   ]
  },
  {
   "cell_type": "markdown",
   "metadata": {},
   "source": [
    "## Logstic regression"
   ]
  },
  {
   "cell_type": "code",
   "execution_count": 45,
   "metadata": {
    "collapsed": false
   },
   "outputs": [
    {
     "name": "stdout",
     "output_type": "stream",
     "text": [
      "training loss: 1.38779317775e-05\n",
      "training 0/1 loss: 0.597345132743\n",
      "\n",
      "Step:  1\n",
      "training loss: 6.16824429737e-06\n",
      "training 0/1 loss: 0.125315340568\n",
      "\n",
      "Step:  2\n",
      "training loss: 6.13046738129e-06\n",
      "training 0/1 loss: 0.125235254074\n",
      "\n",
      "Step:  3\n",
      "training loss: 6.10834673522e-06\n",
      "training 0/1 loss: 0.124174108037\n",
      "\n",
      "Step:  4\n",
      "training loss: 6.11229998318e-06\n",
      "training 0/1 loss: 0.124574540504\n",
      "\n",
      "Step:  5\n",
      "training loss: 6.10612821976e-06\n",
      "training 0/1 loss: 0.124694670244\n",
      "\n",
      "Step:  6\n",
      "training loss: 6.09972541109e-06\n",
      "training 0/1 loss: 0.124754735114\n",
      "\n",
      "Step:  7\n",
      "training loss: 6.10038885491e-06\n",
      "training 0/1 loss: 0.12425419453\n",
      "\n",
      "Step:  8\n",
      "training loss: 6.1005169914e-06\n",
      "training 0/1 loss: 0.124894886477\n",
      "\n",
      "Step:  9\n",
      "training loss: 6.09864451434e-06\n",
      "training 0/1 loss: 0.124634605374\n",
      "\n",
      "Step:  10\n",
      "training loss: 6.09372884228e-06\n",
      "training 0/1 loss: 0.124274216153\n",
      "\n",
      "Step:  11\n",
      "training loss: 6.09360727033e-06\n",
      "training 0/1 loss: 0.12437432427\n",
      "\n",
      "Step:  12\n",
      "training loss: 6.09164575179e-06\n",
      "training 0/1 loss: 0.124714691867\n",
      "\n",
      "Step:  13\n",
      "training loss: 6.09328047755e-06\n",
      "training 0/1 loss: 0.1243142594\n",
      "\n",
      "Step:  14\n",
      "training loss: 6.09425168588e-06\n",
      "training 0/1 loss: 0.12461458375\n",
      "\n",
      "Converged\n"
     ]
    }
   ],
   "source": [
    "# dataWeights = np.ones([len(xtrain), 1])\n",
    "# dataWeights = np.random.rand(len(xtrain), 1)\n",
    "dataWeights = None\n",
    "# dataWeights /= dataWeights.sum()\n",
    "# print dataWeights.mean()\n",
    "logistic = LinearSGD(xtrain, ytrain, learningRateScale=1e-1, lossScheme='softmax', miniBatchSize=100, tau0=int(1e5), kappa=0.55)\n",
    "logistic.fit(maxIter=30, ftol=1e-6, dataWeights=dataWeights)\n"
   ]
  },
  {
   "cell_type": "markdown",
   "metadata": {},
   "source": [
    "## RBF Kernel softmax"
   ]
  },
  {
   "cell_type": "code",
   "execution_count": 163,
   "metadata": {
    "collapsed": true
   },
   "outputs": [],
   "source": [
    "lr2 = linearRBF.LinearRBF(xa, ytrain, miniBatchSize=30, learningRateScale=1e-3, lossScheme='softmax', kappa=0.55, tau0=int(1e6))"
   ]
  },
  {
   "cell_type": "code",
   "execution_count": 164,
   "metadata": {
    "collapsed": false,
    "scrolled": true
   },
   "outputs": [
    {
     "name": "stdout",
     "output_type": "stream",
     "text": [
      "training loss: 0.69314718056\n",
      "training 0/1 loss: 0.603333333333\n",
      "\n",
      "Step:  1\n",
      "training loss: 0.647908916075\n",
      "training 0/1 loss: 0.218666666667\n",
      "\n"
     ]
    }
   ],
   "source": [
    "lr2.fit(subset=3000, maxIter=1)"
   ]
  },
  {
   "cell_type": "markdown",
   "metadata": {},
   "source": [
    "## Linear Random Map"
   ]
  },
  {
   "cell_type": "code",
   "execution_count": 40,
   "metadata": {
    "collapsed": false,
    "scrolled": true
   },
   "outputs": [
    {
     "name": "stdout",
     "output_type": "stream",
     "text": [
      "training loss: 0.69314718056\n",
      "training 0/1 loss: 0.597345132743\n",
      "\n",
      "Step:  1\n",
      "training loss: 0.654918779348\n",
      "training 0/1 loss: 0.250410443279\n",
      "\n",
      "Step:  2\n",
      "training loss: 0.636551462115\n",
      "training 0/1 loss: 0.243242702118\n",
      "\n",
      "Step:  3\n",
      "training loss: 0.623937748346\n",
      "training 0/1 loss: 0.236215112321\n",
      "\n",
      "Step:  4\n",
      "training loss: 0.615000303074\n",
      "training 0/1 loss: 0.236675609658\n",
      "\n",
      "Step:  5\n",
      "training loss: 0.607579802333\n",
      "training 0/1 loss: 0.234072798623\n",
      "\n",
      "Step:  6\n",
      "training loss: 0.601390986119\n",
      "training 0/1 loss: 0.231149641613\n",
      "\n",
      "Step:  7\n",
      "training loss: 0.597032598408\n",
      "training 0/1 loss: 0.229147479278\n",
      "\n",
      "Step:  8\n",
      "training loss: 0.592086720585\n",
      "training 0/1 loss: 0.228907219797\n",
      "\n",
      "Step:  9\n",
      "training loss: 0.58842190926\n",
      "training 0/1 loss: 0.227685900773\n",
      "\n",
      "Step:  10\n",
      "training loss: 0.584993771829\n",
      "training 0/1 loss: 0.227705922396\n",
      "\n",
      "Step:  11\n",
      "training loss: 0.582089134002\n",
      "training 0/1 loss: 0.226724862852\n",
      "\n",
      "Step:  12\n",
      "training loss: 0.579437680883\n",
      "training 0/1 loss: 0.226204300645\n",
      "\n",
      "Step:  13\n",
      "training loss: 0.577007284401\n",
      "training 0/1 loss: 0.226564689865\n",
      "\n",
      "Step:  14\n",
      "training loss: 0.574610075983\n",
      "training 0/1 loss: 0.225823889801\n",
      "\n",
      "Step:  15\n",
      "training loss: 0.572840147781\n",
      "training 0/1 loss: 0.22438233292\n",
      "\n",
      "Step:  16\n",
      "training loss: 0.571107061256\n",
      "training 0/1 loss: 0.224122051816\n",
      "\n",
      "Step:  17\n",
      "training loss: 0.568919636727\n",
      "training 0/1 loss: 0.223981900452\n",
      "\n",
      "Step:  18\n",
      "training loss: 0.567274911968\n",
      "training 0/1 loss: 0.225063068114\n",
      "\n",
      "Step:  19\n",
      "training loss: 0.565744817222\n",
      "training 0/1 loss: 0.224662635646\n",
      "\n",
      "Step:  20\n",
      "training loss: 0.564146407269\n",
      "training 0/1 loss: 0.223401273375\n",
      "\n",
      "Step:  21\n",
      "training loss: 0.562736857142\n",
      "training 0/1 loss: 0.223241100388\n",
      "\n",
      "Step:  22\n",
      "training loss: 0.561629671034\n",
      "training 0/1 loss: 0.224021943699\n",
      "\n",
      "Step:  23\n",
      "training loss: 0.560138145939\n",
      "training 0/1 loss: 0.223161013895\n",
      "\n",
      "Step:  24\n",
      "training loss: 0.558992475238\n",
      "training 0/1 loss: 0.223261122012\n",
      "\n",
      "Step:  25\n",
      "training loss: 0.557813108056\n",
      "training 0/1 loss: 0.222900732791\n",
      "\n",
      "Step:  26\n",
      "training loss: 0.556802499953\n",
      "training 0/1 loss: 0.222540343571\n",
      "\n",
      "Step:  27\n",
      "training loss: 0.555720569215\n",
      "training 0/1 loss: 0.222940776038\n",
      "\n",
      "Step:  28\n",
      "training loss: 0.554712118183\n",
      "training 0/1 loss: 0.222540343571\n",
      "\n",
      "Step:  29\n",
      "training loss: 0.55376212\n",
      "training 0/1 loss: 0.222480278701\n",
      "\n",
      "Step:  30\n",
      "training loss: 0.552976244382\n",
      "training 0/1 loss: 0.222880711168\n",
      "\n"
     ]
    }
   ],
   "source": [
    "lrm = LinearRandom(xtrain, ytrain, lossScheme='softmax', learningRateScale=5e-4, regScale=0., miniBatchSize=50, \\\n",
    "                  tau0=int(1e5), kappa=0.55, nRandFeatures=1000)\n",
    "lrm.fit(maxIter=30)"
   ]
  },
  {
   "cell_type": "markdown",
   "metadata": {
    "collapsed": true
   },
   "source": [
    "## Ensemble Predictions"
   ]
  },
  {
   "cell_type": "code",
   "execution_count": null,
   "metadata": {
    "collapsed": true
   },
   "outputs": [],
   "source": []
  },
  {
   "cell_type": "code",
   "execution_count": 54,
   "metadata": {
    "collapsed": false
   },
   "outputs": [],
   "source": [
    "xkm = pca.proj(xtrain, vkmeans, nKeepKmeans)\n",
    "xgm = pca.proj(xtrain, vgaussian, nKeepGauss)\n",
    "kmPred = km.pred(xkm)\n",
    "gmPred = gm.pred(xgm)\n",
    "linPred = lr.pred(xtrain)\n",
    "# lrmPred = lrm.pred(xtrain)\n",
    "\n",
    "# Get scaled confidences (for km and gm, the min confidence will be 1/2)\n",
    "kmConf = (2 * km.confidence(xkm) - 1)\n",
    "gmConf = (2 * gm.confidence(xgm) - 1)\n",
    "linConf = lr.confidence(xtrain)\n",
    "\n",
    "kmPred = (2 * kmPred - 1) * kmConf\n",
    "gmPred = (2 * gmPred - 1) * gmConf\n",
    "linPred = (2 * linPred - 1) * linConf\n",
    "# lrmPred = (2 * lrmPred - 1)"
   ]
  },
  {
   "cell_type": "code",
   "execution_count": 59,
   "metadata": {
    "collapsed": false
   },
   "outputs": [],
   "source": [
    "logPred = 2 * softmaxProb(logistic.featureMap(xtrain), logistic.sgd.w) - 1"
   ]
  },
  {
   "cell_type": "markdown",
   "metadata": {},
   "source": [
    "### Softmax probability"
   ]
  },
  {
   "cell_type": "code",
   "execution_count": 79,
   "metadata": {
    "collapsed": false
   },
   "outputs": [],
   "source": [
    "w = lrm.sgd.w\n",
    "h = lrm.featureMap(xtrain)\n",
    "# ypred = np.dot(h, w)\n",
    "lrmPred = softmaxProb(h, w)[:, 1, None]\n",
    "lrmPred = 2*lrmPred - 1"
   ]
  },
  {
   "cell_type": "code",
   "execution_count": 57,
   "metadata": {
    "collapsed": false
   },
   "outputs": [],
   "source": [
    "def softmaxProb(x, w):\n",
    "    \"\"\"\n",
    "    P[i, j] is the probability of belonging to class j given x[i], w[:, j]\n",
    "    \"\"\"\n",
    "    N, m = w.shape\n",
    "    k = m + 1\n",
    "    E = np.exp(np.dot(x, w))\n",
    "    A = 1./(1 + E.sum(1))\n",
    "    A = utils.columnVector(A)    \n",
    "    P = np.dot(A, np.ones([1, k]))    \n",
    "    P[:, 0:-1] *= E\n",
    "    \n",
    "    return P[:, 1, None]"
   ]
  },
  {
   "cell_type": "code",
   "execution_count": 60,
   "metadata": {
    "collapsed": false
   },
   "outputs": [],
   "source": [
    "allPred = np.concatenate([kmPred.T, gmPred.T, linPred.T, logPred.T]).T"
   ]
  },
  {
   "cell_type": "code",
   "execution_count": 61,
   "metadata": {
    "collapsed": false
   },
   "outputs": [
    {
     "data": {
      "text/plain": [
       "<matplotlib.legend.Legend at 0x7fa5546d3d50>"
      ]
     },
     "execution_count": 61,
     "metadata": {},
     "output_type": "execute_result"
    },
    {
     "data": {
      "image/png": "[encoded data removed]",
      "text/plain": [
       "<matplotlib.figure.Figure at 0x7fa5546d3b10>"
      ]
     },
     "metadata": {},
     "output_type": "display_data"
    }
   ],
   "source": [
    "plt.hist(allPred);\n",
    "plt.legend(['km', 'gm', 'linear', 'logPred'])"
   ]
  },
  {
   "cell_type": "code",
   "execution_count": 62,
   "metadata": {
    "collapsed": false
   },
   "outputs": [],
   "source": [
    "def predictor(w):\n",
    "    predval = (allPred * w).sum(1)\n",
    "    ypred = np.zeros(ytrain.shape)\n",
    "    ypred[predval > 0] = 1\n",
    "    return ypred\n",
    "\n",
    "def loss(w):\n",
    "    ypred = predictor(w)\n",
    "    return (ypred != ytrain).mean()"
   ]
  },
  {
   "cell_type": "code",
   "execution_count": 63,
   "metadata": {
    "collapsed": false
   },
   "outputs": [],
   "source": [
    "ws = 2*np.random.rand(5000, 4) - 1\n",
    "L = [loss(w) for w in ws]"
   ]
  },
  {
   "cell_type": "code",
   "execution_count": 64,
   "metadata": {
    "collapsed": false
   },
   "outputs": [
    {
     "name": "stdout",
     "output_type": "stream",
     "text": [
      "0.1237136107 [ 0.08730083 -0.04208582  0.9555664   0.20743195]\n"
     ]
    }
   ],
   "source": [
    "iBest = np.argmin(L)\n",
    "print L[iBest], ws[iBest]"
   ]
  },
  {
   "cell_type": "code",
   "execution_count": 85,
   "metadata": {
    "collapsed": false
   },
   "outputs": [
    {
     "name": "stdout",
     "output_type": "stream",
     "text": [
      "0.124974972971\n"
     ]
    }
   ],
   "source": [
    "print loss(np.array([0, 0, 1., 0]))"
   ]
  },
  {
   "cell_type": "code",
   "execution_count": null,
   "metadata": {
    "collapsed": true
   },
   "outputs": [],
   "source": []
  }
 ],
 "metadata": {
  "kernelspec": {
   "display_name": "Python 2",
   "language": "python",
   "name": "python2"
  },
  "language_info": {
   "codemirror_mode": {
    "name": "ipython",
    "version": 2
   },
   "file_extension": ".py",
   "mimetype": "text/x-python",
   "name": "python",
   "nbconvert_exporter": "python",
   "pygments_lexer": "ipython2",
   "version": "2.7.12"
  }
 },
 "nbformat": 4,
 "nbformat_minor": 1
}
