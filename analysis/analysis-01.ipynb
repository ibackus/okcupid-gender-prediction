{
 "cells": [
  {
   "cell_type": "markdown",
   "metadata": {},
   "source": [
    "## Imports"
   ]
  },
  {
   "cell_type": "code",
   "execution_count": 1,
   "metadata": {
    "collapsed": false
   },
   "outputs": [],
   "source": [
    "%load_ext autoreload\n",
    "%autoreload 2\n",
    "%matplotlib inline"
   ]
  },
  {
   "cell_type": "code",
   "execution_count": 2,
   "metadata": {
    "collapsed": false
   },
   "outputs": [
    {
     "data": {
      "text/plain": [
       "0"
      ]
     },
     "execution_count": 2,
     "metadata": {},
     "output_type": "execute_result"
    }
   ],
   "source": [
    "import gc\n",
    "gc.collect()"
   ]
  },
  {
   "cell_type": "code",
   "execution_count": 3,
   "metadata": {
    "collapsed": false
   },
   "outputs": [],
   "source": [
    "# External imports\n",
    "import numpy as np\n",
    "import cPickle as pickle\n",
    "import pandas as pd\n",
    "import matplotlib.pyplot as plt\n",
    "from scipy.optimize import fmin\n",
    "# Internal imports\n",
    "import utils\n",
    "import okcupidio\n",
    "import linearRegression\n",
    "import kmeans\n",
    "import pca\n",
    "import gaussianModel\n",
    "import RBFkernel\n",
    "import sgd\n",
    "import linearRBF\n",
    "from linearBinaryClassifier import LinearBinaryClassifier\n",
    "from linearRandom import LinearRandom\n",
    "from randomMap import RandomMap\n",
    "from genericLinear import LinearSGD"
   ]
  },
  {
   "cell_type": "code",
   "execution_count": 4,
   "metadata": {
    "collapsed": true
   },
   "outputs": [],
   "source": [
    "from itertools import cycle\n",
    "lines = [\"-\",\"--\",\"-.\",\":\"]\n",
    "linecycler = cycle(lines)"
   ]
  },
  {
   "cell_type": "markdown",
   "metadata": {},
   "source": [
    "## Generate Features from OK Cupid Data"
   ]
  },
  {
   "cell_type": "code",
   "execution_count": 53,
   "metadata": {
    "collapsed": true
   },
   "outputs": [],
   "source": [
    "# SETTINGS\n",
    "savename = 'features.p'"
   ]
  },
  {
   "cell_type": "code",
   "execution_count": 54,
   "metadata": {
    "collapsed": false,
    "scrolled": true
   },
   "outputs": [
    {
     "name": "stdout",
     "output_type": "stream",
     "text": [
      "orientation multiple choice\n",
      "sign multiple choice\n",
      "height int\n",
      "body_type multiple choice\n",
      "education multiple choice\n",
      "ethnicity list\n",
      "drinks ranked\n",
      "wants_more_kids multiple choice\n",
      "likes_cats int\n",
      "likes_dogs int\n",
      "has_cats int\n",
      "religion multiple choice\n",
      "income int\n",
      "speaks list\n",
      "has_kids int\n",
      "religion_importance ranked\n",
      "status multiple choice\n",
      "drugs ranked\n",
      "last_online date\n",
      "diet multiple choice\n",
      "job multiple choice\n",
      "sex multiple choice\n",
      "sign_matters multiple choice\n",
      "age int\n",
      "smokes multiple choice\n",
      "has_dogs int\n",
      "essay9 short response\n",
      "essay8 short response\n",
      "essay1 short response\n",
      "essay0 short response\n",
      "essay3 short response\n",
      "essay2 short response\n",
      "essay5 short response\n",
      "essay4 short response\n",
      "essay7 short response\n",
      "essay6 short response\n"
     ]
    }
   ],
   "source": [
    "# MAKE FEATURES\n",
    "# Loads data (fairly raw)\n",
    "data = okcupidio.loadData()\n",
    "# Preprocess data\n",
    "okcupidio.processData(data)\n",
    "# And make binary features out of it\n",
    "features, featureNames = okcupidio.buildFeatures(data)\n",
    "# First, replace -1 with nans\n",
    "features[features == -1] = np.nan\n",
    "# Save\n",
    "pickle.dump((features, featureNames), open(savename, 'w'), 2)"
   ]
  },
  {
   "cell_type": "markdown",
   "metadata": {},
   "source": [
    "## Make feature arrays using imputation"
   ]
  },
  {
   "cell_type": "code",
   "execution_count": 55,
   "metadata": {
    "collapsed": false
   },
   "outputs": [],
   "source": [
    "# LOAD FEATURES\n",
    "features, featureNames = pickle.load(open(savename, 'r'))"
   ]
  },
  {
   "cell_type": "code",
   "execution_count": 56,
   "metadata": {
    "collapsed": true
   },
   "outputs": [],
   "source": [
    "# Settings\n",
    "labelsColumn = 'sex_m'\n",
    "dropData = ['last_online']\n",
    "minResponseRate = 0.25\n",
    "nTest = 10000"
   ]
  },
  {
   "cell_type": "code",
   "execution_count": 57,
   "metadata": {
    "collapsed": false
   },
   "outputs": [],
   "source": [
    "# Load data\n",
    "rawDF = pd.DataFrame(data=features, columns=featureNames)\n",
    "pickle.dump(rawDF, open('rawdf.p','w'), 2)\n",
    "\n",
    "# drop unwanted data\n",
    "for drop in dropData:\n",
    "    \n",
    "    rawDF.drop(drop, 1, inplace=True)\n",
    "    \n",
    "# Ignore data with response rates too low\n",
    "# columns = df.columns[df.columns != labelsColumn]\n",
    "columns = rawDF.columns\n",
    "for col in columns:\n",
    "    \n",
    "    if rawDF[col].notnull().mean() < minResponseRate:\n",
    "        \n",
    "        rawDF.drop(col, 1, inplace=True)\n",
    "        \n"
   ]
  },
  {
   "cell_type": "code",
   "execution_count": 58,
   "metadata": {
    "collapsed": false
   },
   "outputs": [],
   "source": [
    "# IMPUTATION\n",
    "# (replace missing data, except for in the labelsColumn)\n",
    "imputedDF = rawDF.copy()\n",
    "columns = imputedDF.columns[imputedDF.columns != labelsColumn]\n",
    "for col in columns:\n",
    "    series = imputedDF[col]\n",
    "    nChoice = series.isnull().sum()\n",
    "    if nChoice > 0:\n",
    "        notnulls = series[series.notnull()]\n",
    "#         vals = np.random.choice(notnulls, nChoice)\n",
    "        vals = notnulls.mean() * np.ones(nChoice)\n",
    "        series[series.isnull()] = vals\n",
    "        imputedDF[col] = series"
   ]
  },
  {
   "cell_type": "code",
   "execution_count": 59,
   "metadata": {
    "collapsed": false,
    "scrolled": false
   },
   "outputs": [],
   "source": [
    "# Now remove people without reported values in the labels Column\n",
    "df = imputedDF[imputedDF[labelsColumn].notnull()]\n",
    "filteredDF = rawDF[imputedDF[labelsColumn].notnull()]\n",
    "# Ignore entries where stddev == 0\n",
    "columns = df.columns[df.columns != labelsColumn]\n",
    "for col in columns:\n",
    "    if df[col].std() == 0:\n",
    "        print 'dropping: ', col\n",
    "        df.drop(col, 1, inplace=True)\n",
    "        filteredDF.drop(col, 1, inplace=True)\n",
    "        \n",
    "pickle.dump(df, open('imputed_df.p', 'w'), 2)\n",
    "pickle.dump(filteredDF, open('filtered_df.p', 'w'), 2)"
   ]
  },
  {
   "cell_type": "code",
   "execution_count": 60,
   "metadata": {
    "collapsed": false,
    "scrolled": true
   },
   "outputs": [],
   "source": [
    "# Get arrays from the data frame\n",
    "dfShort = df.drop(labelsColumn, 1)\n",
    "x = dfShort.values\n",
    "names = dfShort.columns.values\n",
    "y = df[labelsColumn].values\n",
    "# And save\n",
    "pickle.dump((x, y, names), open('dataset.p', 'w'), 2)"
   ]
  },
  {
   "cell_type": "code",
   "execution_count": 61,
   "metadata": {
    "collapsed": false
   },
   "outputs": [],
   "source": [
    "# NOW SPLIT the dataset\n",
    "y = y.reshape([len(y), 1])\n",
    "nTrain = len(x) - nTest\n",
    "np.random.seed(0)\n",
    "ind = np.random.rand(len(x)).argsort()\n",
    "trainInd = ind[0:nTrain]\n",
    "testInd = ind[nTrain:]\n",
    "xtrain, ytrain = (x[trainInd], y[trainInd])\n",
    "xtest, ytest = (x[testInd], y[testInd])\n",
    "# And condition it\n",
    "xtrain, center, scale = utils.condition(xtrain)\n",
    "xtest, center, scale = utils.condition(xtest, center, scale)\n",
    "\n",
    "# save the split set\n",
    "pickle.dump((xtrain, ytrain, trainInd), open('data_train.p', 'w'), 2)\n",
    "pickle.dump((xtest, ytest, testInd), open('data_test.p','w'), 2)"
   ]
  },
  {
   "cell_type": "markdown",
   "metadata": {},
   "source": [
    "## Load Data"
   ]
  },
  {
   "cell_type": "code",
   "execution_count": 6,
   "metadata": {
    "collapsed": false
   },
   "outputs": [],
   "source": [
    "# load data if necessary:\n",
    "df = pickle.load(open('imputed_df.p', 'r'))\n",
    "rawDF = pickle.load(open('rawdf.p'))\n",
    "x, y, names = pickle.load(open('dataset.p'))\n",
    "xtrain, ytrain, trainInd = pickle.load(open('data_train.p', 'r'))\n",
    "xtest, ytest, testInd = pickle.load(open('data_test.p', 'r'))"
   ]
  },
  {
   "cell_type": "code",
   "execution_count": 5,
   "metadata": {
    "collapsed": false
   },
   "outputs": [
    {
     "name": "stdout",
     "output_type": "stream",
     "text": [
      "(49946, 217)\n",
      "(10000, 217)\n"
     ]
    }
   ],
   "source": [
    "print xtrain.shape\n",
    "print xtest.shape"
   ]
  },
  {
   "cell_type": "markdown",
   "metadata": {},
   "source": [
    "## Linear regression"
   ]
  },
  {
   "cell_type": "markdown",
   "metadata": {},
   "source": [
    "### Un-boosted"
   ]
  },
  {
   "cell_type": "code",
   "execution_count": 7,
   "metadata": {
    "collapsed": false
   },
   "outputs": [
    {
     "name": "stdout",
     "output_type": "stream",
     "text": [
      "0/1 loss: 0.112361350258\n",
      "mean confidence: 0.836473337095\n"
     ]
    }
   ],
   "source": [
    "lr = linearRegression.BinaryLinearRegression(regScale=1e1)\n",
    "lr.fit(xtrain, ytrain)\n",
    "ypred = lr.pred(xtrain)\n",
    "wrong = (ypred != ytrain).astype(float)\n",
    "print \"0/1 loss:\", wrong.mean()\n",
    "print \"mean confidence:\", lr.confidence(xtrain).mean()\n",
    "pickle.dump((lr.w, lr.w0, names), open('regression_results.p','w'), 2)"
   ]
  },
  {
   "cell_type": "code",
   "execution_count": 28,
   "metadata": {
    "collapsed": false
   },
   "outputs": [
    {
     "data": {
      "image/png": "[encoded data removed]",
      "text/plain": [
       "<matplotlib.figure.Figure at 0x7ff478e4aa50>"
      ]
     },
     "metadata": {},
     "output_type": "display_data"
    }
   ],
   "source": [
    "yclass = lr.pred(xtrain)\n",
    "w = lr.w\n",
    "w0 = lr.w0\n",
    "ypred = np.dot(xtrain, w) + w0\n",
    "ybins = np.linspace(-1, 2, 50)\n",
    "plt.hist(ypred, ybins);\n",
    "plt.vlines(lr.classifier.threshold, 0, plt.ylim()[1], 'r')\n",
    "plt.ylabel('Count')\n",
    "plt.title('Histogram of predicted y for ridge regression')\n",
    "plt.xlabel(r'$\\hat{y}$')\n",
    "plt.legend(['classification threshold', 'training data'], loc='best')\n",
    "plt.savefig('figures/linear_ypred_histogram.pdf')"
   ]
  },
  {
   "cell_type": "code",
   "execution_count": 38,
   "metadata": {
    "collapsed": false
   },
   "outputs": [
    {
     "data": {
      "image/png": "[encoded data removed]",
      "text/plain": [
       "<matplotlib.figure.Figure at 0x7ff47885fc50>"
      ]
     },
     "metadata": {},
     "output_type": "display_data"
    }
   ],
   "source": [
    "confidence = lr.confidence(xtrain)\n",
    "plt.hist(confidence, 10);\n",
    "plt.ylabel('count')\n",
    "plt.xlabel('confidence')\n",
    "plt.title('confidence histogram for training set predictions for ridge regression')\n",
    "plt.savefig('figures/ridge_confidence.pdf')"
   ]
  },
  {
   "cell_type": "code",
   "execution_count": 31,
   "metadata": {
    "collapsed": false
   },
   "outputs": [
    {
     "data": {
      "image/png": "[encoded data removed]",
      "text/plain": [
       "<matplotlib.figure.Figure at 0x7f3f39afbc10>"
      ]
     },
     "metadata": {},
     "output_type": "display_data"
    }
   ],
   "source": [
    "nbins = 20\n",
    "bins = np.logspace(-5, -1, nbins+1)\n",
    "plt.hist(abs(lr.w), bins);\n",
    "plt.gca().set_xscale('log')\n",
    "plt.title('distribution of weights for ridge regression')\n",
    "plt.ylabel('count')\n",
    "plt.xlabel('|w|')\n",
    "plt.savefig('figures/ridge_regression_weights.pdf')"
   ]
  },
  {
   "cell_type": "code",
   "execution_count": 10,
   "metadata": {
    "collapsed": false
   },
   "outputs": [
    {
     "ename": "NameError",
     "evalue": "name 'dfShort' is not defined",
     "output_type": "error",
     "traceback": [
      "\u001b[0;31m\u001b[0m",
      "\u001b[0;31mNameError\u001b[0mTraceback (most recent call last)",
      "\u001b[0;32m<ipython-input-10-131b092dcdce>\u001b[0m in \u001b[0;36m<module>\u001b[0;34m()\u001b[0m\n\u001b[1;32m      1\u001b[0m \u001b[0mwInd\u001b[0m \u001b[0;34m=\u001b[0m \u001b[0mabs\u001b[0m\u001b[0;34m(\u001b[0m\u001b[0mlr\u001b[0m\u001b[0;34m.\u001b[0m\u001b[0mw\u001b[0m\u001b[0;34m.\u001b[0m\u001b[0mflatten\u001b[0m\u001b[0;34m(\u001b[0m\u001b[0;34m)\u001b[0m\u001b[0;34m)\u001b[0m\u001b[0;34m.\u001b[0m\u001b[0margsort\u001b[0m\u001b[0;34m(\u001b[0m\u001b[0;34m)\u001b[0m\u001b[0;34m\u001b[0m\u001b[0m\n\u001b[1;32m      2\u001b[0m \u001b[0;31m# print names[wInd[0:30]]\u001b[0m\u001b[0;34m\u001b[0m\u001b[0;34m\u001b[0m\u001b[0m\n\u001b[0;32m----> 3\u001b[0;31m \u001b[0mdf2\u001b[0m \u001b[0;34m=\u001b[0m \u001b[0mdfShort\u001b[0m\u001b[0;34m.\u001b[0m\u001b[0mfilter\u001b[0m\u001b[0;34m(\u001b[0m\u001b[0mlike\u001b[0m\u001b[0;34m=\u001b[0m\u001b[0;34m'speaks'\u001b[0m\u001b[0;34m)\u001b[0m\u001b[0;34m\u001b[0m\u001b[0m\n\u001b[0m\u001b[1;32m      4\u001b[0m \u001b[0ma\u001b[0m \u001b[0;34m=\u001b[0m \u001b[0mdf2\u001b[0m\u001b[0;34m.\u001b[0m\u001b[0msum\u001b[0m\u001b[0;34m(\u001b[0m\u001b[0;34m)\u001b[0m\u001b[0;34m\u001b[0m\u001b[0m\n\u001b[1;32m      5\u001b[0m \u001b[0ma\u001b[0m\u001b[0;34m.\u001b[0m\u001b[0msort\u001b[0m\u001b[0;34m(\u001b[0m\u001b[0;34m)\u001b[0m\u001b[0;34m\u001b[0m\u001b[0m\n",
      "\u001b[0;31mNameError\u001b[0m: name 'dfShort' is not defined"
     ]
    }
   ],
   "source": [
    "wInd = abs(lr.w.flatten()).argsort()\n",
    "# print names[wInd[0:30]]\n",
    "df2 = dfShort.filter(like='speaks')\n",
    "a = df2.sum()\n",
    "a.sort()\n",
    "print a/a.sum()"
   ]
  },
  {
   "cell_type": "markdown",
   "metadata": {},
   "source": [
    "### L2 boost"
   ]
  },
  {
   "cell_type": "code",
   "execution_count": 7,
   "metadata": {
    "collapsed": true
   },
   "outputs": [],
   "source": [
    "def evalPredictors(predictors, x, nu=0.5):\n",
    "    pred = predictors[0](x)\n",
    "    for predictor in predictors[1:]:\n",
    "        pred += nu*predictor(x)\n",
    "    return pred"
   ]
  },
  {
   "cell_type": "code",
   "execution_count": 8,
   "metadata": {
    "collapsed": false
   },
   "outputs": [
    {
     "name": "stdout",
     "output_type": "stream",
     "text": [
      "0.597345132743\n",
      "0.230710322316\n",
      "0.139050864147\n",
      "0.116135810708\n",
      "0.110407000122\n",
      "0.108974785668\n",
      "0.108616729103\n",
      "0.108527214224\n",
      "0.108504835319\n",
      "0.108499240547\n"
     ]
    }
   ],
   "source": [
    "# dataWeights = np.ones([len(xtrain), 1])\n",
    "\n",
    "ymean = ytrain.mean()\n",
    "nu = 0.5\n",
    "boostPredictors = [lambda x : np.zeros([len(x), 1])]\n",
    "\n",
    "for i in range(10):\n",
    "    ypred = evalPredictors(boostPredictors, xtrain, nu)\n",
    "    residuals = ytrain - ypred\n",
    "    print (residuals**2).mean()\n",
    "    lrBoost = linearRegression.BinaryLinearRegression(regScale=1e0, classify=False, scalarOffset=True)\n",
    "    lrBoost.fit(xtrain, residuals) \n",
    "    boostPredictors.append(lrBoost.ypred)"
   ]
  },
  {
   "cell_type": "code",
   "execution_count": 9,
   "metadata": {
    "collapsed": true
   },
   "outputs": [],
   "source": [
    "from linearBinaryClassifier import LinearBinaryClassifier\n",
    "\n",
    "ypred = evalPredictors(boostPredictors, xtrain, nu)\n",
    "boostClassifier = LinearBinaryClassifier(ytrain, ypred)\n",
    "\n",
    "def boostPred(x):\n",
    "    ypred = evalPredictors(boostPredictors, x, nu)\n",
    "    yclass = boostClassifier.classify(ypred)\n",
    "    confidence = boostClassifier.confidence(ypred)\n",
    "    return (2 * yclass - 1) * confidence"
   ]
  },
  {
   "cell_type": "markdown",
   "metadata": {},
   "source": [
    "#### Most male traits"
   ]
  },
  {
   "cell_type": "code",
   "execution_count": 14,
   "metadata": {
    "collapsed": false,
    "scrolled": false
   },
   "outputs": [
    {
     "name": "stdout",
     "output_type": "stream",
     "text": [
      "0 , height , 0.279118980281\n",
      "1 , body_type_athletic , 0.0423049284121\n",
      "2 , job_computer / hardware / software , 0.0353019759313\n",
      "3 , orientation_gay , 0.0260456026253\n",
      "4 , ethnicity_hispanic / latin , 0.0237886462659\n",
      "5 , job_science / tech / engineering , 0.0215516986064\n",
      "6 , ethnicity_asian , 0.0190760877008\n",
      "7 , job_construction / craftsmanship , 0.0174278961617\n",
      "8 , education_graduated from high school , 0.0163022698625\n",
      "9 , body_type_fit , 0.0157394454867\n"
     ]
    }
   ],
   "source": [
    "ind = (-lr.w[:,0]).argsort()\n",
    "for i in range(10):\n",
    "    j = ind[i]\n",
    "    print i,',', names[j],',', lr.w[j,0]"
   ]
  },
  {
   "cell_type": "markdown",
   "metadata": {},
   "source": [
    "#### Most female traits"
   ]
  },
  {
   "cell_type": "code",
   "execution_count": 16,
   "metadata": {
    "collapsed": false,
    "scrolled": false
   },
   "outputs": [
    {
     "name": "stdout",
     "output_type": "stream",
     "text": [
      "0 , body_type_curvy , 0.070797306793\n",
      "1 , ethnicity_white , 0.0396973974824\n",
      "2 , body_type_full figured , 0.0345614407715\n",
      "3 , orientation_bisexual , 0.0307447069283\n",
      "4 , has_cats , 0.0286279967904\n",
      "5 , job_medicine / health , 0.0221053124697\n",
      "6 , body_type_thin , 0.0217519286954\n",
      "7 , job_education / academia , 0.0200326446361\n",
      "8 , education_graduated from masters program , 0.0190705382787\n",
      "9 , has_dogs , 0.0182778669229\n"
     ]
    }
   ],
   "source": [
    "ind = (lr.w[:,0]).argsort()\n",
    "for i in range(10):\n",
    "    j = ind[i]\n",
    "    print i,',', names[j],',', abs(lr.w[j,0])"
   ]
  },
  {
   "cell_type": "markdown",
   "metadata": {},
   "source": [
    "#### Overall best predictors"
   ]
  },
  {
   "cell_type": "code",
   "execution_count": 25,
   "metadata": {
    "collapsed": false
   },
   "outputs": [
    {
     "name": "stdout",
     "output_type": "stream",
     "text": [
      "0 , height , 0.279118980281\n",
      "1 , body_type_curvy , -0.070797306793\n",
      "2 , body_type_athletic , 0.0423049284121\n",
      "3 , ethnicity_white , -0.0396973974824\n",
      "4 , job_computer / hardware / software , 0.0353019759313\n",
      "5 , body_type_full figured , -0.0345614407715\n",
      "6 , orientation_bisexual , -0.0307447069283\n",
      "7 , has_cats , -0.0286279967904\n",
      "8 , orientation_gay , 0.0260456026253\n",
      "9 , ethnicity_hispanic / latin , 0.0237886462659\n"
     ]
    }
   ],
   "source": [
    "absW = abs(lr.w[:, 0])\n",
    "ind = (-absW).argsort()\n",
    "for i in range(10):\n",
    "    j = ind[i]\n",
    "    print i,',', names[j],',', lr.w[j,0]"
   ]
  },
  {
   "cell_type": "markdown",
   "metadata": {},
   "source": [
    "#### Overall worst predictors"
   ]
  },
  {
   "cell_type": "code",
   "execution_count": 24,
   "metadata": {
    "collapsed": false
   },
   "outputs": [
    {
     "name": "stdout",
     "output_type": "stream",
     "text": [
      " 0 , speaks_latvian , 1.09710062992e-09\n",
      "1 , speaks_serbian , 1.16382962023e-05\n",
      "2 , education_ph.d program , 2.13281682121e-05\n",
      "3 , sign_taurus , 5.53266859017e-05\n",
      "4 , speaks_lisp , 7.65594214695e-05\n",
      "5 , speaks_georgian , 8.14712085875e-05\n",
      "6 , education_law school , 8.25810210317e-05\n",
      "7 , diet_strictly halal , 9.42571421528e-05\n",
      "8 , diet_mostly halal , 0.000104942468097\n",
      "9 , speaks_catalan , 0.000106935015331\n"
     ]
    }
   ],
   "source": [
    "absW = abs(lr.w[:, 0])\n",
    "ind = (absW).argsort()\n",
    "for i in range(10):\n",
    "    j = ind[i]\n",
    "    print i,',', names[j],',', absW[j]"
   ]
  },
  {
   "cell_type": "markdown",
   "metadata": {},
   "source": [
    "## K-means"
   ]
  },
  {
   "cell_type": "code",
   "execution_count": 10,
   "metadata": {
    "collapsed": false
   },
   "outputs": [
    {
     "name": "stdout",
     "output_type": "stream",
     "text": [
      "Sum of eigenvalues (direct): 217\n",
      "Sum of eigenvalues (from xTx): 217\n"
     ]
    }
   ],
   "source": [
    "# Perform PCA\n",
    "nKeepKmeans = 25\n",
    "w, vkmeans = pca.PCA(xtrain)\n",
    "xa = pca.proj(xtrain, vkmeans, nKeepKmeans)\n",
    "# x0 = xa[ytrain.flatten() == 0]\n",
    "# x1 = xa[ytrain.flatten() == 1]\n",
    "xatest = pca.proj(xtest, vkmeans, nKeepKmeans)"
   ]
  },
  {
   "cell_type": "code",
   "execution_count": 11,
   "metadata": {
    "collapsed": false,
    "scrolled": true
   },
   "outputs": [
    {
     "name": "stdout",
     "output_type": "stream",
     "text": [
      "(max centroid change, error):  13.7231319853 16.7071965234\n",
      "(max centroid change, error):  8.75086783791 14.9958528168\n",
      "(max centroid change, error):  20.832168804 14.1344679072\n",
      "(max centroid change, error):  1.63523318979 13.9572946921\n",
      "(max centroid change, error):  1.49556144829 13.854738963\n",
      "(max centroid change, error):  0.683930843601 13.7743929113\n",
      "(max centroid change, error):  0.795740256254 13.697082634\n",
      "(max centroid change, error):  0.860918969355 13.6300957898\n",
      "(max centroid change, error):  1.92803045467 13.5817950946\n",
      "(max centroid change, error):  0.389301446465 13.5524587269\n",
      "(max centroid change, error):  0.560388002662 13.5261387972\n",
      "(max centroid change, error):  0.555890450148 13.5031079756\n",
      "(max centroid change, error):  0.51242976908 13.4821934251\n",
      "(max centroid change, error):  1.18707893024 13.451203539\n",
      "(max centroid change, error):  2.1025547238 13.3779859986\n",
      "(max centroid change, error):  1.01729753764 13.352981102\n",
      "(max centroid change, error):  0.727822093976 13.3394839405\n",
      "(max centroid change, error):  2.53503001543 13.3151295423\n",
      "(max centroid change, error):  1.75882175477 13.2971788294\n",
      "(max centroid change, error):  0.820873483557 13.2880787582\n",
      "(max centroid change, error):  0.195649000999 13.2831334604\n",
      "(max centroid change, error):  0.0982928642445 13.2791786047\n",
      "Final error:  13.2791786047\n",
      "0/1 loss: 0.300224242182\n"
     ]
    }
   ],
   "source": [
    "# Perform kmeans\n",
    "km = kmeans.kmeans(xa, nCluster=256, xtol=.1)\n",
    "km.fit()\n",
    "km.labelClusters(ytrain)\n",
    "ypred = km.pred(xa)\n",
    "wrong = (ypred != ytrain).flatten()\n",
    "print \"0/1 loss:\", wrong.mean()\n",
    "\n",
    "kmSaveDict = {'centroids': km.centroids, 'clusterNames': km.clusterNames}\n",
    "pickle.dump(kmSaveDict, open('kmeans.p', 'w'), 2)"
   ]
  },
  {
   "cell_type": "markdown",
   "metadata": {},
   "source": [
    "## Gaussian Model"
   ]
  },
  {
   "cell_type": "code",
   "execution_count": 7,
   "metadata": {
    "collapsed": false,
    "scrolled": true
   },
   "outputs": [
    {
     "name": "stdout",
     "output_type": "stream",
     "text": [
      "Sum of eigenvalues (direct): 217\n",
      "Sum of eigenvalues (from xTx): 217\n"
     ]
    }
   ],
   "source": [
    "# Perform PCA\n",
    "nKeepGauss = 20\n",
    "w, vgaussian = pca.PCA(xtrain)\n",
    "xa = pca.proj(xtrain, vgaussian, nKeepGauss)\n",
    "# x0 = xa[ytrain.flatten() == 0]\n",
    "# x1 = xa[ytrain.flatten() == 1]\n",
    "xatest = pca.proj(xtest, vgaussian, nKeepGauss)"
   ]
  },
  {
   "cell_type": "code",
   "execution_count": 15,
   "metadata": {
    "collapsed": false
   },
   "outputs": [
    {
     "name": "stdout",
     "output_type": "stream",
     "text": [
      "0.829109146691\n",
      "2.1014655913\n"
     ]
    }
   ],
   "source": [
    "error = pca.reconstructionError(w)\n",
    "print error[20]\n",
    "print w[0]/w[20]"
   ]
  },
  {
   "cell_type": "code",
   "execution_count": 13,
   "metadata": {
    "collapsed": false
   },
   "outputs": [
    {
     "data": {
      "text/plain": [
       "0.31572097865694948"
      ]
     },
     "execution_count": 13,
     "metadata": {},
     "output_type": "execute_result"
    }
   ],
   "source": [
    "# \"train\" the model\n",
    "gm = gaussianModel.GaussianModel()\n",
    "gm.fit(xa, ytrain)\n",
    "(gm.pred(xa) != ytrain).mean()"
   ]
  },
  {
   "cell_type": "markdown",
   "metadata": {},
   "source": [
    "## Logstic regression"
   ]
  },
  {
   "cell_type": "code",
   "execution_count": 14,
   "metadata": {
    "collapsed": false,
    "scrolled": true
   },
   "outputs": [
    {
     "name": "stdout",
     "output_type": "stream",
     "text": [
      "training loss: 1.38779317775e-05\n",
      "training 0/1 loss: 0.597345132743\n",
      "\n",
      "Step:  1\n",
      "training loss: 5.69740151332e-06\n",
      "training 0/1 loss: 0.113222280062\n",
      "\n",
      "Step:  2\n",
      "training loss: 5.62328731124e-06\n",
      "training 0/1 loss: 0.111800744804\n",
      "\n",
      "Step:  3\n",
      "training loss: 5.60234679887e-06\n",
      "training 0/1 loss: 0.111840788051\n",
      "\n",
      "Step:  4\n",
      "training loss: 5.60386409594e-06\n",
      "training 0/1 loss: 0.111780723181\n",
      "\n",
      "Step:  5\n",
      "training loss: 5.59551270014e-06\n",
      "training 0/1 loss: 0.111940896168\n",
      "\n",
      "Step:  6\n",
      "training loss: 5.59210328554e-06\n",
      "training 0/1 loss: 0.111980939415\n",
      "\n",
      "Step:  7\n",
      "training loss: 5.59446657196e-06\n",
      "training 0/1 loss: 0.111640571818\n",
      "\n",
      "Step:  8\n",
      "training loss: 5.58973415197e-06\n",
      "training 0/1 loss: 0.111820766428\n",
      "\n",
      "Step:  9\n",
      "training loss: 5.58856313666e-06\n",
      "training 0/1 loss: 0.111039923117\n",
      "\n",
      "Step:  10\n",
      "training loss: 5.58462263748e-06\n",
      "training 0/1 loss: 0.111480398831\n",
      "\n",
      "Step:  11\n",
      "training loss: 5.58213775187e-06\n",
      "training 0/1 loss: 0.111280182597\n",
      "\n",
      "Step:  12\n",
      "training loss: 5.58162792623e-06\n",
      "training 0/1 loss: 0.111320225844\n",
      "\n",
      "Step:  13\n",
      "training loss: 5.5809807781e-06\n",
      "training 0/1 loss: 0.111280182597\n",
      "\n",
      "Step:  14\n",
      "training loss: 5.58231660014e-06\n",
      "training 0/1 loss: 0.111680615064\n",
      "\n",
      "Converged\n"
     ]
    }
   ],
   "source": [
    "dataWeights = None\n",
    "logistic = LinearSGD(xtrain, ytrain, learningRateScale=1e-1, lossScheme='softmax', miniBatchSize=100, tau0=int(1e5), kappa=0.55)\n",
    "logistic.fit(maxIter=30, ftol=1e-6, dataWeights=dataWeights)\n"
   ]
  },
  {
   "cell_type": "markdown",
   "metadata": {},
   "source": [
    "## RBF Kernel softmax"
   ]
  },
  {
   "cell_type": "code",
   "execution_count": 43,
   "metadata": {
    "collapsed": true
   },
   "outputs": [],
   "source": [
    "rbf = linearRBF.LinearRBF(xtrain, ytrain, miniBatchSize=30, learningRateScale=5e-4, lossScheme='softmax', \\\n",
    "                          kappa=0.55, tau0=int(1e5), arrayBatchSize=100)"
   ]
  },
  {
   "cell_type": "code",
   "execution_count": 44,
   "metadata": {
    "collapsed": false,
    "scrolled": true
   },
   "outputs": [
    {
     "name": "stdout",
     "output_type": "stream",
     "text": [
      "training loss: 1.38779317775e-05\n",
      "training 0/1 loss: 0.597345132743\n",
      "\n",
      "Step:  1\n",
      "training loss: 8.17325957682e-06\n",
      "training 0/1 loss: 0.185019821407\n",
      "\n",
      "Step:  2\n",
      "training loss: 7.9036031091e-06\n",
      "training 0/1 loss: 0.174908901614\n",
      "\n",
      "Step:  3\n",
      "training loss: 7.98776293697e-06\n",
      "training 0/1 loss: 0.179373723622\n",
      "\n",
      "Step:  4\n",
      "training loss: 7.84598965336e-06\n",
      "training 0/1 loss: 0.173867777199\n",
      "\n",
      "Step:  5\n",
      "training loss: 7.85084936733e-06\n",
      "training 0/1 loss: 0.171805549994\n",
      "\n",
      "Step:  6\n",
      "training loss: 8.20969761747e-06\n",
      "training 0/1 loss: 0.171405117527\n",
      "\n",
      "Converged\n"
     ]
    }
   ],
   "source": [
    "try:\n",
    "    rbf.fit(maxIter=30)\n",
    "finally:\n",
    "    pickle.dump(rbf, open('rbf_results.p', 'w'), 2)"
   ]
  },
  {
   "cell_type": "markdown",
   "metadata": {},
   "source": [
    "## Linear Random Map"
   ]
  },
  {
   "cell_type": "code",
   "execution_count": 45,
   "metadata": {
    "collapsed": false,
    "scrolled": true
   },
   "outputs": [
    {
     "name": "stdout",
     "output_type": "stream",
     "text": [
      "training loss: 1.38779317775e-05\n",
      "training 0/1 loss: 0.597345132743\n",
      "\n",
      "Step:  1\n",
      "training loss: 9.70771235129e-06\n",
      "training 0/1 loss: 0.143394866456\n",
      "\n",
      "Step:  2\n",
      "training loss: 1.62641941579e-05\n",
      "training 0/1 loss: 0.187622632443\n",
      "\n",
      "Step:  3\n",
      "training loss: 8.52411012296e-06\n",
      "training 0/1 loss: 0.133203860169\n",
      "\n",
      "Step:  4\n",
      "training loss: 8.70135592308e-06\n",
      "training 0/1 loss: 0.135085892764\n",
      "\n",
      "Step:  5\n",
      "training loss: 8.41940539284e-06\n",
      "training 0/1 loss: 0.133344011532\n",
      "\n",
      "Step:  6\n",
      "training loss: 9.08421585117e-06\n",
      "training 0/1 loss: 0.142674088015\n",
      "\n",
      "Converged\n"
     ]
    }
   ],
   "source": [
    "lrm = LinearRandom(xtrain, ytrain, lossScheme='softmax', learningRateScale=5e-4, regScale=0., miniBatchSize=50, \\\n",
    "                  tau0=int(1e5), kappa=0.55, nRandFeatures=len(xtrain))\n",
    "try:\n",
    "    lrm.fit(maxIter=30)\n",
    "finally:\n",
    "    pickle.dump(lrm, open('lrm_results.p', 'w'), 2)"
   ]
  },
  {
   "cell_type": "markdown",
   "metadata": {
    "collapsed": true
   },
   "source": [
    "## Ensemble Predictions"
   ]
  },
  {
   "cell_type": "code",
   "execution_count": 15,
   "metadata": {
    "collapsed": false
   },
   "outputs": [],
   "source": [
    "# Load results\n",
    "rbf = pickle.load(open('rbf_results.p','r'))\n",
    "lrm = pickle.load(open('lrm_results.p','r'))\n",
    "# kmSaveDict = pickle.load(open('kmeans.p', 'r'))"
   ]
  },
  {
   "cell_type": "code",
   "execution_count": 16,
   "metadata": {
    "collapsed": false
   },
   "outputs": [],
   "source": [
    "def softmaxProb(x, w):\n",
    "    \"\"\"\n",
    "    For binary softmax (eg logistic) gives probablity of x being in class 1 given w.\n",
    "    \"\"\"\n",
    "    N, m = w.shape\n",
    "    k = m + 1\n",
    "    E = np.exp(np.dot(x, w))\n",
    "    A = 1./(1 + E.sum(1))\n",
    "    A = utils.columnVector(A)    \n",
    "    P = np.dot(A, np.ones([1, k]))    \n",
    "    P[:, 0:-1] *= E\n",
    "    \n",
    "    return P[:, 1, None]"
   ]
  },
  {
   "cell_type": "code",
   "execution_count": 17,
   "metadata": {
    "collapsed": true
   },
   "outputs": [],
   "source": [
    "def kernelizedSoftmaxProb(x, w, featureMap, batchsize=100):\n",
    "    \"\"\"\n",
    "    \"\"\"\n",
    "    P = np.zeros([len(x), 1])\n",
    "    for slicer in utils.arrayBatch(x, batchsize):\n",
    "        h = featureMap(x[slicer])\n",
    "        P[slicer] = softmaxProb(h, w)\n",
    "    return P\n"
   ]
  },
  {
   "cell_type": "markdown",
   "metadata": {},
   "source": [
    "### Set up predictors"
   ]
  },
  {
   "cell_type": "code",
   "execution_count": 18,
   "metadata": {
    "collapsed": true
   },
   "outputs": [],
   "source": [
    "def predictor_kmeans(x):\n",
    "    x = pca.proj(x,vkmeans, nKeepKmeans)\n",
    "    kmPred = km.pred(x)\n",
    "    kmConf = (2 * km.confidence(x) - 1)\n",
    "    kmPred = (2 * kmPred - 1) * kmConf\n",
    "    return kmPred\n",
    "def predictor_gm(x):\n",
    "    x = pca.proj(x, vgaussian, nKeepGauss)\n",
    "    gmPred = gm.pred(x)\n",
    "    gmConf = 2 * gm.confidence(x) - 1\n",
    "    gmPred = (2 * gmPred - 1) * gmConf\n",
    "    return gmPred\n",
    "def predictor_lin(x):\n",
    "    linPred = lr.pred(x)\n",
    "    linConf = lr.confidence(x)\n",
    "    linPred = (2 * linPred - 1) * linConf\n",
    "    return linPred\n",
    "def predictor_log(x):\n",
    "    logPred = 2 * softmaxProb(logistic.featureMap(x), logistic.sgd.w) - 1\n",
    "    return logPred\n",
    "def predictor_lrm(x):\n",
    "    return 2 * kernelizedSoftmaxProb(x, lrm.results['w'], lrm.featureMap) - 1\n",
    "def predictor_rbf(x):\n",
    "    return 2 * kernelizedSoftmaxProb(x, rbf.results['w'], rbf.featureMap) - 1\n",
    "predFuncs = {'kmeans': predictor_kmeans,\n",
    "            'gm': predictor_gm,\n",
    "            'lin': predictor_lin,\n",
    "            'log': predictor_log,\n",
    "            'lrm': predictor_lrm,\n",
    "            'rbf': predictor_rbf}"
   ]
  },
  {
   "cell_type": "code",
   "execution_count": 49,
   "metadata": {
    "collapsed": false,
    "scrolled": true
   },
   "outputs": [
    {
     "name": "stdout",
     "output_type": "stream",
     "text": [
      "Calculating prediction for:  log\n",
      "Calculating prediction for:  lin\n",
      "Calculating prediction for:  lrm\n",
      "Calculating prediction for:  kmeans\n",
      "Calculating prediction for:  rbf\n",
      "Calculating prediction for:  gm\n"
     ]
    }
   ],
   "source": [
    "# Training predictions\n",
    "predictions = {}\n",
    "for name, predFunc in predFuncs.iteritems():\n",
    "    print 'Calculating prediction for: ', name\n",
    "    predictions[name] = predFunc(xtrain)\n",
    "pickle.dump(predictions, open('predictions_train.p', 'w'))"
   ]
  },
  {
   "cell_type": "code",
   "execution_count": 19,
   "metadata": {
    "collapsed": true
   },
   "outputs": [],
   "source": [
    "# Load the predictions\n",
    "predictions = pickle.load(open('predictions_train.p'))\n",
    "forestPredTrain, forestPredTest = pickle.load(open('forest_predictions.p','r'))\n",
    "predictions['random forest'] = forestPredTrain\n",
    "predictions['l2boost'] = boostPred(xtrain)"
   ]
  },
  {
   "cell_type": "code",
   "execution_count": 20,
   "metadata": {
    "collapsed": false
   },
   "outputs": [],
   "source": [
    "predictorNames = sorted(predictions.keys())\n",
    "allPred = [predictions[key].T for key in predictorNames]\n",
    "allPred = np.concatenate(allPred).T"
   ]
  },
  {
   "cell_type": "code",
   "execution_count": 23,
   "metadata": {
    "collapsed": false
   },
   "outputs": [
    {
     "data": {
      "image/png": "[encoded data removed]",
      "text/plain": [
       "<matplotlib.figure.Figure at 0x7fbeb0b45790>"
      ]
     },
     "metadata": {},
     "output_type": "display_data"
    }
   ],
   "source": [
    "bins = np.linspace(-1, 1, 11)\n",
    "bincenters = (bins[1:] + bins[0:-1])/2.\n",
    "for p in allPred.T:\n",
    "    N, dummy = np.histogram(p, bins)\n",
    "    plt.plot(bincenters, N, next(linecycler))\n",
    "plt.legend(predictorNames, ncol=2, loc='best');\n",
    "plt.savefig('figures/confidence_dist.pdf')"
   ]
  },
  {
   "cell_type": "markdown",
   "metadata": {},
   "source": [
    "### Find best predictor weights"
   ]
  },
  {
   "cell_type": "code",
   "execution_count": 75,
   "metadata": {
    "collapsed": false
   },
   "outputs": [],
   "source": [
    "def multiPredictor(w, predictions):\n",
    "    w = abs(w)\n",
    "    predval = (predictions * w).sum(1)\n",
    "    ypred = np.zeros([len(predval), 1])\n",
    "    ypred[predval > 0] = 1\n",
    "    return ypred\n",
    "\n",
    "def multiPredictorLoss(w, predictions=allPred, regularization=1, y=ytrain):\n",
    "    ypred = multiPredictor(w, predictions)\n",
    "#     print ypred.shape, y.shape\n",
    "    L = (ypred != y).mean() + regularization * (w**2).sum()\n",
    "    return L"
   ]
  },
  {
   "cell_type": "markdown",
   "metadata": {},
   "source": [
    "#### Fit predictor weights to y in [-1, 1]"
   ]
  },
  {
   "cell_type": "code",
   "execution_count": 81,
   "metadata": {
    "collapsed": false,
    "scrolled": true
   },
   "outputs": [
    {
     "name": "stdout",
     "output_type": "stream",
     "text": [
      "Optimization terminated successfully.\n",
      "         Current function value: 0.108874\n",
      "         Iterations: 388\n",
      "         Function evaluations: 621\n",
      "Optimization terminated successfully.\n",
      "         Current function value: 0.217394\n",
      "         Iterations: 306\n",
      "         Function evaluations: 509\n",
      "Optimization terminated successfully.\n",
      "         Current function value: 0.125815\n",
      "         Iterations: 387\n",
      "         Function evaluations: 598\n",
      "Optimization terminated successfully.\n",
      "         Current function value: 0.108572\n",
      "         Iterations: 600\n",
      "         Function evaluations: 910\n",
      "Optimization terminated successfully.\n",
      "         Current function value: 0.134233\n",
      "         Iterations: 301\n",
      "         Function evaluations: 487\n",
      "Optimization terminated successfully.\n",
      "         Current function value: 0.124719\n",
      "         Iterations: 712\n",
      "         Function evaluations: 1048\n",
      "Optimization terminated successfully.\n",
      "         Current function value: 0.137863\n",
      "         Iterations: 391\n",
      "         Function evaluations: 611\n",
      "Optimization terminated successfully.\n",
      "         Current function value: 0.168168\n",
      "         Iterations: 483\n",
      "         Function evaluations: 734\n",
      "Optimization terminated successfully.\n",
      "         Current function value: 0.109404\n",
      "         Iterations: 496\n",
      "         Function evaluations: 753\n",
      "Optimization terminated successfully.\n",
      "         Current function value: 0.107550\n",
      "         Iterations: 370\n",
      "         Function evaluations: 593\n",
      "Optimization terminated successfully.\n",
      "         Current function value: 0.106653\n",
      "         Iterations: 555\n",
      "         Function evaluations: 849\n",
      "Optimization terminated successfully.\n",
      "         Current function value: 0.135921\n",
      "         Iterations: 349\n",
      "         Function evaluations: 562\n",
      "Optimization terminated successfully.\n",
      "         Current function value: 0.209561\n",
      "         Iterations: 467\n",
      "         Function evaluations: 733\n",
      "Optimization terminated successfully.\n",
      "         Current function value: 0.115776\n",
      "         Iterations: 611\n",
      "         Function evaluations: 907\n",
      "Optimization terminated successfully.\n",
      "         Current function value: 0.109163\n",
      "         Iterations: 452\n",
      "         Function evaluations: 699\n",
      "Optimization terminated successfully.\n",
      "         Current function value: 0.165664\n",
      "         Iterations: 329\n",
      "         Function evaluations: 518\n",
      "Optimization terminated successfully.\n",
      "         Current function value: 0.107986\n",
      "         Iterations: 719\n",
      "         Function evaluations: 1073\n",
      "Optimization terminated successfully.\n",
      "         Current function value: 0.109316\n",
      "         Iterations: 500\n",
      "         Function evaluations: 766\n",
      "Optimization terminated successfully.\n",
      "         Current function value: 0.111878\n",
      "         Iterations: 399\n",
      "         Function evaluations: 625\n",
      "Optimization terminated successfully.\n",
      "         Current function value: 0.107304\n",
      "         Iterations: 506\n",
      "         Function evaluations: 760\n",
      "Optimization terminated successfully.\n",
      "         Current function value: 0.114751\n",
      "         Iterations: 367\n",
      "         Function evaluations: 602\n",
      "Optimization terminated successfully.\n",
      "         Current function value: 0.107207\n",
      "         Iterations: 509\n",
      "         Function evaluations: 773\n",
      "Optimization terminated successfully.\n",
      "         Current function value: 0.155727\n",
      "         Iterations: 388\n",
      "         Function evaluations: 600\n",
      "Optimization terminated successfully.\n",
      "         Current function value: 0.115683\n",
      "         Iterations: 434\n",
      "         Function evaluations: 666\n",
      "Optimization terminated successfully.\n",
      "         Current function value: 0.108669\n",
      "         Iterations: 636\n",
      "         Function evaluations: 965\n",
      "\n",
      "Predictor weights: \n",
      "random forest \t0.0288140702872\n",
      "rbf \t0.00761733082216\n",
      "kmeans \t0.00712913889025\n",
      "l2boost \t0.00441459693265\n",
      "lrm \t0.00332730356946\n",
      "lin \t0.00289967812142\n",
      "log \t0.00088935130804\n",
      "gm \t0.000351355025026\n",
      "unregularized loss:  0.105674128058\n"
     ]
    }
   ],
   "source": [
    "# Find function weights that minimize the loss\n",
    "allPredictorWeights = []\n",
    "losses = []\n",
    "for i in range(25):\n",
    "    output = fmin(multiPredictorLoss, np.random.rand(len(predictorNames)), full_output=True)\n",
    "    allPredictorWeights.append(abs(output[0]))\n",
    "    losses.append(output[1])\n",
    "    \n",
    "ind = np.argmin(losses)\n",
    "predictorWeights = allPredictorWeights[ind]\n",
    "print ''\n",
    "print 'Predictor weights: '\n",
    "ind = np.argsort((-predictorWeights))\n",
    "for i in ind:\n",
    "    print predictorNames[i], '\\t', predictorWeights[i]\n",
    "    \n",
    "bestLoss = multiPredictorLoss(predictorWeights, regularization=0.)\n",
    "print 'unregularized loss: ', bestLoss\n",
    "pickle.dump(predictorWeights, open('predictor_weights.p', 'w'), 2)"
   ]
  },
  {
   "cell_type": "code",
   "execution_count": 110,
   "metadata": {
    "collapsed": false
   },
   "outputs": [
    {
     "name": "stdout",
     "output_type": "stream",
     "text": [
      "0.519707830724\n",
      "0.13739074133\n",
      "0.128585419229\n",
      "0.0796243145283\n",
      "0.0600132401639\n",
      "0.0523003314443\n",
      "0.0160408728946\n",
      "0.00633724968567\n",
      "random forest\n",
      "rbf\n",
      "kmeans\n",
      "l2boost\n",
      "lrm\n",
      "lin\n",
      "log\n",
      "gm\n"
     ]
    }
   ],
   "source": [
    "ind = np.argsort((-predictorWeights))\n",
    "norm = np.sum(predictorWeights)\n",
    "for i in ind:\n",
    "    print predictorWeights[i]/norm\n",
    "for i in ind:\n",
    "    print predictorNames[i]"
   ]
  },
  {
   "cell_type": "code",
   "execution_count": 23,
   "metadata": {
    "collapsed": true
   },
   "outputs": [],
   "source": [
    "predictorWeights = pickle.load(open('predictor_weights.p', 'r'))"
   ]
  },
  {
   "cell_type": "markdown",
   "metadata": {},
   "source": [
    "#### Test"
   ]
  },
  {
   "cell_type": "code",
   "execution_count": 24,
   "metadata": {
    "collapsed": false
   },
   "outputs": [
    {
     "name": "stdout",
     "output_type": "stream",
     "text": [
      "Calculating prediction for:  log\n",
      "Calculating prediction for:  lin\n",
      "Calculating prediction for:  lrm\n",
      "Calculating prediction for:  kmeans\n",
      "Calculating prediction for:  rbf\n",
      "Calculating prediction for:  gm\n"
     ]
    }
   ],
   "source": [
    "# Test predictions\n",
    "testPredictions = {}\n",
    "for name, predFunc in predFuncs.iteritems():\n",
    "    print 'Calculating prediction for: ', name\n",
    "    testPredictions[name] = predFunc(xtest)\n",
    "pickle.dump(testPredictions, open('predictions_test.p', 'w'))"
   ]
  },
  {
   "cell_type": "code",
   "execution_count": 29,
   "metadata": {
    "collapsed": true
   },
   "outputs": [],
   "source": [
    "# OR LOAD TEST PREDICTIONS\n",
    "testPredictions = pickle.load(open('predictions_test.p', 'r'))\n",
    "testPredictions['random forest'] = forestPredTest\n",
    "testPredictions['l2boost'] = boostPred(xtest)"
   ]
  },
  {
   "cell_type": "code",
   "execution_count": 82,
   "metadata": {
    "collapsed": false
   },
   "outputs": [],
   "source": [
    "allTestPred = [testPredictions[key].T for key in predictorNames]\n",
    "allTestPred = np.concatenate(allTestPred).T\n",
    "testLoss = multiPredictorLoss(predictorWeights, allTestPred, regularization=0., y=ytest)"
   ]
  },
  {
   "cell_type": "code",
   "execution_count": 83,
   "metadata": {
    "collapsed": false
   },
   "outputs": [
    {
     "name": "stdout",
     "output_type": "stream",
     "text": [
      "0.1162\n"
     ]
    }
   ],
   "source": [
    "print testLoss"
   ]
  },
  {
   "cell_type": "markdown",
   "metadata": {},
   "source": [
    "### Echo losses"
   ]
  },
  {
   "cell_type": "code",
   "execution_count": 43,
   "metadata": {
    "collapsed": false
   },
   "outputs": [
    {
     "name": "stdout",
     "output_type": "stream",
     "text": [
      "Training 0/1 loss\n",
      "\n",
      "0.31556080567\n",
      "0.300844912506\n",
      "0.112661674609\n",
      "0.112581588115\n",
      "0.111680615064\n",
      "0.142674088015\n",
      "0.116405718176\n",
      "0.171405117527\n",
      "gm\n",
      "kmeans\n",
      "l2boost\n",
      "lin\n",
      "log\n",
      "lrm\n",
      "random forest\n",
      "rbf\n"
     ]
    }
   ],
   "source": [
    "print 'Training 0/1 loss\\n'\n",
    "for i, name in enumerate(predictorNames):\n",
    "    ypred = allPred[:, i, None] > 0\n",
    "    print (ypred != ytrain).mean()\n",
    "for i, name in enumerate(predictorNames):\n",
    "    print name"
   ]
  },
  {
   "cell_type": "code",
   "execution_count": 44,
   "metadata": {
    "collapsed": false
   },
   "outputs": [
    {
     "name": "stdout",
     "output_type": "stream",
     "text": [
      "Test 0/1 loss\n",
      "\n",
      "0.3161\n",
      "0.3072\n",
      "0.1188\n",
      "0.1188\n",
      "0.119\n",
      "0.1561\n",
      "0.1276\n",
      "0.1846\n",
      "gm\n",
      "kmeans\n",
      "l2boost\n",
      "lin\n",
      "log\n",
      "lrm\n",
      "random forest\n",
      "rbf\n"
     ]
    }
   ],
   "source": [
    "print 'Test 0/1 loss\\n'\n",
    "for i, name in enumerate(predictorNames):\n",
    "    ypred = allTestPred[:, i, None] > 0\n",
    "    print (ypred != ytest).mean()\n",
    "    \n",
    "for i, name in enumerate(predictorNames):\n",
    "    print name"
   ]
  },
  {
   "cell_type": "markdown",
   "metadata": {
    "collapsed": true
   },
   "source": [
    "### Success analysis"
   ]
  },
  {
   "cell_type": "code",
   "execution_count": 96,
   "metadata": {
    "collapsed": false
   },
   "outputs": [],
   "source": [
    "responseRate = rawDF.notnull().mean(1).values\n",
    "responseRateTrain = responseRate[trainInd]\n",
    "responseRateTest = responseRate[testInd]\n",
    "successTest = (multiPredictor(predictorWeights, allTestPred) == ytest).flatten()\n",
    "successTrain = (multiPredictor(predictorWeights, allPred) == ytrain).flatten()"
   ]
  },
  {
   "cell_type": "code",
   "execution_count": 108,
   "metadata": {
    "collapsed": false
   },
   "outputs": [
    {
     "data": {
      "image/png": "[encoded data removed]",
      "text/plain": [
       "<matplotlib.figure.Figure at 0x7f1f2b4213d0>"
      ]
     },
     "metadata": {},
     "output_type": "display_data"
    }
   ],
   "source": [
    "nbins = 20\n",
    "hist, bins = np.histogram(responseRate, bins=nbins)\n",
    "ind = np.digitize(responseRateTrain, bins) - 1\n",
    "ind[ind >= nbins] = nbins -1\n",
    "mean = np.zeros(nbins) * np.nan\n",
    "for i in range(nbins):\n",
    "    mask = (ind == i)\n",
    "    if np.any(mask):\n",
    "        mean[i] = successTrain[mask].mean()\n",
    "        \n",
    "plt.suptitle('Prediction & response rate')\n",
    "plt.subplot(2, 1, 1)\n",
    "plt.plot(bins[0:-1], 1-mean,'o')\n",
    "plt.ylabel('0/1 loss')\n",
    "plt.subplot(2, 1, 2)\n",
    "plt.hist(responseRate, bins);\n",
    "plt.ylabel('number per bin')\n",
    "\n",
    "plt.savefig('figures/prediction_response_rate.pdf')"
   ]
  },
  {
   "cell_type": "code",
   "execution_count": null,
   "metadata": {
    "collapsed": true
   },
   "outputs": [],
   "source": []
  }
 ],
 "metadata": {
  "kernelspec": {
   "display_name": "Python 2",
   "language": "python",
   "name": "python2"
  },
  "language_info": {
   "codemirror_mode": {
    "name": "ipython",
    "version": 2
   },
   "file_extension": ".py",
   "mimetype": "text/x-python",
   "name": "python",
   "nbconvert_exporter": "python",
   "pygments_lexer": "ipython2",
   "version": "2.7.12"
  }
 },
 "nbformat": 4,
 "nbformat_minor": 1
}
