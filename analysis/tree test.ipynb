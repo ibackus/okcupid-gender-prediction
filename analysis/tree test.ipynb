{
 "cells": [
  {
   "cell_type": "code",
   "execution_count": 3,
   "metadata": {
    "collapsed": false
   },
   "outputs": [
    {
     "name": "stdout",
     "output_type": "stream",
     "text": [
      "The autoreload extension is already loaded. To reload it, use:\n",
      "  %reload_ext autoreload\n"
     ]
    }
   ],
   "source": [
    "%load_ext autoreload\n",
    "%autoreload 2\n",
    "%matplotlib inline"
   ]
  },
  {
   "cell_type": "code",
   "execution_count": 4,
   "metadata": {
    "collapsed": false
   },
   "outputs": [],
   "source": [
    "import numpy as np\n",
    "from sklearn import tree\n",
    "from sklearn.ensemble import RandomForestClassifier\n",
    "import cPickle as pickle\n",
    "import utils"
   ]
  },
  {
   "cell_type": "code",
   "execution_count": 6,
   "metadata": {
    "collapsed": false
   },
   "outputs": [],
   "source": [
    "# Load data\n",
    "xtrain, ytrain, dummy = pickle.load(open('data_train.p', 'r'))\n",
    "xtest, ytest, dummy = pickle.load(open('data_test.p', 'r'))"
   ]
  },
  {
   "cell_type": "code",
   "execution_count": 46,
   "metadata": {
    "collapsed": false
   },
   "outputs": [
    {
     "name": "stdout",
     "output_type": "stream",
     "text": [
      "Training 0/1 loss:  0.11362271253\n",
      "Test 0/1 loss:  0.1386\n"
     ]
    }
   ],
   "source": [
    "dectree = tree.DecisionTreeClassifier(max_depth=None, min_samples_leaf=25, min_samples_split=25)\n",
    "dectree.fit(xtrain, ytrain)\n",
    "ypred = utils.columnVector(dectree.predict(xtrain))\n",
    "ypredtest = utils.columnVector(dectree.predict(xtest))\n",
    "print 'Training 0/1 loss: ', (ypred != ytrain).mean()\n",
    "print 'Test 0/1 loss: ', (ypredtest != ytest).mean()"
   ]
  },
  {
   "cell_type": "code",
   "execution_count": 7,
   "metadata": {
    "collapsed": false
   },
   "outputs": [
    {
     "name": "stdout",
     "output_type": "stream",
     "text": [
      "Training 0/1 loss:  0.115004204541\n",
      "Test 0/1 loss:  0.1274\n"
     ]
    }
   ],
   "source": [
    "forest = RandomForestClassifier(n_estimators=70, min_samples_leaf=25, min_samples_split=25)\n",
    "forest.fit(xtrain, ytrain.flatten())\n",
    "\n",
    "ypred = utils.columnVector(forest.predict(xtrain))\n",
    "ypredtest = utils.columnVector(forest.predict(xtest))\n",
    "print 'Training 0/1 loss: ', (ypred != ytrain).mean()\n",
    "print 'Test 0/1 loss: ', (ypredtest != ytest).mean()"
   ]
  },
  {
   "cell_type": "code",
   "execution_count": 57,
   "metadata": {
    "collapsed": false
   },
   "outputs": [],
   "source": [
    "probtrain = forest.predict_proba(xtrain)[:, 1, None]\n",
    "probtest = forest.predict_proba(xtest)[:, 1, None]\n",
    "probtrain = 2 * probtrain - 1\n",
    "probtest = 2 * probtest - 1\n",
    "pickle.dump((probtrain, probtest), open('forest_predictions.p','w'), 2)"
   ]
  },
  {
   "cell_type": "code",
   "execution_count": null,
   "metadata": {
    "collapsed": true
   },
   "outputs": [],
   "source": []
  }
 ],
 "metadata": {
  "kernelspec": {
   "display_name": "Python 2",
   "language": "python",
   "name": "python2"
  },
  "language_info": {
   "codemirror_mode": {
    "name": "ipython",
    "version": 2
   },
   "file_extension": ".py",
   "mimetype": "text/x-python",
   "name": "python",
   "nbconvert_exporter": "python",
   "pygments_lexer": "ipython2",
   "version": "2.7.12"
  }
 },
 "nbformat": 4,
 "nbformat_minor": 1
}
