{
 "cells": [
  {
   "cell_type": "markdown",
   "metadata": {},
   "source": [
    "## Imports"
   ]
  },
  {
   "cell_type": "code",
   "execution_count": 1,
   "metadata": {
    "collapsed": false
   },
   "outputs": [],
   "source": [
    "%load_ext autoreload\n",
    "%autoreload 2\n",
    "%matplotlib inline"
   ]
  },
  {
   "cell_type": "code",
   "execution_count": 2,
   "metadata": {
    "collapsed": false
   },
   "outputs": [
    {
     "data": {
      "text/plain": [
       "0"
      ]
     },
     "execution_count": 2,
     "metadata": {},
     "output_type": "execute_result"
    }
   ],
   "source": [
    "import gc\n",
    "gc.collect()"
   ]
  },
  {
   "cell_type": "code",
   "execution_count": 3,
   "metadata": {
    "collapsed": true
   },
   "outputs": [],
   "source": [
    "import sys\n",
    "import os\n",
    "# Add parent path\n",
    "parentDir = os.path.realpath('../')\n",
    "if parentDir not in sys.path:\n",
    "    sys.path.append(parentDir)\n",
    "    "
   ]
  },
  {
   "cell_type": "code",
   "execution_count": 4,
   "metadata": {
    "collapsed": false
   },
   "outputs": [],
   "source": [
    "# External imports\n",
    "import numpy as np\n",
    "import cPickle as pickle\n",
    "import pandas as pd\n",
    "import matplotlib.pyplot as plt\n",
    "from scipy.optimize import fmin\n",
    "\n",
    "# Internal imports\n",
    "import utils\n",
    "import okcupidio\n",
    "import linearRegression\n",
    "import kmeans\n",
    "import pca\n",
    "import gaussianModel\n",
    "import RBFkernel\n",
    "import sgd\n",
    "import linearRBF\n",
    "from linearBinaryClassifier import LinearBinaryClassifier\n",
    "from linearRandom import LinearRandom\n",
    "from randomMap import RandomMap\n",
    "from genericLinear import LinearSGD"
   ]
  },
  {
   "cell_type": "markdown",
   "metadata": {},
   "source": [
    "## Make feature arrays using imputation"
   ]
  },
  {
   "cell_type": "code",
   "execution_count": 118,
   "metadata": {
    "collapsed": true
   },
   "outputs": [],
   "source": [
    "# Settings\n",
    "labelsColumn = 'sex_m'\n",
    "dropData = ['last_online']\n",
    "minResponseRate = 0.25\n",
    "# nTest = 10000\n",
    "testFrac = 1./6"
   ]
  },
  {
   "cell_type": "code",
   "execution_count": 119,
   "metadata": {
    "collapsed": false
   },
   "outputs": [],
   "source": [
    "# Load data\n",
    "rawDF = pickle.load(open('../new_features_df.p'))\n",
    "\n",
    "# drop unwanted data\n",
    "for drop in dropData:\n",
    "    \n",
    "    rawDF.drop(drop, 1, inplace=True)\n",
    "    \n",
    "# Ignore data with response rates too low\n",
    "# columns = df.columns[df.columns != labelsColumn]\n",
    "columns = rawDF.columns\n",
    "for col in columns:\n",
    "    \n",
    "    if rawDF[col].notnull().mean() < minResponseRate:\n",
    "        \n",
    "        rawDF.drop(col, 1, inplace=True)\n",
    "        "
   ]
  },
  {
   "cell_type": "code",
   "execution_count": 120,
   "metadata": {
    "collapsed": false
   },
   "outputs": [],
   "source": [
    "# Filter on responses\n",
    "# responseRate = rawDF.notnull().mean(1)\n",
    "# responseRate.hist()\n",
    "# responseCutDF = rawDF.loc[responseRate > cutoff]\n",
    "# mask = rawDF[requiredResponses].notnull().all(1)\n",
    "# print 'removing {0} fraction of data points'.format(1 - mask.mean())\n",
    "# responseCutDF = rawDF.loc[mask]\n",
    "responseCutDF = rawDF"
   ]
  },
  {
   "cell_type": "code",
   "execution_count": 121,
   "metadata": {
    "collapsed": false
   },
   "outputs": [
    {
     "name": "stdout",
     "output_type": "stream",
     "text": [
      "(59946, 102)\n"
     ]
    }
   ],
   "source": [
    "print responseCutDF.shape"
   ]
  },
  {
   "cell_type": "code",
   "execution_count": 122,
   "metadata": {
    "collapsed": false
   },
   "outputs": [],
   "source": [
    "# IMPUTATION\n",
    "# (replace missing data, except for in the labelsColumn)\n",
    "imputedDF = responseCutDF.copy()\n",
    "columns = imputedDF.columns[imputedDF.columns != labelsColumn]\n",
    "for col in columns:\n",
    "    series = imputedDF[col]\n",
    "    nChoice = series.isnull().sum()\n",
    "    if nChoice > 0:\n",
    "        notnulls = series[series.notnull()]\n",
    "#         vals = np.random.choice(notnulls, nChoice)\n",
    "        vals = notnulls.mean() * np.ones(nChoice)\n",
    "        series[series.isnull()] = vals\n",
    "        imputedDF[col] = series"
   ]
  },
  {
   "cell_type": "code",
   "execution_count": 123,
   "metadata": {
    "collapsed": false,
    "scrolled": false
   },
   "outputs": [],
   "source": [
    "# Now remove people without reported values in the labels Column\n",
    "df = imputedDF[imputedDF[labelsColumn].notnull()]\n",
    "filteredDF = responseCutDF[imputedDF[labelsColumn].notnull()]\n",
    "# Ignore entries where stddev == 0\n",
    "columns = df.columns[df.columns != labelsColumn]\n",
    "for col in columns:\n",
    "    if df[col].std() == 0:\n",
    "        print 'dropping: ', col\n",
    "        df.drop(col, 1, inplace=True)\n",
    "        filteredDF.drop(col, 1, inplace=True)\n",
    "        \n",
    "pickle.dump(df, open('imputed_df.p', 'w'), 2)\n",
    "pickle.dump(filteredDF, open('filtered_df.p', 'w'), 2)"
   ]
  },
  {
   "cell_type": "code",
   "execution_count": 124,
   "metadata": {
    "collapsed": false,
    "scrolled": true
   },
   "outputs": [],
   "source": [
    "# Get arrays from the data frame\n",
    "dfShort = df.drop(labelsColumn, 1)\n",
    "x = dfShort.values\n",
    "names = dfShort.columns.values\n",
    "y = df[labelsColumn].values\n",
    "# And save\n",
    "pickle.dump((x, y, names), open('dataset.p', 'w'), 2)"
   ]
  },
  {
   "cell_type": "code",
   "execution_count": 125,
   "metadata": {
    "collapsed": false
   },
   "outputs": [],
   "source": [
    "# NOW SPLIT the dataset\n",
    "nTest = int(len(y) * testFrac)\n",
    "y = y.reshape([len(y), 1])\n",
    "nTrain = len(x) - nTest\n",
    "np.random.seed(0)\n",
    "ind = np.random.rand(len(x)).argsort()\n",
    "trainInd = ind[0:nTrain]\n",
    "testInd = ind[nTrain:]\n",
    "xtrain, ytrain = (x[trainInd], y[trainInd])\n",
    "xtest, ytest = (x[testInd], y[testInd])\n",
    "# And condition it\n",
    "xtrain, center, scale = utils.condition(xtrain)\n",
    "xtest, center, scale = utils.condition(xtest, center, scale)\n",
    "\n",
    "# save the split set\n",
    "pickle.dump((xtrain, ytrain, trainInd), open('data_train.p', 'w'), 2)\n",
    "pickle.dump((xtest, ytest, testInd), open('data_test.p','w'), 2)"
   ]
  },
  {
   "cell_type": "markdown",
   "metadata": {},
   "source": [
    "## Load Data"
   ]
  },
  {
   "cell_type": "code",
   "execution_count": 5,
   "metadata": {
    "collapsed": false
   },
   "outputs": [],
   "source": [
    "# load data if necessary:\n",
    "df = pickle.load(open('imputed_df.p', 'r'))\n",
    "rawDF = pickle.load(open('../new_features_df.p'))\n",
    "x, y, names = pickle.load(open('dataset.p'))\n",
    "xtrain, ytrain, trainInd = pickle.load(open('data_train.p', 'r'))\n",
    "xtest, ytest, testInd = pickle.load(open('data_test.p', 'r'))"
   ]
  },
  {
   "cell_type": "markdown",
   "metadata": {},
   "source": [
    "## Linear regression"
   ]
  },
  {
   "cell_type": "markdown",
   "metadata": {},
   "source": [
    "### Un-boosted"
   ]
  },
  {
   "cell_type": "code",
   "execution_count": 6,
   "metadata": {
    "collapsed": false
   },
   "outputs": [
    {
     "name": "stdout",
     "output_type": "stream",
     "text": [
      "0/1 loss: 0.114643178861\n",
      "mean confidence: 0.832953574361\n"
     ]
    }
   ],
   "source": [
    "lr = linearRegression.BinaryLinearRegression(regScale=1e1)\n",
    "lr.fit(xtrain, ytrain)\n",
    "ypred = lr.pred(xtrain)\n",
    "wrong = (ypred != ytrain).astype(float)\n",
    "print \"0/1 loss:\", wrong.mean()\n",
    "print \"mean confidence:\", lr.confidence(xtrain).mean()\n",
    "pickle.dump((lr.w, lr.w0, names), open('regression_results.p','w'), 2)"
   ]
  },
  {
   "cell_type": "code",
   "execution_count": 128,
   "metadata": {
    "collapsed": false
   },
   "outputs": [
    {
     "name": "stdout",
     "output_type": "stream",
     "text": [
      "['education_level' 'orientation_gay' 'has_cats' 'orientation_bisexual'\n",
      " 'job_computer / hardware / software' 'body_type_full figured'\n",
      " 'body_type_athletic' 'ethnicity_white' 'body_type_curvy' 'height']\n"
     ]
    }
   ],
   "source": [
    "wInd = abs(lr.w.flatten()).argsort()\n",
    "requiredResponses = names[wInd[-10:]]\n",
    "print requiredResponses"
   ]
  },
  {
   "cell_type": "markdown",
   "metadata": {},
   "source": [
    "### L2 boost"
   ]
  },
  {
   "cell_type": "code",
   "execution_count": 7,
   "metadata": {
    "collapsed": true
   },
   "outputs": [],
   "source": [
    "def evalPredictors(predictors, x, nu=0.5):\n",
    "    out = predictors[0](x)\n",
    "    for predictor in predictors[1:]:\n",
    "        out += nu*predictor(x)\n",
    "    return out"
   ]
  },
  {
   "cell_type": "code",
   "execution_count": 8,
   "metadata": {
    "collapsed": false
   },
   "outputs": [
    {
     "name": "stdout",
     "output_type": "stream",
     "text": [
      "0.597377639876\n",
      "0.231814954319\n",
      "0.140423533176\n",
      "0.117575490445\n",
      "0.111863432899\n",
      "0.110435406796\n",
      "0.110078397341\n",
      "0.109989144245\n",
      "0.109966830788\n",
      "0.109961252378\n"
     ]
    }
   ],
   "source": [
    "# dataWeights = np.ones([len(xtrain), 1])\n",
    "\n",
    "ymean = ytrain.mean()\n",
    "nu = 0.5\n",
    "boostPredictors = [lambda x : np.zeros([len(x), 1])]\n",
    "\n",
    "for i in range(10):\n",
    "    ypred = evalPredictors(boostPredictors, xtrain, nu)\n",
    "    residuals = ytrain - ypred\n",
    "    print (residuals**2).mean()\n",
    "    lrBoost = linearRegression.BinaryLinearRegression(regScale=1e0, classify=False, scalarOffset=True)\n",
    "    lrBoost.fit(xtrain, residuals) \n",
    "    boostPredictors.append(lrBoost.ypred)"
   ]
  },
  {
   "cell_type": "code",
   "execution_count": 9,
   "metadata": {
    "collapsed": false
   },
   "outputs": [],
   "source": [
    "from linearBinaryClassifier import LinearBinaryClassifier\n",
    "\n",
    "ypred = evalPredictors(boostPredictors, xtrain, nu)\n",
    "boostClassifier = LinearBinaryClassifier(ytrain, ypred)\n",
    "\n",
    "def boostPred(x):\n",
    "    ypred = evalPredictors(boostPredictors, x, nu)\n",
    "    yclass = boostClassifier.classify(ypred)\n",
    "    confidence = boostClassifier.confidence(ypred)\n",
    "    return (2 * yclass - 1) * confidence"
   ]
  },
  {
   "cell_type": "markdown",
   "metadata": {},
   "source": [
    "#### Most male traits"
   ]
  },
  {
   "cell_type": "code",
   "execution_count": 132,
   "metadata": {
    "collapsed": false,
    "scrolled": false
   },
   "outputs": [
    {
     "name": "stdout",
     "output_type": "stream",
     "text": [
      "0 height 0.280417851667\n",
      "1 body_type_athletic 0.0413945558702\n",
      "2 job_computer / hardware / software 0.0331797397509\n",
      "3 orientation_gay 0.0259901839906\n",
      "4 ethnicity_hispanic / latin 0.0227689936922\n",
      "5 job_science / tech / engineering 0.0211295460802\n",
      "6 job_construction / craftsmanship 0.0190773633612\n",
      "7 ethnicity_asian 0.0188835874387\n",
      "8 ethnicity_pacific islander 0.0153802088174\n",
      "9 body_type_fit 0.0149791774428\n"
     ]
    }
   ],
   "source": [
    "ind = (-lr.w[:,0]).argsort()\n",
    "for i in range(10):\n",
    "    j = ind[i]\n",
    "    print i, names[j], lr.w[j,0]"
   ]
  },
  {
   "cell_type": "markdown",
   "metadata": {},
   "source": [
    "#### Most female traits"
   ]
  },
  {
   "cell_type": "code",
   "execution_count": 133,
   "metadata": {
    "collapsed": false,
    "scrolled": false
   },
   "outputs": [
    {
     "name": "stdout",
     "output_type": "stream",
     "text": [
      "0 body_type_curvy -0.0707781554278\n",
      "1 ethnicity_white -0.042875995315\n",
      "2 body_type_full figured -0.0340576289968\n",
      "3 orientation_bisexual -0.0305666044958\n",
      "4 has_cats -0.0275396801356\n",
      "5 education_level -0.0234257099308\n",
      "6 body_type_thin -0.0221777008356\n",
      "7 job_education / academia -0.0210146966449\n",
      "8 job_medicine / health -0.0192470706378\n",
      "9 has_dogs -0.0167517215939\n"
     ]
    }
   ],
   "source": [
    "ind = (lr.w[:,0]).argsort()\n",
    "for i in range(10):\n",
    "    j = ind[i]\n",
    "    print i, names[j], lr.w[j,0]"
   ]
  },
  {
   "cell_type": "markdown",
   "metadata": {},
   "source": [
    "## K-means"
   ]
  },
  {
   "cell_type": "code",
   "execution_count": 10,
   "metadata": {
    "collapsed": false
   },
   "outputs": [
    {
     "name": "stdout",
     "output_type": "stream",
     "text": [
      "Sum of eigenvalues (direct): 101\n",
      "Sum of eigenvalues (from xTx): 101\n"
     ]
    }
   ],
   "source": [
    "# Perform PCA\n",
    "nKeepKmeans = 25\n",
    "w, vkmeans = pca.PCA(xtrain)\n",
    "xa = pca.proj(xtrain, vkmeans, nKeepKmeans)\n",
    "# x0 = xa[ytrain.flatten() == 0]\n",
    "# x1 = xa[ytrain.flatten() == 1]\n",
    "xatest = pca.proj(xtest, vkmeans, nKeepKmeans)"
   ]
  },
  {
   "cell_type": "code",
   "execution_count": 11,
   "metadata": {
    "collapsed": false,
    "scrolled": true
   },
   "outputs": [
    {
     "name": "stdout",
     "output_type": "stream",
     "text": [
      "(max centroid change, error):  3.4991102881 17.2376143972\n",
      "(max centroid change, error):  1.61292955942 16.3789551762\n",
      "(max centroid change, error):  0.930773842439 15.9975484624\n",
      "(max centroid change, error):  0.757620158006 15.7799195118\n",
      "(max centroid change, error):  0.564132563854 15.6313795719\n",
      "(max centroid change, error):  0.515018739348 15.5234713128\n",
      "(max centroid change, error):  0.289658961415 15.4500156133\n",
      "(max centroid change, error):  0.308601089288 15.4036890986\n",
      "(max centroid change, error):  0.21033782104 15.372045972\n",
      "(max centroid change, error):  0.17827035618 15.3473970025\n",
      "(max centroid change, error):  0.351213587811 15.3271447748\n",
      "(max centroid change, error):  0.389219758135 15.3099645781\n",
      "(max centroid change, error):  0.288704641449 15.2952519021\n",
      "(max centroid change, error):  0.198215960805 15.2830818516\n",
      "(max centroid change, error):  0.158815702211 15.2729482346\n",
      "(max centroid change, error):  0.123997260587 15.2643070987\n",
      "(max centroid change, error):  0.136843593505 15.2556838702\n",
      "(max centroid change, error):  0.128324091073 15.2466361477\n",
      "(max centroid change, error):  0.147250812814 15.2371353507\n",
      "(max centroid change, error):  0.144876949714 15.2295476194\n",
      "(max centroid change, error):  0.167496318783 15.2237893657\n",
      "(max centroid change, error):  0.12546995434 15.2195241855\n",
      "(max centroid change, error):  0.100779179621 15.2159110001\n",
      "(max centroid change, error):  0.121849516491 15.2125869764\n",
      "(max centroid change, error):  0.113968932477 15.2093943465\n",
      "(max centroid change, error):  0.148428948281 15.2063035172\n",
      "(max centroid change, error):  0.156916516091 15.2031172383\n",
      "(max centroid change, error):  0.154722115275 15.2003607952\n",
      "(max centroid change, error):  0.177770741144 15.1972176904\n",
      "(max centroid change, error):  0.186817968903 15.1945621935\n",
      "(max centroid change, error):  0.138407852395 15.1921940116\n",
      "(max centroid change, error):  0.179875504066 15.1897008483\n",
      "(max centroid change, error):  0.192675678131 15.1868469011\n",
      "(max centroid change, error):  0.223015283483 15.1839691533\n",
      "(max centroid change, error):  0.183881139242 15.1817533715\n",
      "(max centroid change, error):  0.138448005562 15.179853845\n",
      "(max centroid change, error):  0.266435710748 15.1780889032\n",
      "(max centroid change, error):  0.325906323715 15.1760707145\n",
      "(max centroid change, error):  0.714480072991 15.1732727446\n",
      "(max centroid change, error):  0.791099644602 15.1703625917\n",
      "(max centroid change, error):  1.4402788577 15.1666000493\n",
      "(max centroid change, error):  0.302005823272 15.1659598837\n",
      "(max centroid change, error):  0.0350736181563 15.1654925862\n",
      "Final error:  15.1654925862\n",
      "0/1 loss: 0.295866279652\n"
     ]
    }
   ],
   "source": [
    "# Perform kmeans\n",
    "km = kmeans.kmeans(xa, nCluster=256, xtol=.1)\n",
    "km.fit()\n",
    "km.labelClusters(ytrain)\n",
    "ypred = km.pred(xa)\n",
    "wrong = (ypred != ytrain).flatten()\n",
    "print \"0/1 loss:\", wrong.mean()\n",
    "\n",
    "kmSaveDict = {'centroids': km.centroids, 'clusterNames': km.clusterNames}\n",
    "pickle.dump(kmSaveDict, open('kmeans.p', 'w'), 2)"
   ]
  },
  {
   "cell_type": "markdown",
   "metadata": {},
   "source": [
    "## Gaussian Model"
   ]
  },
  {
   "cell_type": "code",
   "execution_count": 12,
   "metadata": {
    "collapsed": false,
    "scrolled": true
   },
   "outputs": [
    {
     "name": "stdout",
     "output_type": "stream",
     "text": [
      "Sum of eigenvalues (direct): 101\n",
      "Sum of eigenvalues (from xTx): 101\n"
     ]
    }
   ],
   "source": [
    "# Perform PCA\n",
    "nKeepGauss = 20\n",
    "w, vgaussian = pca.PCA(xtrain)\n",
    "xa = pca.proj(xtrain, vgaussian, nKeepGauss)\n",
    "# x0 = xa[ytrain.flatten() == 0]\n",
    "# x1 = xa[ytrain.flatten() == 1]\n",
    "xatest = pca.proj(xtest, vgaussian, nKeepGauss)"
   ]
  },
  {
   "cell_type": "code",
   "execution_count": 13,
   "metadata": {
    "collapsed": false
   },
   "outputs": [
    {
     "data": {
      "text/plain": [
       "0.24558102292062856"
      ]
     },
     "execution_count": 13,
     "metadata": {},
     "output_type": "execute_result"
    }
   ],
   "source": [
    "# \"train\" the model\n",
    "gm = gaussianModel.GaussianModel()\n",
    "gm.fit(xa, ytrain)\n",
    "(gm.pred(xa) != ytrain).mean()"
   ]
  },
  {
   "cell_type": "markdown",
   "metadata": {},
   "source": [
    "## Logstic regression"
   ]
  },
  {
   "cell_type": "code",
   "execution_count": 14,
   "metadata": {
    "collapsed": false,
    "scrolled": true
   },
   "outputs": [
    {
     "name": "stdout",
     "output_type": "stream",
     "text": [
      "training loss: 1.38754314995e-05\n",
      "training 0/1 loss: 0.597377639876\n",
      "\n",
      "Step:  1\n",
      "training loss: 5.77807025388e-06\n",
      "training 0/1 loss: 0.114042638375\n",
      "\n",
      "Step:  2\n",
      "training loss: 5.7131357468e-06\n",
      "training 0/1 loss: 0.114202782504\n",
      "\n",
      "Step:  3\n",
      "training loss: 5.69969461916e-06\n",
      "training 0/1 loss: 0.114002602342\n",
      "\n",
      "Step:  4\n",
      "training loss: 5.69524723262e-06\n",
      "training 0/1 loss: 0.113301971775\n",
      "\n",
      "Step:  5\n",
      "training loss: 5.69290918958e-06\n",
      "training 0/1 loss: 0.113682314083\n",
      "\n",
      "Step:  6\n",
      "training loss: 5.69314802441e-06\n",
      "training 0/1 loss: 0.113622260034\n",
      "\n",
      "Step:  7\n",
      "training loss: 5.69145271554e-06\n",
      "training 0/1 loss: 0.113882494245\n",
      "\n",
      "Step:  8\n",
      "training loss: 5.6912135483e-06\n",
      "training 0/1 loss: 0.113522169953\n",
      "\n",
      "Step:  9\n",
      "training loss: 5.69009895276e-06\n",
      "training 0/1 loss: 0.113402061856\n",
      "\n",
      "Step:  10\n",
      "training loss: 5.69082313096e-06\n",
      "training 0/1 loss: 0.113342007807\n",
      "\n",
      "Step:  11\n",
      "training loss: 5.68934771965e-06\n",
      "training 0/1 loss: 0.113321989791\n",
      "\n",
      "Step:  12\n",
      "training loss: 5.69066629638e-06\n",
      "training 0/1 loss: 0.113702332099\n",
      "\n",
      "Step:  13\n",
      "training loss: 5.68948526167e-06\n",
      "training 0/1 loss: 0.113201881694\n",
      "\n",
      "Step:  14\n",
      "training loss: 5.68908460582e-06\n",
      "training 0/1 loss: 0.11306175558\n",
      "\n",
      "Step:  15\n",
      "training loss: 5.68938843363e-06\n",
      "training 0/1 loss: 0.113622260034\n",
      "\n",
      "Step:  16\n",
      "training loss: 5.68909969789e-06\n",
      "training 0/1 loss: 0.113001701531\n",
      "\n",
      "Step:  17\n",
      "training loss: 5.68952762719e-06\n",
      "training 0/1 loss: 0.113502151937\n",
      "\n",
      "Converged\n"
     ]
    }
   ],
   "source": [
    "dataWeights = None\n",
    "logistic = LinearSGD(xtrain, ytrain, learningRateScale=1e-1, lossScheme='softmax', miniBatchSize=100, tau0=int(1e5), kappa=0.55)\n",
    "logistic.fit(maxIter=30, ftol=1e-6, dataWeights=dataWeights)\n"
   ]
  },
  {
   "cell_type": "markdown",
   "metadata": {},
   "source": [
    "## RBF Kernel softmax"
   ]
  },
  {
   "cell_type": "code",
   "execution_count": 146,
   "metadata": {
    "collapsed": true
   },
   "outputs": [],
   "source": [
    "rbf = linearRBF.LinearRBF(xtrain, ytrain, miniBatchSize=30, learningRateScale=5e-4, lossScheme='softmax', \\\n",
    "                          kappa=0.55, tau0=int(4e4), arrayBatchSize=100)"
   ]
  },
  {
   "cell_type": "code",
   "execution_count": 147,
   "metadata": {
    "collapsed": true
   },
   "outputs": [
    {
     "name": "stdout",
     "output_type": "stream",
     "text": [
      "training loss: 1.38754314995e-05\n",
      "training 0/1 loss: 0.597377639876\n",
      "\n",
      "Step:  1\n",
      "training loss: 7.94703434195e-06\n",
      "training 0/1 loss: 0.167450705635\n",
      "\n",
      "Step:  2\n",
      "training loss: 7.73009572882e-06\n",
      "training 0/1 loss: 0.160804724252\n",
      "\n",
      "Step:  3\n",
      "training loss: 8.02242422286e-06\n",
      "training 0/1 loss: 0.172054849364\n",
      "\n",
      "Step:  4\n",
      "training loss: 7.60710968831e-06\n",
      "training 0/1 loss: 0.156801121009\n",
      "\n",
      "Step:  5\n",
      "training loss: 7.91361680645e-06\n",
      "training 0/1 loss: 0.159603643279\n",
      "\n",
      "Step:  6\n",
      "training loss: 7.62224140764e-06\n",
      "training 0/1 loss: 0.158002201982\n",
      "\n",
      "Step:  7\n",
      "training loss: 7.6196004225e-06\n",
      "training 0/1 loss: 0.159163246922\n",
      "\n",
      "Step:  8\n",
      "training loss: 7.512207426e-06\n",
      "training 0/1 loss: 0.154278850966\n",
      "\n",
      "Step:  9\n",
      "training loss: 7.58932642606e-06\n",
      "training 0/1 loss: 0.155800220198\n",
      "\n",
      "Step:  10\n"
     ]
    },
    {
     "ename": "KeyboardInterrupt",
     "evalue": "",
     "output_type": "error",
     "traceback": [
      "\u001b[0;31m\u001b[0m",
      "\u001b[0;31mKeyboardInterrupt\u001b[0mTraceback (most recent call last)",
      "\u001b[0;32m<ipython-input-147-27c6820c653d>\u001b[0m in \u001b[0;36m<module>\u001b[0;34m()\u001b[0m\n\u001b[1;32m      1\u001b[0m \u001b[0;32mtry\u001b[0m\u001b[0;34m:\u001b[0m\u001b[0;34m\u001b[0m\u001b[0m\n\u001b[0;32m----> 2\u001b[0;31m     \u001b[0mrbf\u001b[0m\u001b[0;34m.\u001b[0m\u001b[0mfit\u001b[0m\u001b[0;34m(\u001b[0m\u001b[0mmaxIter\u001b[0m\u001b[0;34m=\u001b[0m\u001b[0;36m30\u001b[0m\u001b[0;34m)\u001b[0m\u001b[0;34m\u001b[0m\u001b[0m\n\u001b[0m\u001b[1;32m      3\u001b[0m \u001b[0;32mfinally\u001b[0m\u001b[0;34m:\u001b[0m\u001b[0;34m\u001b[0m\u001b[0m\n\u001b[1;32m      4\u001b[0m     \u001b[0mpickle\u001b[0m\u001b[0;34m.\u001b[0m\u001b[0mdump\u001b[0m\u001b[0;34m(\u001b[0m\u001b[0mrbf\u001b[0m\u001b[0;34m,\u001b[0m \u001b[0mopen\u001b[0m\u001b[0;34m(\u001b[0m\u001b[0;34m'rbf_results.p'\u001b[0m\u001b[0;34m,\u001b[0m \u001b[0;34m'w'\u001b[0m\u001b[0;34m)\u001b[0m\u001b[0;34m,\u001b[0m \u001b[0;36m2\u001b[0m\u001b[0;34m)\u001b[0m\u001b[0;34m\u001b[0m\u001b[0m\n",
      "\u001b[0;32m/home/ibackus/machine_learning/final_project/linearRBF.pyc\u001b[0m in \u001b[0;36mfit\u001b[0;34m(self, **kwargs)\u001b[0m\n\u001b[1;32m    136\u001b[0m         \u001b[0;31m# Do the fit and store results\u001b[0m\u001b[0;34m\u001b[0m\u001b[0;34m\u001b[0m\u001b[0m\n\u001b[1;32m    137\u001b[0m         \u001b[0;32mtry\u001b[0m\u001b[0;34m:\u001b[0m\u001b[0;34m\u001b[0m\u001b[0m\n\u001b[0;32m--> 138\u001b[0;31m             \u001b[0mself\u001b[0m\u001b[0;34m.\u001b[0m\u001b[0msgd\u001b[0m\u001b[0;34m.\u001b[0m\u001b[0mfit\u001b[0m\u001b[0;34m(\u001b[0m\u001b[0mx\u001b[0m\u001b[0;34m,\u001b[0m \u001b[0my\u001b[0m\u001b[0;34m,\u001b[0m \u001b[0;34m**\u001b[0m\u001b[0mkwargs\u001b[0m\u001b[0;34m)\u001b[0m\u001b[0;34m\u001b[0m\u001b[0m\n\u001b[0m\u001b[1;32m    139\u001b[0m         \u001b[0;32mfinally\u001b[0m\u001b[0;34m:\u001b[0m\u001b[0;34m\u001b[0m\u001b[0m\n\u001b[1;32m    140\u001b[0m             \u001b[0mself\u001b[0m\u001b[0;34m.\u001b[0m\u001b[0mresults\u001b[0m \u001b[0;34m=\u001b[0m \u001b[0mself\u001b[0m\u001b[0;34m.\u001b[0m\u001b[0msgd\u001b[0m\u001b[0;34m.\u001b[0m\u001b[0mresults\u001b[0m\u001b[0;34m(\u001b[0m\u001b[0;34m)\u001b[0m\u001b[0;34m\u001b[0m\u001b[0m\n",
      "\u001b[0;32m/home/ibackus/machine_learning/final_project/sgd.pyc\u001b[0m in \u001b[0;36mfit\u001b[0;34m(self, x, y, miniBatchSize, w, maxIter, ftol, lookback, minIter, lamScale, dataWeights)\u001b[0m\n\u001b[1;32m    127\u001b[0m                 \u001b[0miData\u001b[0m \u001b[0;34m+=\u001b[0m \u001b[0mlen\u001b[0m\u001b[0;34m(\u001b[0m\u001b[0mbatch\u001b[0m\u001b[0;34m)\u001b[0m\u001b[0;34m\u001b[0m\u001b[0m\n\u001b[1;32m    128\u001b[0m \u001b[0;34m\u001b[0m\u001b[0m\n\u001b[0;32m--> 129\u001b[0;31m             \u001b[0mself\u001b[0m\u001b[0;34m.\u001b[0m\u001b[0m_updateLosses\u001b[0m\u001b[0;34m(\u001b[0m\u001b[0;34m)\u001b[0m\u001b[0;34m\u001b[0m\u001b[0m\n\u001b[0m\u001b[1;32m    130\u001b[0m             \u001b[0mconv\u001b[0m\u001b[0;34m.\u001b[0m\u001b[0mcheckConvergence\u001b[0m\u001b[0;34m(\u001b[0m\u001b[0mself\u001b[0m\u001b[0;34m.\u001b[0m\u001b[0mfitloss\u001b[0m\u001b[0;34m[\u001b[0m\u001b[0;34m'training'\u001b[0m\u001b[0;34m]\u001b[0m\u001b[0;34m[\u001b[0m\u001b[0;34m'loss'\u001b[0m\u001b[0;34m]\u001b[0m\u001b[0;34m[\u001b[0m\u001b[0;34m-\u001b[0m\u001b[0;36m1\u001b[0m\u001b[0;34m]\u001b[0m\u001b[0;34m)\u001b[0m\u001b[0;34m\u001b[0m\u001b[0m\n\u001b[1;32m    131\u001b[0m             \u001b[0msys\u001b[0m\u001b[0;34m.\u001b[0m\u001b[0mstdout\u001b[0m\u001b[0;34m.\u001b[0m\u001b[0mflush\u001b[0m\u001b[0;34m(\u001b[0m\u001b[0;34m)\u001b[0m\u001b[0;34m\u001b[0m\u001b[0m\n",
      "\u001b[0;32m/home/ibackus/machine_learning/final_project/sgd.pyc\u001b[0m in \u001b[0;36m_updateLosses\u001b[0;34m(self)\u001b[0m\n\u001b[1;32m     82\u001b[0m         \u001b[0mdict\u001b[0m\u001b[0;34m\u001b[0m\u001b[0m\n\u001b[1;32m     83\u001b[0m         \"\"\"\n\u001b[0;32m---> 84\u001b[0;31m         \u001b[0mself\u001b[0m\u001b[0;34m.\u001b[0m\u001b[0mlossTracker\u001b[0m\u001b[0;34m.\u001b[0m\u001b[0mupdateLosses\u001b[0m\u001b[0;34m(\u001b[0m\u001b[0mself\u001b[0m\u001b[0;34m.\u001b[0m\u001b[0mw\u001b[0m\u001b[0;34m)\u001b[0m\u001b[0;34m\u001b[0m\u001b[0m\n\u001b[0m\u001b[1;32m     85\u001b[0m \u001b[0;34m\u001b[0m\u001b[0m\n\u001b[1;32m     86\u001b[0m     \u001b[0;32mdef\u001b[0m \u001b[0mresults\u001b[0m\u001b[0;34m(\u001b[0m\u001b[0mself\u001b[0m\u001b[0;34m,\u001b[0m \u001b[0mextrakeys\u001b[0m\u001b[0;34m=\u001b[0m\u001b[0;34m[\u001b[0m\u001b[0;34m]\u001b[0m\u001b[0;34m)\u001b[0m\u001b[0;34m:\u001b[0m\u001b[0;34m\u001b[0m\u001b[0m\n",
      "\u001b[0;32m/home/ibackus/machine_learning/final_project/fitutils.pyc\u001b[0m in \u001b[0;36mupdateLosses\u001b[0;34m(self, w)\u001b[0m\n\u001b[1;32m     39\u001b[0m \u001b[0;34m\u001b[0m\u001b[0m\n\u001b[1;32m     40\u001b[0m             \u001b[0mx\u001b[0m\u001b[0;34m,\u001b[0m \u001b[0my\u001b[0m\u001b[0;34m,\u001b[0m \u001b[0mybin\u001b[0m \u001b[0;34m=\u001b[0m \u001b[0mdataset\u001b[0m\u001b[0;34m\u001b[0m\u001b[0m\n\u001b[0;32m---> 41\u001b[0;31m             \u001b[0mL\u001b[0m\u001b[0;34m,\u001b[0m \u001b[0mbinaryLoss\u001b[0m \u001b[0;34m=\u001b[0m \u001b[0mparent\u001b[0m\u001b[0;34m.\u001b[0m\u001b[0mloss\u001b[0m\u001b[0;34m(\u001b[0m\u001b[0mx\u001b[0m\u001b[0;34m,\u001b[0m \u001b[0my\u001b[0m\u001b[0;34m,\u001b[0m \u001b[0mybin\u001b[0m\u001b[0;34m,\u001b[0m \u001b[0mw\u001b[0m\u001b[0;34m=\u001b[0m\u001b[0mw\u001b[0m\u001b[0;34m,\u001b[0m \u001b[0mdataWeights\u001b[0m\u001b[0;34m=\u001b[0m\u001b[0mdataWeights\u001b[0m\u001b[0;34m)\u001b[0m\u001b[0;34m\u001b[0m\u001b[0m\n\u001b[0m\u001b[1;32m     42\u001b[0m \u001b[0;34m\u001b[0m\u001b[0m\n\u001b[1;32m     43\u001b[0m             \u001b[0;32mif\u001b[0m \u001b[0mself\u001b[0m\u001b[0;34m.\u001b[0m\u001b[0mverbose\u001b[0m\u001b[0;34m:\u001b[0m\u001b[0;34m\u001b[0m\u001b[0m\n",
      "\u001b[0;32m/home/ibackus/machine_learning/final_project/fitutils.pyc\u001b[0m in \u001b[0;36mloss\u001b[0;34m(self, x, y, ybin, w, arrayBatchSize, nCheck, dataWeights)\u001b[0m\n\u001b[1;32m    255\u001b[0m         \u001b[0;32mfor\u001b[0m \u001b[0mslicer\u001b[0m \u001b[0;32min\u001b[0m \u001b[0mutils\u001b[0m\u001b[0;34m.\u001b[0m\u001b[0marrayBatch\u001b[0m\u001b[0;34m(\u001b[0m\u001b[0mx\u001b[0m\u001b[0;34m,\u001b[0m \u001b[0marrayBatchSize\u001b[0m\u001b[0;34m)\u001b[0m\u001b[0;34m:\u001b[0m\u001b[0;34m\u001b[0m\u001b[0m\n\u001b[1;32m    256\u001b[0m \u001b[0;34m\u001b[0m\u001b[0m\n\u001b[0;32m--> 257\u001b[0;31m             \u001b[0mh\u001b[0m \u001b[0;34m=\u001b[0m \u001b[0mself\u001b[0m\u001b[0;34m.\u001b[0m\u001b[0mfeatureMap\u001b[0m\u001b[0;34m(\u001b[0m\u001b[0mx\u001b[0m\u001b[0;34m[\u001b[0m\u001b[0mslicer\u001b[0m\u001b[0;34m]\u001b[0m\u001b[0;34m)\u001b[0m\u001b[0;34m\u001b[0m\u001b[0m\n\u001b[0m\u001b[1;32m    258\u001b[0m             \u001b[0my1\u001b[0m \u001b[0;34m=\u001b[0m \u001b[0my\u001b[0m\u001b[0;34m[\u001b[0m\u001b[0mslicer\u001b[0m\u001b[0;34m]\u001b[0m\u001b[0;34m\u001b[0m\u001b[0m\n\u001b[1;32m    259\u001b[0m             \u001b[0mybin1\u001b[0m \u001b[0;34m=\u001b[0m \u001b[0mybin\u001b[0m\u001b[0;34m[\u001b[0m\u001b[0mslicer\u001b[0m\u001b[0;34m]\u001b[0m\u001b[0;34m\u001b[0m\u001b[0m\n",
      "\u001b[0;32m/home/ibackus/machine_learning/final_project/RBFkernel.pyc\u001b[0m in \u001b[0;36m__call__\u001b[0;34m(self, x)\u001b[0m\n\u001b[1;32m     61\u001b[0m         \u001b[0mMap\u001b[0m \u001b[0mx\u001b[0m \u001b[0musing\u001b[0m \u001b[0mthe\u001b[0m \u001b[0mRBFkernel\u001b[0m \u001b[0mfeature\u001b[0m \u001b[0mmap\u001b[0m\u001b[0;34m\u001b[0m\u001b[0m\n\u001b[1;32m     62\u001b[0m         \"\"\"\n\u001b[0;32m---> 63\u001b[0;31m         \u001b[0;32mreturn\u001b[0m \u001b[0mself\u001b[0m\u001b[0;34m.\u001b[0m\u001b[0mperformMap\u001b[0m\u001b[0;34m(\u001b[0m\u001b[0mx\u001b[0m\u001b[0;34m)\u001b[0m\u001b[0;34m\u001b[0m\u001b[0m\n\u001b[0m\u001b[1;32m     64\u001b[0m \u001b[0;34m\u001b[0m\u001b[0m\n\u001b[1;32m     65\u001b[0m     \u001b[0;32mdef\u001b[0m \u001b[0msetupBandwidth\u001b[0m\u001b[0;34m(\u001b[0m\u001b[0mself\u001b[0m\u001b[0;34m,\u001b[0m \u001b[0mscale\u001b[0m\u001b[0;34m=\u001b[0m\u001b[0mNone\u001b[0m\u001b[0;34m,\u001b[0m \u001b[0mnCheckBandwidth\u001b[0m\u001b[0;34m=\u001b[0m\u001b[0mNone\u001b[0m\u001b[0;34m)\u001b[0m\u001b[0;34m:\u001b[0m\u001b[0;34m\u001b[0m\u001b[0m\n",
      "\u001b[0;32m/home/ibackus/machine_learning/final_project/RBFkernel.pyc\u001b[0m in \u001b[0;36mperformMap\u001b[0;34m(self, x)\u001b[0m\n\u001b[1;32m    116\u001b[0m         \u001b[0mD2\u001b[0m \u001b[0;34m+=\u001b[0m \u001b[0mx2sum0\u001b[0m \u001b[0;31m# Add x2sum0 to the rows\u001b[0m\u001b[0;34m\u001b[0m\u001b[0m\n\u001b[1;32m    117\u001b[0m         \u001b[0;31m# Exponentiate to perform mapping\u001b[0m\u001b[0;34m\u001b[0m\u001b[0;34m\u001b[0m\u001b[0m\n\u001b[0;32m--> 118\u001b[0;31m         \u001b[0mH\u001b[0m \u001b[0;34m=\u001b[0m \u001b[0mnp\u001b[0m\u001b[0;34m.\u001b[0m\u001b[0mexp\u001b[0m\u001b[0;34m(\u001b[0m\u001b[0;34m-\u001b[0m\u001b[0mD2\u001b[0m \u001b[0;34m*\u001b[0m \u001b[0mself\u001b[0m\u001b[0;34m.\u001b[0m\u001b[0m_lengthscale\u001b[0m\u001b[0;34m)\u001b[0m\u001b[0;34m\u001b[0m\u001b[0m\n\u001b[0m\u001b[1;32m    119\u001b[0m         \u001b[0;31m# Scalar offset\u001b[0m\u001b[0;34m\u001b[0m\u001b[0;34m\u001b[0m\u001b[0m\n\u001b[1;32m    120\u001b[0m         \u001b[0;32mif\u001b[0m \u001b[0mself\u001b[0m\u001b[0;34m.\u001b[0m\u001b[0mscalarOffset\u001b[0m\u001b[0;34m:\u001b[0m\u001b[0;34m\u001b[0m\u001b[0m\n",
      "\u001b[0;31mKeyboardInterrupt\u001b[0m: "
     ]
    }
   ],
   "source": [
    "try:\n",
    "    rbf.fit(maxIter=30)\n",
    "finally:\n",
    "    pickle.dump(rbf, open('rbf_results.p', 'w'), 2)"
   ]
  },
  {
   "cell_type": "markdown",
   "metadata": {},
   "source": [
    "## Linear Random Map"
   ]
  },
  {
   "cell_type": "code",
   "execution_count": 148,
   "metadata": {
    "collapsed": false,
    "scrolled": true
   },
   "outputs": [
    {
     "name": "stdout",
     "output_type": "stream",
     "text": [
      "training loss: 1.38754314995e-05\n",
      "training 0/1 loss: 0.597377639876\n",
      "\n",
      "Step:  1\n",
      "training loss: 7.79724710975e-06\n",
      "training 0/1 loss: 0.123150835752\n",
      "\n",
      "Step:  2\n",
      "training loss: 7.57871792804e-06\n",
      "training 0/1 loss: 0.121569412471\n",
      "\n",
      "Step:  3\n",
      "training loss: 7.53030948607e-06\n",
      "training 0/1 loss: 0.122550295266\n",
      "\n",
      "Step:  4\n",
      "training loss: 7.54084080262e-06\n",
      "training 0/1 loss: 0.122390151136\n",
      "\n",
      "Step:  5\n",
      "training loss: 7.45642685341e-06\n",
      "training 0/1 loss: 0.122350115104\n",
      "\n",
      "Step:  6\n",
      "training loss: 7.5583006008e-06\n",
      "training 0/1 loss: 0.124051646482\n",
      "\n",
      "Converged\n"
     ]
    }
   ],
   "source": [
    "lrm = LinearRandom(xtrain, ytrain, lossScheme='softmax', learningRateScale=5e-4, regScale=0., miniBatchSize=50, \\\n",
    "                  tau0=int(1e5), kappa=0.55, nRandFeatures=len(xtrain))\n",
    "try:\n",
    "    lrm.fit(maxIter=30)\n",
    "finally:\n",
    "    pickle.dump(lrm, open('lrm_results.p', 'w'), 2)"
   ]
  },
  {
   "cell_type": "markdown",
   "metadata": {
    "collapsed": true
   },
   "source": [
    "## Ensemble Predictions"
   ]
  },
  {
   "cell_type": "code",
   "execution_count": 15,
   "metadata": {
    "collapsed": false
   },
   "outputs": [],
   "source": [
    "# Load results\n",
    "rbf = pickle.load(open('rbf_results.p','r'))\n",
    "lrm = pickle.load(open('lrm_results.p','r'))\n",
    "# kmSaveDict = pickle.load(open('kmeans.p', 'r'))"
   ]
  },
  {
   "cell_type": "code",
   "execution_count": 16,
   "metadata": {
    "collapsed": false
   },
   "outputs": [],
   "source": [
    "def softmaxProb(x, w):\n",
    "    \"\"\"\n",
    "    For binary softmax (eg logistic) gives probablity of x being in class 1 given w.\n",
    "    \"\"\"\n",
    "    N, m = w.shape\n",
    "    k = m + 1\n",
    "    E = np.exp(np.dot(x, w))\n",
    "    A = 1./(1 + E.sum(1))\n",
    "    A = utils.columnVector(A)    \n",
    "    P = np.dot(A, np.ones([1, k]))    \n",
    "    P[:, 0:-1] *= E\n",
    "    \n",
    "    return P[:, 1, None]"
   ]
  },
  {
   "cell_type": "code",
   "execution_count": 17,
   "metadata": {
    "collapsed": true
   },
   "outputs": [],
   "source": [
    "def kernelizedSoftmaxProb(x, w, featureMap, batchsize=100):\n",
    "    \"\"\"\n",
    "    \"\"\"\n",
    "    P = np.zeros([len(x), 1])\n",
    "    for slicer in utils.arrayBatch(x, batchsize):\n",
    "        h = featureMap(x[slicer])\n",
    "        P[slicer] = softmaxProb(h, w)\n",
    "    return P\n"
   ]
  },
  {
   "cell_type": "markdown",
   "metadata": {},
   "source": [
    "### Set up predictors"
   ]
  },
  {
   "cell_type": "code",
   "execution_count": 18,
   "metadata": {
    "collapsed": true
   },
   "outputs": [],
   "source": [
    "def predictor_kmeans(x):\n",
    "    x = pca.proj(x,vkmeans, nKeepKmeans)\n",
    "    kmPred = km.pred(x)\n",
    "    kmConf = (2 * km.confidence(x) - 1)\n",
    "    kmPred = (2 * kmPred - 1) * kmConf\n",
    "    return kmPred\n",
    "def predictor_gm(x):\n",
    "    x = pca.proj(x, vgaussian, nKeepGauss)\n",
    "    gmPred = gm.pred(x)\n",
    "    gmConf = 2 * gm.confidence(x) - 1\n",
    "    gmPred = (2 * gmPred - 1) * gmConf\n",
    "    return gmPred\n",
    "def predictor_lin(x):\n",
    "    linPred = lr.pred(x)\n",
    "    linConf = lr.confidence(x)\n",
    "    linPred = (2 * linPred - 1) * linConf\n",
    "    return linPred\n",
    "def predictor_log(x):\n",
    "    logPred = 2 * softmaxProb(logistic.featureMap(x), logistic.sgd.w) - 1\n",
    "    return logPred\n",
    "def predictor_lrm(x):\n",
    "    return 2 * kernelizedSoftmaxProb(x, lrm.results['w'], lrm.featureMap) - 1\n",
    "def predictor_rbf(x):\n",
    "    return 2 * kernelizedSoftmaxProb(x, rbf.results['w'], rbf.featureMap) - 1\n",
    "predFuncs = {'kmeans': predictor_kmeans,\n",
    "            'gm': predictor_gm,\n",
    "            'lin': predictor_lin,\n",
    "            'log': predictor_log,\n",
    "            'lrm': predictor_lrm,\n",
    "            'rbf': predictor_rbf}"
   ]
  },
  {
   "cell_type": "code",
   "execution_count": 153,
   "metadata": {
    "collapsed": false,
    "scrolled": true
   },
   "outputs": [
    {
     "name": "stdout",
     "output_type": "stream",
     "text": [
      "Calculating prediction for:  log\n",
      "Calculating prediction for:  lin\n",
      "Calculating prediction for:  lrm\n",
      "Calculating prediction for:  kmeans\n",
      "Calculating prediction for:  rbf\n",
      "Calculating prediction for:  gm\n"
     ]
    }
   ],
   "source": [
    "# Training predictions\n",
    "predictions = {}\n",
    "for name, predFunc in predFuncs.iteritems():\n",
    "    print 'Calculating prediction for: ', name\n",
    "    predictions[name] = predFunc(xtrain)\n",
    "pickle.dump(predictions, open('predictions_train.p', 'w'))"
   ]
  },
  {
   "cell_type": "code",
   "execution_count": 19,
   "metadata": {
    "collapsed": true
   },
   "outputs": [],
   "source": [
    "# Load the predictions\n",
    "predictions = pickle.load(open('predictions_train.p'))\n",
    "forestPredTrain, forestPredTest = pickle.load(open('forest_predictions.p','r'))\n",
    "predictions['random forest'] = forestPredTrain\n",
    "predictions['l2boost'] = boostPred(xtrain)"
   ]
  },
  {
   "cell_type": "code",
   "execution_count": 20,
   "metadata": {
    "collapsed": false
   },
   "outputs": [],
   "source": [
    "predictorNames = sorted(predictions.keys())\n",
    "allPred = [predictions[key].T for key in predictorNames]\n",
    "allPred = np.concatenate(allPred).T"
   ]
  },
  {
   "cell_type": "code",
   "execution_count": 181,
   "metadata": {
    "collapsed": false
   },
   "outputs": [
    {
     "data": {
      "image/png": "[encoded data removed]",
      "text/plain": [
       "<matplotlib.figure.Figure at 0x7fafda373410>"
      ]
     },
     "metadata": {},
     "output_type": "display_data"
    }
   ],
   "source": [
    "bins = np.linspace(-1, 1, 11)\n",
    "bincenters = (bins[1:] + bins[0:-1])/2.\n",
    "for p in allPred.T:\n",
    "    N, dummy = np.histogram(p, bins)\n",
    "    plt.plot(bincenters, N, next(linecycler))\n",
    "plt.legend(predictorNames, ncol=2, loc='best');\n",
    "plt.savefig('figures/confidence_dist.pdf')"
   ]
  },
  {
   "cell_type": "markdown",
   "metadata": {},
   "source": [
    "### Find best predictor weights"
   ]
  },
  {
   "cell_type": "code",
   "execution_count": 21,
   "metadata": {
    "collapsed": false
   },
   "outputs": [],
   "source": [
    "def multiPredictor(w, predictions):\n",
    "    w = abs(w)\n",
    "    predval = (predictions * w).sum(1)\n",
    "    ypred = np.zeros([len(predval), 1])\n",
    "    ypred[predval > 0] = 1\n",
    "    return ypred\n",
    "\n",
    "def multiPredictorLoss(w, predictions=allPred, regularization=0.1, y=ytrain):\n",
    "    ypred = multiPredictor(w, predictions)\n",
    "#     print ypred.shape, y.shape\n",
    "    L = (ypred != y).mean() + regularization * (w**2).sum()\n",
    "    return L"
   ]
  },
  {
   "cell_type": "markdown",
   "metadata": {},
   "source": [
    "#### Fit predictor weights to y in [-1, 1]"
   ]
  },
  {
   "cell_type": "code",
   "execution_count": 22,
   "metadata": {
    "collapsed": false,
    "scrolled": true
   },
   "outputs": [
    {
     "name": "stdout",
     "output_type": "stream",
     "text": [
      "0\n",
      "Optimization terminated successfully.\n",
      "         Current function value: 0.110098\n",
      "         Iterations: 318\n",
      "         Function evaluations: 516\n",
      "1\n",
      "Optimization terminated successfully.\n",
      "         Current function value: 0.135723\n",
      "         Iterations: 498\n",
      "         Function evaluations: 787\n",
      "2\n",
      "Optimization terminated successfully.\n",
      "         Current function value: 0.138998\n",
      "         Iterations: 294\n",
      "         Function evaluations: 475\n",
      "3\n",
      "Optimization terminated successfully.\n",
      "         Current function value: 0.116622\n",
      "         Iterations: 372\n",
      "         Function evaluations: 609\n",
      "4\n",
      "Optimization terminated successfully.\n",
      "         Current function value: 0.142606\n",
      "         Iterations: 396\n",
      "         Function evaluations: 624\n",
      "5\n",
      "Optimization terminated successfully.\n",
      "         Current function value: 0.119464\n",
      "         Iterations: 323\n",
      "         Function evaluations: 533\n",
      "6\n",
      "Optimization terminated successfully.\n",
      "         Current function value: 0.123514\n",
      "         Iterations: 423\n",
      "         Function evaluations: 668\n",
      "7\n",
      "Optimization terminated successfully.\n",
      "         Current function value: 0.107847\n",
      "         Iterations: 523\n",
      "         Function evaluations: 820\n",
      "8\n",
      "Optimization terminated successfully.\n",
      "         Current function value: 0.110225\n",
      "         Iterations: 447\n",
      "         Function evaluations: 709\n",
      "9\n",
      "Optimization terminated successfully.\n",
      "         Current function value: 0.128354\n",
      "         Iterations: 273\n",
      "         Function evaluations: 446\n",
      "10\n",
      "Optimization terminated successfully.\n",
      "         Current function value: 0.116608\n",
      "         Iterations: 545\n",
      "         Function evaluations: 824\n",
      "11\n",
      "Optimization terminated successfully.\n",
      "         Current function value: 0.131867\n",
      "         Iterations: 327\n",
      "         Function evaluations: 525\n",
      "12\n",
      "Optimization terminated successfully.\n",
      "         Current function value: 0.121220\n",
      "         Iterations: 495\n",
      "         Function evaluations: 779\n",
      "13\n",
      "Optimization terminated successfully.\n",
      "         Current function value: 0.112369\n",
      "         Iterations: 216\n",
      "         Function evaluations: 383\n",
      "14\n",
      "Optimization terminated successfully.\n",
      "         Current function value: 0.115285\n",
      "         Iterations: 510\n",
      "         Function evaluations: 773\n",
      "15\n",
      "Optimization terminated successfully.\n",
      "         Current function value: 0.106584\n",
      "         Iterations: 519\n",
      "         Function evaluations: 820\n",
      "16\n",
      "Optimization terminated successfully.\n",
      "         Current function value: 0.123120\n",
      "         Iterations: 365\n",
      "         Function evaluations: 579\n",
      "17\n",
      "Optimization terminated successfully.\n",
      "         Current function value: 0.117304\n",
      "         Iterations: 403\n",
      "         Function evaluations: 643\n",
      "18\n",
      "Optimization terminated successfully.\n",
      "         Current function value: 0.114921\n",
      "         Iterations: 385\n",
      "         Function evaluations: 621\n",
      "19\n",
      "Optimization terminated successfully.\n",
      "         Current function value: 0.113404\n",
      "         Iterations: 269\n",
      "         Function evaluations: 451\n",
      "20\n",
      "Optimization terminated successfully.\n",
      "         Current function value: 0.138651\n",
      "         Iterations: 441\n",
      "         Function evaluations: 715\n",
      "21\n",
      "Optimization terminated successfully.\n",
      "         Current function value: 0.116169\n",
      "         Iterations: 411\n",
      "         Function evaluations: 634\n",
      "22\n",
      "Optimization terminated successfully.\n",
      "         Current function value: 0.154765\n",
      "         Iterations: 347\n",
      "         Function evaluations: 575\n",
      "23\n",
      "Optimization terminated successfully.\n",
      "         Current function value: 0.107591\n",
      "         Iterations: 422\n",
      "         Function evaluations: 664\n",
      "24\n",
      "Optimization terminated successfully.\n",
      "         Current function value: 0.124155\n",
      "         Iterations: 533\n",
      "         Function evaluations: 831\n",
      "\n",
      "Predictor weights: \n",
      "random forest \t0.0829691795428\n",
      "rbf \t0.0419432419664\n",
      "kmeans \t0.0196126825661\n",
      "log \t0.0181424981573\n",
      "gm \t0.00831918578227\n",
      "lrm \t0.00554621079765\n",
      "l2boost \t0.0048740651755\n",
      "lin \t0.00349968803825\n",
      "unregularized loss:  0.105635071564\n"
     ]
    }
   ],
   "source": [
    "# Find function weights that minimize the loss\n",
    "allPredictorWeights = []\n",
    "losses = []\n",
    "for i in range(25):\n",
    "    print i\n",
    "    output = fmin(multiPredictorLoss, np.random.rand(len(predictorNames)), full_output=True)\n",
    "    allPredictorWeights.append(abs(output[0]))\n",
    "    losses.append(output[1])\n",
    "    \n",
    "ind = np.argmin(losses)\n",
    "predictorWeights = allPredictorWeights[ind]\n",
    "print ''\n",
    "print 'Predictor weights: '\n",
    "ind = np.argsort((-predictorWeights))\n",
    "for i in ind:\n",
    "    print predictorNames[i], '\\t', predictorWeights[i]\n",
    "    \n",
    "bestLoss = multiPredictorLoss(predictorWeights, regularization=0.)\n",
    "print 'unregularized loss: ', bestLoss\n",
    "pickle.dump(predictorWeights, open('predictor_weights.p', 'w'), 2)"
   ]
  },
  {
   "cell_type": "code",
   "execution_count": 23,
   "metadata": {
    "collapsed": false
   },
   "outputs": [
    {
     "name": "stdout",
     "output_type": "stream",
     "text": [
      "0.448708219865\n",
      "0.226834561241\n",
      "0.106067963182\n",
      "0.0981170128106\n",
      "0.0449912493249\n",
      "0.0299946364147\n",
      "0.0263595846127\n",
      "0.0189267725483\n",
      "random forest\n",
      "rbf\n",
      "kmeans\n",
      "log\n",
      "gm\n",
      "lrm\n",
      "l2boost\n",
      "lin\n"
     ]
    }
   ],
   "source": [
    "ind = np.argsort((-predictorWeights))\n",
    "norm = np.sum(predictorWeights)\n",
    "for i in ind:\n",
    "    print predictorWeights[i]/norm\n",
    "for i in ind:\n",
    "    print predictorNames[i]"
   ]
  },
  {
   "cell_type": "markdown",
   "metadata": {},
   "source": [
    "#### Test"
   ]
  },
  {
   "cell_type": "code",
   "execution_count": 24,
   "metadata": {
    "collapsed": false
   },
   "outputs": [
    {
     "name": "stdout",
     "output_type": "stream",
     "text": [
      "Calculating prediction for:  log\n",
      "Calculating prediction for:  lin\n",
      "Calculating prediction for:  lrm\n",
      "Calculating prediction for:  kmeans\n",
      "Calculating prediction for:  rbf\n",
      "Calculating prediction for:  gm\n"
     ]
    }
   ],
   "source": [
    "# Test predictions\n",
    "testPredictions = {}\n",
    "for name, predFunc in predFuncs.iteritems():\n",
    "    print 'Calculating prediction for: ', name\n",
    "    testPredictions[name] = predFunc(xtest)\n",
    "pickle.dump(testPredictions, open('predictions_test.p', 'w'))"
   ]
  },
  {
   "cell_type": "code",
   "execution_count": 25,
   "metadata": {
    "collapsed": true
   },
   "outputs": [],
   "source": [
    "testPredictions = pickle.load(open('predictions_test.p', 'r'))\n",
    "testPredictions['random forest'] = forestPredTest\n",
    "testPredictions['l2boost'] = boostPred(xtest)"
   ]
  },
  {
   "cell_type": "code",
   "execution_count": 26,
   "metadata": {
    "collapsed": false
   },
   "outputs": [],
   "source": [
    "allTestPred = [testPredictions[key].T for key in predictorNames]\n",
    "allTestPred = np.concatenate(allTestPred).T\n",
    "testLoss = multiPredictorLoss(predictorWeights, allTestPred, regularization=0., y=ytest)"
   ]
  },
  {
   "cell_type": "code",
   "execution_count": 27,
   "metadata": {
    "collapsed": false
   },
   "outputs": [
    {
     "name": "stdout",
     "output_type": "stream",
     "text": [
      "0.11750575518\n"
     ]
    }
   ],
   "source": [
    "print testLoss"
   ]
  },
  {
   "cell_type": "markdown",
   "metadata": {},
   "source": [
    "### Echo losses"
   ]
  },
  {
   "cell_type": "code",
   "execution_count": 28,
   "metadata": {
    "collapsed": false
   },
   "outputs": [
    {
     "name": "stdout",
     "output_type": "stream",
     "text": [
      "Training 0/1 loss\n",
      "\n",
      "0.245581022921\n",
      "0.290801721549\n",
      "0.114763286958\n",
      "0.114783304974\n",
      "0.113502151937\n",
      "0.124051646482\n",
      "0.114022620358\n",
      "0.159943949555\n",
      "gm\n",
      "kmeans\n",
      "l2boost\n",
      "lin\n",
      "log\n",
      "lrm\n",
      "random forest\n",
      "rbf\n"
     ]
    }
   ],
   "source": [
    "print 'Training 0/1 loss\\n'\n",
    "for i, name in enumerate(predictorNames):\n",
    "    ypred = allPred[:, i, None] > 0\n",
    "    print (ypred != ytrain).mean()\n",
    "for i, name in enumerate(predictorNames):\n",
    "    print name"
   ]
  },
  {
   "cell_type": "code",
   "execution_count": 29,
   "metadata": {
    "collapsed": false
   },
   "outputs": [
    {
     "name": "stdout",
     "output_type": "stream",
     "text": [
      "Test 0/1 loss\n",
      "\n",
      "0.254829346412\n",
      "0.310579521569\n",
      "0.123210889801\n",
      "0.123010709639\n",
      "0.121108998098\n",
      "0.132619357422\n",
      "0.127614853368\n",
      "0.161545390852\n",
      "gm\n",
      "kmeans\n",
      "l2boost\n",
      "lin\n",
      "log\n",
      "lrm\n",
      "random forest\n",
      "rbf\n"
     ]
    }
   ],
   "source": [
    "print 'Test 0/1 loss\\n'\n",
    "for i, name in enumerate(predictorNames):\n",
    "    ypred = allTestPred[:, i, None] > 0\n",
    "    print (ypred != ytest).mean()\n",
    "    \n",
    "for i, name in enumerate(predictorNames):\n",
    "    print name"
   ]
  },
  {
   "cell_type": "markdown",
   "metadata": {},
   "source": [
    "#### Fit predictor weights to y in {-1, 1} (binary"
   ]
  },
  {
   "cell_type": "code",
   "execution_count": 165,
   "metadata": {
    "collapsed": false
   },
   "outputs": [],
   "source": [
    "def makeBinaryFromPred(y):\n",
    "    ybin = np.ones(y.shape)\n",
    "    ybin[y < 0] = -1\n",
    "    return ybin"
   ]
  },
  {
   "cell_type": "markdown",
   "metadata": {},
   "source": [
    "# IMPLEMENT THIS (fit predictor weights to binary y)"
   ]
  },
  {
   "cell_type": "code",
   "execution_count": 112,
   "metadata": {
    "collapsed": false,
    "scrolled": false
   },
   "outputs": [
    {
     "name": "stdout",
     "output_type": "stream",
     "text": [
      "speaks_latvian\n",
      "speaks_serbian\n",
      "education_ph.d program\n",
      "sign_taurus\n",
      "speaks_lisp\n",
      "speaks_georgian\n",
      "education_law school\n",
      "diet_strictly halal\n",
      "diet_mostly halal\n",
      "speaks_catalan\n",
      "speaks_swahili\n",
      "speaks_ukrainian\n",
      "speaks_tamil\n",
      "speaks_albanian\n",
      "smokes_trying to quit\n",
      "religion_agnosticism\n",
      "speaks_esperanto\n",
      "education_working on med school\n",
      "sign_aries\n",
      "speaks_mongolian\n"
     ]
    }
   ],
   "source": [
    "ind = abs(lr.w).flatten().argsort()\n",
    "for i in ind[0:20]:\n",
    "    print names[i]"
   ]
  },
  {
   "cell_type": "code",
   "execution_count": 114,
   "metadata": {
    "collapsed": false
   },
   "outputs": [
    {
     "data": {
      "text/plain": [
       "217"
      ]
     },
     "execution_count": 114,
     "metadata": {},
     "output_type": "execute_result"
    }
   ],
   "source": []
  },
  {
   "cell_type": "code",
   "execution_count": 108,
   "metadata": {
    "collapsed": true
   },
   "outputs": [],
   "source": [
    "mask = np.array(['sign' in name for name in featureName"
   ]
  },
  {
   "cell_type": "code",
   "execution_count": null,
   "metadata": {
    "collapsed": true
   },
   "outputs": [],
   "source": []
  }
 ],
 "metadata": {
  "kernelspec": {
   "display_name": "Python 2",
   "language": "python",
   "name": "python2"
  },
  "language_info": {
   "codemirror_mode": {
    "name": "ipython",
    "version": 2
   },
   "file_extension": ".py",
   "mimetype": "text/x-python",
   "name": "python",
   "nbconvert_exporter": "python",
   "pygments_lexer": "ipython2",
   "version": "2.7.12"
  }
 },
 "nbformat": 4,
 "nbformat_minor": 1
}
