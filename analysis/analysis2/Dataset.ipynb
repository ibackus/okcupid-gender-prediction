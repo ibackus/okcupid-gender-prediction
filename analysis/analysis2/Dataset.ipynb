{
 "cells": [
  {
   "cell_type": "code",
   "execution_count": 9,
   "metadata": {
    "collapsed": false
   },
   "outputs": [
    {
     "name": "stdout",
     "output_type": "stream",
     "text": [
      "The autoreload extension is already loaded. To reload it, use:\n",
      "  %reload_ext autoreload\n"
     ]
    }
   ],
   "source": [
    "%load_ext autoreload\n",
    "%autoreload 2\n",
    "%matplotlib inline"
   ]
  },
  {
   "cell_type": "code",
   "execution_count": 10,
   "metadata": {
    "collapsed": true
   },
   "outputs": [],
   "source": [
    "# External imports\n",
    "import numpy as np\n",
    "import cPickle as pickle\n",
    "import pandas as pd\n",
    "import matplotlib.pyplot as plt\n",
    "from scipy.optimize import fmin"
   ]
  },
  {
   "cell_type": "code",
   "execution_count": 7,
   "metadata": {
    "collapsed": false
   },
   "outputs": [],
   "source": [
    "rawDF = pickle.load(open('filtered_df.p'))"
   ]
  },
  {
   "cell_type": "markdown",
   "metadata": {},
   "source": [
    "# Overview of the Data"
   ]
  },
  {
   "cell_type": "code",
   "execution_count": 8,
   "metadata": {
    "collapsed": false
   },
   "outputs": [
    {
     "name": "stdout",
     "output_type": "stream",
     "text": [
      "sex = 40.2% female, 59.8% male\n",
      "Number of profiles = 59946\n",
      "Number of features = 102\n",
      "Age:\n",
      "   range = 18.0 - 69.0\n",
      "   mean = 32.3377152009\n",
      "   median = 30.0\n",
      "\n",
      "response rate:\n",
      "\n",
      "lowest response rates: \n",
      "has_kids               0.406783\n",
      "religion_importance    0.466069\n",
      "likes_cats             0.477480\n",
      "diet_kosher            0.593050\n",
      "diet_anything          0.593050\n",
      "dtype: float64\n",
      "avg response rate: 0.811618692117\n"
     ]
    }
   ],
   "source": [
    "maleFrac = rawDF['sex_m'].mean()\n",
    "print 'sex = {0:.1f}% female, {1:.1f}% male'.format(100*(1-maleFrac), 100*maleFrac)\n",
    "\n",
    "print 'Number of profiles =', len(rawDF)\n",
    "print 'Number of features =', rawDF.shape[1]\n",
    "\n",
    "# Filter out extremely high ages\n",
    "age = rawDF['age'][rawDF['age'] < 100]\n",
    "print 'Age:'\n",
    "print '   range = {0} - {1}'.format(age.min(), age.max())\n",
    "print '   mean =', age.mean()\n",
    "print '   median =', age.median()\n",
    "\n",
    "print ''\n",
    "print 'response rate:'\n",
    "reseponseRate = rawDF.notnull().mean(1)\n",
    "reseponseRate.describe()\n",
    "\n",
    "print ''\n",
    "print 'lowest response rates: '\n",
    "a = rawDF.notnull().mean()\n",
    "a.sort()\n",
    "print a[0:5]\n",
    "\n",
    "print 'avg response rate:', reseponseRate.mean()"
   ]
  },
  {
   "cell_type": "markdown",
   "metadata": {
    "collapsed": true
   },
   "source": [
    "### Full Feature set"
   ]
  },
  {
   "cell_type": "code",
   "execution_count": 11,
   "metadata": {
    "collapsed": false
   },
   "outputs": [
    {
     "name": "stdout",
     "output_type": "stream",
     "text": [
      "orientation_bisexual\n",
      "orientation_gay\n",
      "orientation_straight\n",
      "height\n",
      "body_type_a little extra\n",
      "body_type_athletic\n",
      "body_type_average\n",
      "body_type_curvy\n",
      "body_type_fit\n",
      "body_type_full figured\n",
      "body_type_jacked\n",
      "body_type_overweight\n",
      "body_type_rather not say\n",
      "body_type_skinny\n",
      "body_type_thin\n",
      "body_type_used up\n",
      "ethnicity_asian\n",
      "ethnicity_black\n",
      "ethnicity_hispanic / latin\n",
      "ethnicity_indian\n",
      "ethnicity_middle eastern\n",
      "ethnicity_native american\n",
      "ethnicity_other\n",
      "ethnicity_pacific islander\n",
      "ethnicity_white\n",
      "drinks\n",
      "likes_cats\n",
      "likes_dogs\n",
      "has_cats\n",
      "religion_agnosticism\n",
      "religion_atheism\n",
      "religion_buddhism\n",
      "religion_catholicism\n",
      "religion_christianity\n",
      "religion_hinduism\n",
      "religion_islam\n",
      "religion_judaism\n",
      "religion_other\n",
      "speaks_c++\n",
      "speaks_english\n",
      "has_kids\n",
      "religion_importance\n",
      "status_available\n",
      "status_married\n",
      "status_seeing someone\n",
      "status_single\n",
      "status_unknown\n",
      "drugs\n",
      "diet_anything\n",
      "diet_halal\n",
      "diet_kosher\n",
      "diet_mostly anything\n",
      "diet_mostly halal\n",
      "diet_mostly kosher\n",
      "diet_mostly other\n",
      "diet_mostly vegan\n",
      "diet_mostly vegetarian\n",
      "diet_other\n",
      "diet_strictly anything\n",
      "diet_strictly halal\n",
      "diet_strictly kosher\n",
      "diet_strictly other\n",
      "diet_strictly vegan\n",
      "diet_strictly vegetarian\n",
      "diet_vegan\n",
      "diet_vegetarian\n",
      "job_artistic / musical / writer\n",
      "job_banking / financial / real estate\n",
      "job_clerical / administrative\n",
      "job_computer / hardware / software\n",
      "job_construction / craftsmanship\n",
      "job_education / academia\n",
      "job_entertainment / media\n",
      "job_executive / management\n",
      "job_hospitality / travel\n",
      "job_law / legal services\n",
      "job_medicine / health\n",
      "job_military\n",
      "job_other\n",
      "job_political / government\n",
      "job_rather not say\n",
      "job_retired\n",
      "job_sales / marketing / biz dev\n",
      "job_science / tech / engineering\n",
      "job_student\n",
      "job_transportation\n",
      "job_unemployed\n",
      "sex_m\n",
      "num_languages\n",
      "sign_matters_it doesn&rsquo;t matter\n",
      "sign_matters_it matters a lot\n",
      "sign_matters_it&rsquo;s fun to think about\n",
      "age\n",
      "smokes_no\n",
      "smokes_sometimes\n",
      "smokes_trying to quit\n",
      "smokes_when drinking\n",
      "smokes_yes\n",
      "has_dogs\n",
      "sign_responded\n",
      "spacecamp\n",
      "education_level\n"
     ]
    }
   ],
   "source": [
    "for feature in rawDF.columns:\n",
    "    print feature"
   ]
  },
  {
   "cell_type": "code",
   "execution_count": null,
   "metadata": {
    "collapsed": true
   },
   "outputs": [],
   "source": []
  }
 ],
 "metadata": {
  "kernelspec": {
   "display_name": "Python 2",
   "language": "python",
   "name": "python2"
  },
  "language_info": {
   "codemirror_mode": {
    "name": "ipython",
    "version": 2
   },
   "file_extension": ".py",
   "mimetype": "text/x-python",
   "name": "python",
   "nbconvert_exporter": "python",
   "pygments_lexer": "ipython2",
   "version": "2.7.12"
  }
 },
 "nbformat": 4,
 "nbformat_minor": 1
}
